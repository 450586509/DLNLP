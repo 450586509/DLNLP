{
 "cells": [
  {
   "cell_type": "code",
   "execution_count": 1,
   "metadata": {
    "collapsed": false
   },
   "outputs": [
    {
     "name": "stderr",
     "output_type": "stream",
     "text": [
      "Using TensorFlow backend.\n"
     ]
    }
   ],
   "source": [
    "from __future__ import print_function\n",
    "\n",
    "import numpy as np\n",
    "np.random.seed(1337)  # for reproducibility\n",
    "from os.path import join\n",
    "from keras.preprocessing import sequence\n",
    "from keras.models import Sequential\n",
    "from keras.layers import Dense, Dropout,Activation, Lambda,Input\n",
    "from keras.layers import Embedding\n",
    "from keras.layers import Convolution1D\n",
    "from keras.datasets import imdb\n",
    "from keras import backend as K\n",
    "from keras.layers import Convolution1D, GlobalMaxPooling1D,Convolution2D\n",
    "\n",
    "from keras.models import Model\n",
    "\n",
    "def character_vec_dict(vec_path=''):\n",
    "    print('loading character embedding')\n",
    "    vec_dic={}\n",
    "    with open(vec_path) as fr:\n",
    "        lines = fr.readlines()\n",
    "        for line in lines[1:]:\n",
    "            try :\n",
    "                v = [float(i) for i in line[1:].split()]\n",
    "                vec_dic[line[0]] = v\n",
    "            except:\n",
    "                pass\n",
    "    vec_dic[u'*'] = [float(0) for _ in range(200)]\n",
    "    return vec_dic\n",
    "\n",
    "def sen_len(train_path=''):\n",
    "    print('calculating sentence length')\n",
    "    with open(join(train_path,'train_X')) as fr:\n",
    "        lines = fr.readlines()\n",
    "    length = [len(line.strip()) for line in lines]\n",
    "    length = sorted(length)\n",
    "    return length[int(len(length)*0.9)]\n",
    "def pad(X=[],padlen=None):\n",
    "    print('padding sentence ')\n",
    "    print('X[0] type must be unicode =',type(X[0]))\n",
    "    new_x=[]\n",
    "    for index,sen in enumerate(X):\n",
    "        len_s = len(sen)\n",
    "        num = len_s-padlen\n",
    "        if num>=0:\n",
    "            X[index] = sen[0:padlen]\n",
    "        else:\n",
    "            X[index] = sen+(-1*num)*u'*'\n",
    "    print('pad to length = ',padlen)\n",
    "    return X\n",
    "def embedding(x_batch=[],vec_dict=None):\n",
    "    x_batch_embedding=[]\n",
    "    for sen in x_batch:\n",
    "        sen_embedding=[vec_dict[ch] if ch in vec_dict else vec_dict[u'*'] for ch in sen]\n",
    "        x_batch_embedding.append(sen_embedding)\n",
    "    return x_batch_embedding\n",
    "\n",
    "\n",
    "#generator 每次生成一个batch的数据。\n",
    "def my_generator(data_path='',batch_size=None):\n",
    "    '''\n",
    "    1.加载数据到字典中\n",
    "    2.读取训练数据到numpy中。\n",
    "    3.句子长度一样。\n",
    "    3.每次生成一个batch的句子表示。\n",
    "    '''\n",
    "    with open(join(data_path,'train_X')) as fr:\n",
    "        lines = fr.readlines()\n",
    "        X_str = [line.strip() for line in lines]\n",
    "    with open(join(data_path,'train_y')) as fr:\n",
    "        lines = fr.readlines()\n",
    "        y = [int(line.strip()) for line in lines]\n",
    "    print(len(X_str))\n",
    "    print(len(y))\n",
    "    assert len(X_str) == len(y),'error ,训练数据集的数据X,y不相等'\n",
    "    #加载字向量\n",
    "    vec_dict = character_vec_dict(join(data_path,'wikiw2v_zh_zi.txt'))\n",
    "    #pad X \n",
    "    padlen  = sen_len(data_path)\n",
    "    X_str = pad(X_str,padlen)\n",
    "    i = 0\n",
    "    max_i = int(len(X_str)/batch_size)\n",
    "    while True:\n",
    "        i = i % max_i\n",
    "        x_batch = X_str[i*batch_size:(i+1)*batch_size]\n",
    "        y_batch = y[i*batch_size:(i+1)*batch_size]\n",
    "        x_batch = embedding(x_batch,vec_dict)\n",
    "        x_batch = np.array(x_batch)\n",
    "        y_batch = np.array(y_batch)\n",
    "        yield (x_batch,y_batch)\n",
    "        i = i + 1\n",
    "def get_input_shape(data_path=''):\n",
    "   \n",
    "    with open(join(data_path,'train_X')) as fr:\n",
    "        lines = fr.readlines()\n",
    "        X_str = [line.strip() for line in lines]\n",
    "    #pad X \n",
    "    padlen  = sen_len(data_path)\n",
    "    return (padlen,200)\n",
    "def get_validata_shape(data_path='',pad_len=None):\n",
    "    with open(join(data_path,'test_X'))as fr:\n",
    "        lines = fr.readlines()\n",
    "        print('len lines = ',len(lines))\n",
    "        test_X= [line.strip() for line in lines]\n",
    "    with open(join(data_path,'test_y')) as fr:\n",
    "        lines = fr.readlines()\n",
    "        test_y = [int(line.strip()) for line in lines]\n",
    "    print(len(test_X))\n",
    "    print(len(test_y))\n",
    "    assert len(test_X) == len(test_y),'test_X == test_y'\n",
    "    #加载字向量\n",
    "    vec_dict = character_vec_dict(join(data_path,'wikiw2v_zh_zi.txt'))\n",
    "    test_X = pad(test_X,pad_len)\n",
    "    print('len vec_dict = ',len(vec_dict))\n",
    "    print('len text_X = ',len(test_X))\n",
    "    test_X = embedding(test_X,vec_dict)\n",
    "    test_X = np.array(test_X)\n",
    "    test_y = np.array(test_y)\n",
    "    return test_X,test_y\n",
    "    \n",
    "    \n",
    "    \n",
    "    \n",
    "    "
   ]
  },
  {
   "cell_type": "code",
   "execution_count": 2,
   "metadata": {
    "collapsed": false
   },
   "outputs": [
    {
     "name": "stdout",
     "output_type": "stream",
     "text": [
      "Build model...\n",
      "calculating sentence length\n",
      "input_shape =  (188, 200)\n",
      "len lines =  1000\n",
      "1000\n",
      "1000\n",
      "loading character embedding\n",
      "padding sentence \n",
      "X[0] type must be unicode = <class 'str'>\n",
      "pad to length =  188\n",
      "len vec_dict =  10128\n",
      "len text_X =  1000\n",
      "(1000, 188, 200)\n",
      "Build model...\n"
     ]
    }
   ],
   "source": [
    "print('Build model...')\n",
    "# set parameters:\n",
    "batch_size = 32\n",
    "embedding_dims = 200\n",
    "nb_filter = 150\n",
    "filter_length = 2\n",
    "hidden_dims = 300\n",
    "nb_epoch = 2\n",
    "data_path = '/home/bruce/code/DLNLP/data'\n",
    "input_shape = get_input_shape(data_path)\n",
    "print('input_shape = ',input_shape)\n",
    "test_X,test_y = get_validata_shape(data_path,input_shape[0])\n",
    "print(test_X.shape)\n",
    "\n",
    "\n",
    "##########################################################################\n",
    "print('Build model...')\n",
    "model = Sequential()\n",
    "# we start off with an efficient embedding layer which maps\n",
    "# our vocab indices into embedding_dims dimensions\n",
    "\n",
    "# we add a Convolution1D, which will learn nb_filter\n",
    "# word group filters of size filter_length:\n",
    "\n",
    "\n",
    "model.add(Convolution1D(nb_filter=nb_filter,\n",
    "                        filter_length=filter_length,\n",
    "                        border_mode='valid',\n",
    "                        activation='relu',\n",
    "                        subsample_length=1,\n",
    "                        input_shape=input_shape))\n",
    "# we use max pooling:\n",
    "model.add(GlobalMaxPooling1D())\n",
    "# We add a vanilla hidden layer:\n",
    "model.add(Dense(hidden_dims))\n",
    "model.add(Activation('relu'))\n",
    "# We project onto a single unit output layer, and squash it with a sigmoid:\n",
    "model.add(Dense(1))\n",
    "model.add(Activation('sigmoid'))\n",
    "\n",
    "model.compile(loss='binary_crossentropy',\n",
    "              optimizer='adam',\n",
    "              metrics=['accuracy'])\n"
   ]
  },
  {
   "cell_type": "code",
   "execution_count": 3,
   "metadata": {
    "collapsed": false
   },
   "outputs": [
    {
     "name": "stdout",
     "output_type": "stream",
     "text": [
      "Epoch 1/60\n",
      "20105\n",
      "20105\n",
      "loading character embedding\n",
      "calculating sentence length\n",
      "padding sentence \n",
      "X[0] type must be unicode = <class 'str'>\n",
      "pad to length =  188\n",
      "1280/1280 [==============================] - 4s - loss: 0.9065 - acc: 0.5813 - val_loss: 0.6715 - val_acc: 0.6460\n",
      "Epoch 2/60\n",
      "1280/1280 [==============================] - 3s - loss: 0.5491 - acc: 0.7328 - val_loss: 0.6942 - val_acc: 0.6770\n",
      "Epoch 3/60\n",
      "1280/1280 [==============================] - 3s - loss: 0.4491 - acc: 0.7867 - val_loss: 0.6760 - val_acc: 0.6730\n",
      "Epoch 4/60\n",
      "1280/1280 [==============================] - 3s - loss: 0.4180 - acc: 0.8133 - val_loss: 0.6191 - val_acc: 0.6970\n",
      "Epoch 5/60\n",
      "1280/1280 [==============================] - 3s - loss: 0.3902 - acc: 0.8195 - val_loss: 0.5303 - val_acc: 0.7530\n",
      "Epoch 6/60\n",
      "1280/1280 [==============================] - 3s - loss: 0.4190 - acc: 0.8094 - val_loss: 0.6123 - val_acc: 0.7230\n",
      "Epoch 7/60\n",
      "1280/1280 [==============================] - 3s - loss: 0.3460 - acc: 0.8500 - val_loss: 0.5872 - val_acc: 0.7450\n",
      "Epoch 8/60\n",
      "1280/1280 [==============================] - 3s - loss: 0.3288 - acc: 0.8617 - val_loss: 0.4550 - val_acc: 0.8130\n",
      "Epoch 9/60\n",
      "1280/1280 [==============================] - 3s - loss: 0.3253 - acc: 0.8617 - val_loss: 0.4632 - val_acc: 0.8140\n",
      "Epoch 10/60\n",
      "1280/1280 [==============================] - 3s - loss: 0.3312 - acc: 0.8773 - val_loss: 0.5920 - val_acc: 0.7610\n",
      "Epoch 11/60\n",
      "1280/1280 [==============================] - 3s - loss: 0.3622 - acc: 0.8500 - val_loss: 0.4590 - val_acc: 0.7970\n",
      "Epoch 12/60\n",
      "1280/1280 [==============================] - 3s - loss: 0.3746 - acc: 0.8367 - val_loss: 0.4247 - val_acc: 0.8230\n",
      "Epoch 13/60\n",
      "1280/1280 [==============================] - 3s - loss: 0.3179 - acc: 0.8648 - val_loss: 0.4526 - val_acc: 0.8070\n",
      "Epoch 14/60\n",
      "1280/1280 [==============================] - 3s - loss: 0.3215 - acc: 0.8734 - val_loss: 0.4403 - val_acc: 0.8140\n",
      "Epoch 15/60\n",
      "1280/1280 [==============================] - 3s - loss: 0.2933 - acc: 0.8789 - val_loss: 0.4732 - val_acc: 0.7990\n",
      "Epoch 16/60\n",
      "1280/1280 [==============================] - 3s - loss: 0.2635 - acc: 0.8914 - val_loss: 0.4421 - val_acc: 0.8190\n",
      "Epoch 17/60\n",
      "1280/1280 [==============================] - 3s - loss: 0.2631 - acc: 0.8961 - val_loss: 0.4711 - val_acc: 0.8020\n",
      "Epoch 18/60\n",
      "1280/1280 [==============================] - 3s - loss: 0.2595 - acc: 0.8992 - val_loss: 0.5227 - val_acc: 0.7810\n",
      "Epoch 19/60\n",
      "1280/1280 [==============================] - 3s - loss: 0.2406 - acc: 0.9047 - val_loss: 0.5125 - val_acc: 0.8040\n",
      "Epoch 20/60\n",
      "1280/1280 [==============================] - 3s - loss: 0.2237 - acc: 0.9141 - val_loss: 0.4864 - val_acc: 0.8190\n",
      "Epoch 21/60\n",
      "1280/1280 [==============================] - 3s - loss: 0.2192 - acc: 0.9141 - val_loss: 0.4317 - val_acc: 0.8300\n",
      "Epoch 22/60\n",
      "1280/1280 [==============================] - 3s - loss: 0.2388 - acc: 0.9039 - val_loss: 0.4871 - val_acc: 0.8140\n",
      "Epoch 23/60\n",
      "1280/1280 [==============================] - 3s - loss: 0.2237 - acc: 0.9172 - val_loss: 0.4552 - val_acc: 0.8290\n",
      "Epoch 24/60\n",
      "1280/1280 [==============================] - 3s - loss: 0.2230 - acc: 0.9055 - val_loss: 0.5033 - val_acc: 0.8230\n",
      "Epoch 25/60\n",
      "1280/1280 [==============================] - 3s - loss: 0.2116 - acc: 0.9180 - val_loss: 0.4566 - val_acc: 0.8190\n",
      "Epoch 26/60\n",
      "1280/1280 [==============================] - 3s - loss: 0.2107 - acc: 0.9070 - val_loss: 0.4552 - val_acc: 0.8190\n",
      "Epoch 27/60\n",
      "1280/1280 [==============================] - 3s - loss: 0.2885 - acc: 0.8813 - val_loss: 0.4271 - val_acc: 0.8390\n",
      "Epoch 28/60\n",
      "1280/1280 [==============================] - 3s - loss: 0.3185 - acc: 0.8758 - val_loss: 0.4843 - val_acc: 0.8350\n",
      "Epoch 29/60\n",
      "1280/1280 [==============================] - 3s - loss: 0.2082 - acc: 0.9164 - val_loss: 0.5262 - val_acc: 0.8120\n",
      "Epoch 30/60\n",
      "1280/1280 [==============================] - 3s - loss: 0.2122 - acc: 0.9180 - val_loss: 0.4220 - val_acc: 0.8190\n",
      "Epoch 31/60\n",
      "1280/1280 [==============================] - 3s - loss: 0.2121 - acc: 0.9250 - val_loss: 0.5417 - val_acc: 0.8040\n",
      "Epoch 32/60\n",
      "1280/1280 [==============================] - 3s - loss: 0.2016 - acc: 0.9227 - val_loss: 0.4433 - val_acc: 0.8400\n",
      "Epoch 33/60\n",
      "1280/1280 [==============================] - 3s - loss: 0.2812 - acc: 0.8922 - val_loss: 0.5251 - val_acc: 0.7910\n",
      "Epoch 34/60\n",
      "1280/1280 [==============================] - 3s - loss: 0.2538 - acc: 0.8969 - val_loss: 0.4986 - val_acc: 0.8010\n",
      "Epoch 35/60\n",
      "1280/1280 [==============================] - 3s - loss: 0.2165 - acc: 0.9227 - val_loss: 0.4967 - val_acc: 0.8270\n",
      "Epoch 36/60\n",
      "1280/1280 [==============================] - 3s - loss: 0.1928 - acc: 0.9219 - val_loss: 0.5501 - val_acc: 0.8210\n",
      "Epoch 37/60\n",
      "1280/1280 [==============================] - 3s - loss: 0.1761 - acc: 0.9383 - val_loss: 0.5551 - val_acc: 0.8210\n",
      "Epoch 38/60\n",
      "1280/1280 [==============================] - 3s - loss: 0.2640 - acc: 0.8945 - val_loss: 0.5858 - val_acc: 0.8100\n",
      "Epoch 39/60\n",
      "1280/1280 [==============================] - 3s - loss: 0.1649 - acc: 0.9359 - val_loss: 0.5641 - val_acc: 0.8160\n",
      "Epoch 40/60\n",
      "1280/1280 [==============================] - 3s - loss: 0.1959 - acc: 0.9258 - val_loss: 0.4500 - val_acc: 0.8470\n",
      "Epoch 41/60\n",
      "1280/1280 [==============================] - 3s - loss: 0.1460 - acc: 0.9516 - val_loss: 0.4768 - val_acc: 0.8380\n",
      "Epoch 42/60\n",
      "1280/1280 [==============================] - 3s - loss: 0.1300 - acc: 0.9555 - val_loss: 0.4224 - val_acc: 0.8490\n",
      "Epoch 43/60\n",
      "1280/1280 [==============================] - 3s - loss: 0.2344 - acc: 0.9086 - val_loss: 0.4311 - val_acc: 0.8550\n",
      "Epoch 44/60\n",
      "1280/1280 [==============================] - 3s - loss: 0.2470 - acc: 0.8992 - val_loss: 0.6358 - val_acc: 0.7950\n",
      "Epoch 45/60\n",
      "1280/1280 [==============================] - 3s - loss: 0.1454 - acc: 0.9453 - val_loss: 0.4549 - val_acc: 0.8370\n",
      "Epoch 46/60\n",
      "1280/1280 [==============================] - 3s - loss: 0.1379 - acc: 0.9484 - val_loss: 0.6193 - val_acc: 0.8040\n",
      "Epoch 47/60\n",
      "1280/1280 [==============================] - 3s - loss: 0.1647 - acc: 0.9305 - val_loss: 0.4651 - val_acc: 0.8250\n",
      "Epoch 48/60\n",
      "1280/1280 [==============================] - 3s - loss: 0.1667 - acc: 0.9352 - val_loss: 0.4510 - val_acc: 0.8440\n",
      "Epoch 49/60\n",
      "1280/1280 [==============================] - 3s - loss: 0.1796 - acc: 0.9281 - val_loss: 0.9326 - val_acc: 0.7210\n",
      "Epoch 50/60\n",
      "1280/1280 [==============================] - 3s - loss: 0.2751 - acc: 0.8914 - val_loss: 0.9002 - val_acc: 0.7300\n",
      "Epoch 51/60\n",
      "1280/1280 [==============================] - 3s - loss: 0.3235 - acc: 0.8852 - val_loss: 0.6964 - val_acc: 0.7690\n",
      "Epoch 52/60\n",
      "1280/1280 [==============================] - 3s - loss: 0.1751 - acc: 0.9383 - val_loss: 0.4818 - val_acc: 0.8270\n",
      "Epoch 53/60\n",
      "1280/1280 [==============================] - 3s - loss: 0.1513 - acc: 0.9352 - val_loss: 0.4443 - val_acc: 0.8420\n",
      "Epoch 54/60\n",
      "1280/1280 [==============================] - 3s - loss: 0.1364 - acc: 0.9383 - val_loss: 0.4299 - val_acc: 0.8440\n",
      "Epoch 55/60\n",
      "1280/1280 [==============================] - 3s - loss: 0.1163 - acc: 0.9578 - val_loss: 0.4172 - val_acc: 0.8380\n",
      "Epoch 56/60\n",
      "1280/1280 [==============================] - 3s - loss: 0.1119 - acc: 0.9609 - val_loss: 0.4087 - val_acc: 0.8610\n",
      "Epoch 57/60\n",
      "1280/1280 [==============================] - 3s - loss: 0.1002 - acc: 0.9625 - val_loss: 0.4143 - val_acc: 0.8560\n",
      "Epoch 58/60\n",
      "1280/1280 [==============================] - 3s - loss: 0.0855 - acc: 0.9664 - val_loss: 0.5505 - val_acc: 0.8300\n",
      "Epoch 59/60\n",
      "1280/1280 [==============================] - 3s - loss: 0.1088 - acc: 0.9594 - val_loss: 0.4176 - val_acc: 0.8570\n",
      "Epoch 60/60\n",
      "1280/1280 [==============================] - 3s - loss: 0.0865 - acc: 0.9688 - val_loss: 0.4450 - val_acc: 0.8610\n"
     ]
    },
    {
     "data": {
      "text/plain": [
       "<keras.callbacks.History at 0x7f22373a1d68>"
      ]
     },
     "execution_count": 3,
     "metadata": {},
     "output_type": "execute_result"
    }
   ],
   "source": [
    "import time\n",
    "'''\n",
    "model_merge.fit([X_train,doc_train],y_train,nb_epoch=15,batch_size= 32,verbose=2, validation_data=([X_test,doc_test],y_test))\n",
    "model_merge.fit(doc_train,y_train,nb_epoch=15,batch_size= 32,verbose=2, validation_data=(doc_test,y_test))\n",
    "model.fit_generator(my_generator(data_path,batch_size=64),samples_per_epoch = 20105,nb_epoch=10,verbose=1,validation_data=(test_X,test_y))\n",
    "model.fit_generator(myGenerator(), , nb_epoch = 2, verbose=2, show_accuracy=True, callbacks=[], validation_data=None, class_weight=None, nb_worker=1)\n",
    "\n",
    "model_merge.fit(X_train,y_train,nb_epoch=15,batch_size= 32,verbose=2, validation_data=(X_test,y_test))\n",
    "'''\n",
    "model.fit_generator(my_generator(data_path,batch_size=64),samples_per_epoch = 64*20,nb_epoch=60,verbose=1,validation_data=(test_X,test_y))\n"
   ]
  },
  {
   "cell_type": "code",
   "execution_count": 4,
   "metadata": {
    "collapsed": true
   },
   "outputs": [],
   "source": [
    "model.save('/home/bruce/model/CNN.h5') "
   ]
  },
  {
   "cell_type": "code",
   "execution_count": 8,
   "metadata": {
    "collapsed": false
   },
   "outputs": [],
   "source": [
    "from keras.models import load_model\n",
    "model = load_model('/home/bruce/model/cnn.h5')\n"
   ]
  },
  {
   "cell_type": "code",
   "execution_count": 12,
   "metadata": {
    "collapsed": false
   },
   "outputs": [],
   "source": [
    "predict_y = model.predict(test_X)"
   ]
  },
  {
   "cell_type": "code",
   "execution_count": 13,
   "metadata": {
    "collapsed": false
   },
   "outputs": [],
   "source": [
    "predict_y = [1 if i>=0.5 else 0 for i in predict_y]"
   ]
  },
  {
   "cell_type": "code",
   "execution_count": 15,
   "metadata": {
    "collapsed": false
   },
   "outputs": [
    {
     "name": "stdout",
     "output_type": "stream",
     "text": [
      "0.846\n"
     ]
    }
   ],
   "source": [
    "sum = 0\n",
    "count = len(test_y)\n",
    "for y1,y2 in zip(test_y,predict_y):\n",
    "    if y1 == y2:\n",
    "        sum = sum +1\n",
    "print(sum/count)"
   ]
  },
  {
   "cell_type": "code",
   "execution_count": 10,
   "metadata": {
    "collapsed": false
   },
   "outputs": [
    {
     "name": "stdout",
     "output_type": "stream",
     "text": [
      "loading character embedding\n"
     ]
    }
   ],
   "source": [
    "def character_vec_dict(vec_path=''):\n",
    "    print('loading character embedding')\n",
    "    vec_dic={}\n",
    "    with open(vec_path) as fr:\n",
    "        lines = fr.readlines()\n",
    "        for line in lines[1:]:\n",
    "            try :\n",
    "                v = [float(i) for i in line[1:].split()]\n",
    "                vec_dic[line[0]] = v\n",
    "            except:\n",
    "                pass\n",
    "    vec_dic[u'*'] = [float(0) for _ in range(200)]\n",
    "    return vec_dic\n",
    "vd = character_vec_dict(join(data_path,'wikiw2v_zh_zi.txt'))"
   ]
  },
  {
   "cell_type": "code",
   "execution_count": 13,
   "metadata": {
    "collapsed": false
   },
   "outputs": [
    {
     "name": "stdout",
     "output_type": "stream",
     "text": [
      "yes\n"
     ]
    }
   ],
   "source": []
  },
  {
   "cell_type": "code",
   "execution_count": 63,
   "metadata": {
    "collapsed": false
   },
   "outputs": [
    {
     "name": "stdout",
     "output_type": "stream",
     "text": [
      "total pos line= 10677\n",
      "total neg lines = 10428\n",
      "1000\n",
      "1000\n",
      "test_data 1000\n"
     ]
    }
   ],
   "source": [
    "def split_data(file_path=''):\n",
    "    train_data = []\n",
    "    train_y =[]\n",
    "    test_data=[]\n",
    "    test_y =[]\n",
    "    \n",
    "    \n",
    "    with open (join(file_path,'pos'))as fr:\n",
    "        lines = fr.readlines()\n",
    "        lines = [line for line in lines if len(line.strip())>0]\n",
    "        print('total pos line=',len(lines))\n",
    "        train_data = train_data + lines[:-500]\n",
    "        train_y = [1 for _ in range(len(train_data))]\n",
    "        test_data = test_data + lines[-500:]\n",
    "        test_y = [1 for _ in range(500)]\n",
    "    with open(join(file_path,'neg'))as fr:\n",
    "        lines = fr.readlines()\n",
    "        lines = [line for line in lines if len(line.strip())>0 ]\n",
    "        print('total neg lines =',len(lines))\n",
    "        train_data = train_data + lines[:-500]\n",
    "        test_data = test_data + lines[-500:]\n",
    "        train_y = train_y + [0 for _ in range(len(lines[:-500]))]\n",
    "        test_y = test_y + [0 for _ in range(500)]\n",
    "    assert len(train_data) == len(train_y),'train'\n",
    "    assert len(test_data) == len(test_y),'test'\n",
    "    index_train = list(range(len(train_data)))\n",
    "    index_test = list(range(len(test_data)))\n",
    "    np.random.shuffle(index_train)\n",
    "    np.random.shuffle(index_test)\n",
    "    train_data = np.array(train_data)\n",
    "    train_y = np.array(train_y)\n",
    "    train_data = train_data[index_train]\n",
    "    train_y = train_y[index_train]\n",
    "    test_data = np.array(test_data)\n",
    "    test_y = np.array(test_y)\n",
    "    test_data = test_data[index_test]\n",
    "    test_y = test_y[index_test]\n",
    "    assert len(test_data) == len(test_y)\n",
    "    print(len(test_data))\n",
    "    print(len(test_y))\n",
    "    \n",
    "    with open(join(file_path,'train_X'),'w') as fw:\n",
    "        for line in train_data:\n",
    "            fw.write(line.strip()+'\\n')\n",
    "    with open(join(file_path,'train_y'),'w') as fw:\n",
    "        for line in train_y:\n",
    "            fw.write(str(line)+'\\n')\n",
    "    with open(join(file_path,'test_X'),'w') as fw:\n",
    "        print('test_data',len(test_data))\n",
    "        for line in test_data:\n",
    "            fw.write(line.strip()+'\\n')\n",
    "    with open(join(file_path,'test_y'),'w') as fw:\n",
    "        for line in test_y:\n",
    "            fw.write(str(line)+'\\n')\n",
    "    \n",
    "    \n",
    "    \n",
    "split_data('/home/bruce/code/DLNLP/data')"
   ]
  },
  {
   "cell_type": "code",
   "execution_count": 30,
   "metadata": {
    "collapsed": false
   },
   "outputs": [
    {
     "name": "stdout",
     "output_type": "stream",
     "text": [
      "len lines =  16\n",
      "loading character embedding\n",
      "padding sentence \n",
      "X[0] type must be unicode = <class 'str'>\n",
      "pad to length =  188\n",
      "len vec_dict =  10128\n",
      "len text_X =  16\n",
      "<class 'numpy.ndarray'>\n",
      "['0.0', '0.02', '0.44', '0.94', '0.0', '0.02', '0.98', '0.01', '0.01', '0.0', '0.95', '0.01', '0.15', '1.0', '0.04', '0.49']\n"
     ]
    }
   ],
   "source": [
    "\n",
    "\n",
    "\n",
    "\n",
    "\n",
    "\n",
    "\n",
    "\n",
    "\n",
    "\n",
    "\n",
    "\n",
    "\n",
    "\n",
    "\n",
    "\n",
    "\n",
    "\n",
    "\n",
    "\n",
    "\n",
    "def predict_sentence(s='',padlen=188,vec_dict_path='/home/bruce/model/wikiw2v_zh_zi.txt'):\n",
    "    '''\n",
    "    1.句子长度：188\n",
    "    '''\n",
    "    vec_dict = character_vec_dict(vec_dict_path)\n",
    "    X_str = pad([s],padlen)\n",
    "    X = embedding(X_str,vec_dict)\n",
    "    X=np.array(X)\n",
    "    model = load_model('/home/bruce/model/cnn.h5')\n",
    "    y = model.predict(X)\n",
    "    print(y)\n",
    "def predict_file(file_path='',padlen=188,vec_dict_path='/home/bruce/model/wikiw2v_zh_zi.txt'):\n",
    "    with open(file_path,'r')as fr:\n",
    "        lines = fr.readlines()\n",
    "        print('len lines = ',len(lines))\n",
    "        X= [line.strip() for line in lines]\n",
    "    #加载字向量\n",
    "    vec_dict = character_vec_dict(vec_dict_path)\n",
    "    X = pad(X,padlen)\n",
    "    print('len vec_dict = ',len(vec_dict))\n",
    "    print('len text_X = ',len(X))\n",
    "    X = embedding(X,vec_dict)\n",
    "    X = np.array(X)\n",
    "    model = load_model('/home/bruce/model/cnn.h5')\n",
    "    y = model.predict(X)\n",
    "    y = y.flatten()\n",
    "    y = [str(round(i,2))for i in y]\n",
    "    return y\n",
    "predict_file('/home/bruce/test/test.txt')\n",
    "        \n",
    "        \n",
    "        \n",
    "        \n",
    "        \n",
    "        \n",
    "#predict_sentence(s='我对这次购物一点也不满意',padlen=188)\n",
    "    \n",
    "    \n",
    "    \n",
    "    "
   ]
  },
  {
   "cell_type": "code",
   "execution_count": null,
   "metadata": {
    "collapsed": true
   },
   "outputs": [],
   "source": []
  },
  {
   "cell_type": "code",
   "execution_count": null,
   "metadata": {
    "collapsed": true
   },
   "outputs": [],
   "source": []
  }
 ],
 "metadata": {
  "anaconda-cloud": {},
  "kernelspec": {
   "display_name": "Python [Root]",
   "language": "python",
   "name": "Python [Root]"
  },
  "language_info": {
   "codemirror_mode": {
    "name": "ipython",
    "version": 3
   },
   "file_extension": ".py",
   "mimetype": "text/x-python",
   "name": "python",
   "nbconvert_exporter": "python",
   "pygments_lexer": "ipython3",
   "version": "3.5.2"
  }
 },
 "nbformat": 4,
 "nbformat_minor": 0
}
