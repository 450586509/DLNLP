{
 "cells": [
  {
   "cell_type": "code",
   "execution_count": 1,
   "metadata": {
    "collapsed": false
   },
   "outputs": [
    {
     "name": "stderr",
     "output_type": "stream",
     "text": [
      "Using TensorFlow backend.\n"
     ]
    }
   ],
   "source": [
    "import keras \n",
    "from  os.path import join\n",
    "from keras.preprocessing import sequence\n",
    "from keras.models import Sequential\n",
    "from keras.layers import Dense, Dropout,Activation, Lambda,Input\n",
    "from keras.layers import Embedding\n",
    "from keras.layers import Convolution1D\n",
    "from keras.datasets import imdb\n",
    "from keras import backend as K\n",
    "from keras.layers import Convolution1D, GlobalMaxPooling1D,Convolution2D\n",
    "from keras.utils import np_utils\n",
    "from keras.models import Model"
   ]
  },
  {
   "cell_type": "markdown",
   "metadata": {},
   "source": [
    "## 数据预处理"
   ]
  },
  {
   "cell_type": "code",
   "execution_count": 2,
   "metadata": {
    "collapsed": false
   },
   "outputs": [
    {
     "name": "stdout",
     "output_type": "stream",
     "text": [
      "8544\n",
      "2210\n",
      "1101\n",
      "[['a', ' ', 's', 't', 'i', 'r', 'r', 'i', 'n', 'g', ' ', ',', ' ', 'f', 'u', 'n', 'n', 'y', ' ', 'a', 'n', 'd', ' ', 'f', 'i', 'n', 'a', 'l', 'l', 'y', ' ', 't', 'r', 'a', 'n', 's', 'p', 'o', 'r', 't', ' ', 'r', 'e', '-', 'i', 'm', 'a', 'g', 'i', 'n', 'i', 'n', 'g', ' ', 'o', 'f', ' ', 'b', 'e', 'a', 'u', 't', 'y', ' ', 'a', 'n', 'd', ' ', 't', 'h', 'e', ' ', 'b', 'e', 'a', 's', 't', ' ', 'a', 'n', 'd', ' ', '1', '9', '3', '0', 's', ' ', 'h', 'o', 'r', 'r', 'o', 'r', ' ', 'f', 'i', 'l', 'm'], ['a', 'p', 'p', 'a', 'r', 'e', 'n', 't', 'l', 'y', ' ', 'r', 'e', 'a', 's', 's', 'e', 'm', 'b', 'l', 'e', ' ', 'f', 'r', 'o', 'm', ' ', 't', 'h', 'e', ' ', 'c', 'u', 't', 't', 'i', 'n', 'g', '-', 'r', 'o', 'o', 'm', ' ', 'f', 'l', 'o', 'o', 'r', ' ', 'o', 'f', ' ', 'a', 'n', 'y', ' ', 'g', 'i', 'v', 'e', ' ', 'd', 'a', 'y', 't', 'i', 'm', 'e', ' ', 's', 'o', 'a', 'p', ' ', '.']]\n",
      "[4, 1]\n"
     ]
    }
   ],
   "source": [
    "file_names = ['stsa.fine.test','stsa.fine.train','stsa.fine.dev']\n",
    "file_path = '/home/bruce/data/sentiment/citai_process'\n",
    "def read_file(fname=''):\n",
    "    with open(join(file_path,fname)) as fr:\n",
    "        lines = fr.readlines()\n",
    "    lines = [line.strip() for line in lines]\n",
    "    lables = [int(line[0:1]) for line in lines]\n",
    "    characters = [list(line[2:]) for line in lines]\n",
    "    return characters,lables       \n",
    "train_X,train_y = read_file(fname='stsa.fine.train')\n",
    "test_X,test_y = read_file(fname='stsa.fine.test')\n",
    "dev_X,dev_y = read_file(fname='stsa.fine.dev')\n",
    "print(len(train_X))\n",
    "print(len(test_X))\n",
    "print(len(dev_X))\n",
    "print(train_X[0:2])\n",
    "print(train_y[0:2])"
   ]
  },
  {
   "cell_type": "code",
   "execution_count": null,
   "metadata": {
    "collapsed": false
   },
   "outputs": [],
   "source": []
  },
  {
   "cell_type": "markdown",
   "metadata": {},
   "source": [
    "#### 句子长度统计信息"
   ]
  },
  {
   "cell_type": "code",
   "execution_count": 3,
   "metadata": {
    "collapsed": false
   },
   "outputs": [
    {
     "name": "stdout",
     "output_type": "stream",
     "text": [
      "length =  8544\n",
      "max =  279\n",
      "min = 4\n",
      "average =  100.29693352059925\n",
      "top 50% =  96\n",
      "top 80% =  144\n",
      "top 90% =  170\n",
      "top 95% =  190\n"
     ]
    }
   ],
   "source": [
    "def statics_list2(arrays=[]):\n",
    "    lengths = [len(i) for i in arrays]\n",
    "    lengths = sorted(lengths)\n",
    "    length = len(lengths)\n",
    "    print('length = ',len(lengths))\n",
    "    print('max = ',lengths[-1])\n",
    "    print('min =',lengths[0])\n",
    "    print('average = ',sum(lengths)/length)\n",
    "    print('top 50% = ',lengths[int(0.5*length)])\n",
    "    print('top 80% = ',lengths[int(0.8*length)])\n",
    "    print('top 90% = ',lengths[int(0.9*length)])\n",
    "    print('top 95% = ',lengths[int(0.95*length)])\n",
    "    \n",
    "statics_list2(arrays=train_X)"
   ]
  },
  {
   "cell_type": "markdown",
   "metadata": {},
   "source": [
    "#### character to index"
   ]
  },
  {
   "cell_type": "code",
   "execution_count": 4,
   "metadata": {
    "collapsed": false
   },
   "outputs": [],
   "source": [
    "def token_to_index(datas=[]):\n",
    "    word_index={}\n",
    "    count=1\n",
    "    for data in datas:\n",
    "        for list_ in data:\n",
    "            for w in list_:\n",
    "                if w not in word_index:\n",
    "                    word_index[w] = count\n",
    "                    count = count + 1\n",
    "    print('leng of word_index =',len(word_index))\n",
    "    for i in range(len(datas)):\n",
    "        datas[i] = [[ word_index[w] for w in line ] for line in datas[i]] \n",
    "    return datas,word_index"
   ]
  },
  {
   "cell_type": "code",
   "execution_count": 5,
   "metadata": {
    "collapsed": false
   },
   "outputs": [
    {
     "name": "stdout",
     "output_type": "stream",
     "text": [
      "leng of word_index = 97\n",
      "97\n",
      "{'â': 81, 'r': 6, '5': 75, 'h': 21, 'í': 64, 'v': 27, '&': 78, '*': 77, '8': 73, 'g': 8, 'X': 91, 'è': 66, ';': 55, 'W': 71, 'D': 37, 'u': 11, '-': 18, 'à': 97, '`': 49, 'á': 79, '7': 60, '0': 25, '%': 96, 'U': 88, 'O': 82, '.': 28, ',': 9, '2': 48, 'A': 47, '9': 23, 'I': 54, 'i': 5, 'P': 53, 'j': 32, 'd': 13, 'T': 74, 's': 3, '!': 51, 'ô': 94, 'z': 42, 'F': 57, 'N': 72, 'Q': 90, 'p': 15, \"'\": 30, 'S': 33, 'J': 69, 'l': 14, 'K': 61, '#': 87, 'k': 31, 'q': 36, '$': 39, 'Y': 62, 'f': 10, 'a': 1, 'ç': 89, 'c': 26, 'w': 29, 'æ': 85, '\\\\': 58, 'm': 19, 'R': 50, 'x': 35, 'C': 44, 'e': 17, 'é': 34, '@': 40, 't': 4, 'ó': 65, 'M': 38, 'o': 16, 'V': 67, 'E': 45, 'B': 46, ' ': 2, 'Z': 70, 'H': 68, 'G': 56, 'n': 7, 'y': 12, '1': 22, '=': 83, '?': 52, '6': 63, '3': 24, '+': 93, '4': 76, 'b': 20, 'ã': 86, ':': 43, 'ü': 80, 'L': 41, 'ñ': 92, 'ï': 84, 'ö': 95, '/': 59}\n"
     ]
    }
   ],
   "source": [
    "X,word_index = token_to_index(datas=[train_X,dev_X])\n",
    "train_X,dev_X = X\n",
    "print(len(word_index))\n",
    "print(word_index)"
   ]
  },
  {
   "cell_type": "code",
   "execution_count": 6,
   "metadata": {
    "collapsed": false
   },
   "outputs": [
    {
     "name": "stdout",
     "output_type": "stream",
     "text": [
      "[1, 2, 3, 4, 5, 6, 6, 5, 7, 8, 2, 9, 2, 10, 11, 7, 7, 12, 2, 1, 7, 13, 2, 10, 5, 7, 1, 14, 14, 12, 2, 4, 6, 1, 7, 3, 15, 16, 6, 4, 2, 6, 17, 18, 5, 19, 1, 8, 5, 7, 5, 7, 8, 2, 16, 10, 2, 20, 17, 1, 11, 4, 12, 2, 1, 7, 13, 2, 4, 21, 17, 2, 20, 17, 1, 3, 4, 2, 1, 7, 13, 2, 22, 23, 24, 25, 3, 2, 21, 16, 6, 6, 16, 6, 2, 10, 5, 14, 19]\n"
     ]
    }
   ],
   "source": [
    "print(train_X[0])"
   ]
  },
  {
   "cell_type": "markdown",
   "metadata": {},
   "source": [
    "## 构建模型"
   ]
  },
  {
   "cell_type": "code",
   "execution_count": 10,
   "metadata": {
    "collapsed": true
   },
   "outputs": [],
   "source": [
    "max_len = 190\n",
    "batch_size=32\n",
    "\n",
    "max_features = 100\n",
    "embedding_dims = 100\n",
    "nb_filter = 100\n",
    "\n",
    "nb_filter = 150\n",
    "filter_length = 2\n",
    "dense1_hindden = 100\n",
    "nb_classes = 5"
   ]
  },
  {
   "cell_type": "code",
   "execution_count": 8,
   "metadata": {
    "collapsed": false
   },
   "outputs": [
    {
     "name": "stdout",
     "output_type": "stream",
     "text": [
      "Build model...\n",
      "finish build\n"
     ]
    }
   ],
   "source": [
    "print('Build model...')\n",
    "model = Sequential()\n",
    "model.add(Embedding(input_dim=max_features,\n",
    "                    output_dim = embedding_dims\n",
    "                   ))\n",
    "model.add(Convolution1D(nb_filter = nb_filter,\n",
    "                        filter_length = filter_length,\n",
    "                        border_mode = 'valid',\n",
    "                        activation='relu',\n",
    "                        subsample_length = 1\n",
    "                       ))\n",
    "model.add(GlobalMaxPooling1D())\n",
    "model.add(Dense(dense1_hindden))\n",
    "model.add(Dropout(0.2))\n",
    "model.add(Activation('relu'))\n",
    "\n",
    "model.add(Dense(nb_classes))\n",
    "model.add(Activation('softmax'))\n",
    "model.compile(loss = 'categorical_crossentropy',\n",
    "              optimizer = 'adadelta',\n",
    "              metrics=['accuracy']\n",
    "             )\n",
    "print('finish build')"
   ]
  },
  {
   "cell_type": "markdown",
   "metadata": {},
   "source": [
    "## 模型输入"
   ]
  },
  {
   "cell_type": "code",
   "execution_count": 9,
   "metadata": {
    "collapsed": false
   },
   "outputs": [
    {
     "name": "stdout",
     "output_type": "stream",
     "text": [
      "<class 'int'>\n"
     ]
    }
   ],
   "source": [
    "print(type(train_y[0]))\n",
    "train_y = np_utils.to_categorical(train_y, nb_classes)\n",
    "dev_y = np_utils.to_categorical(dev_y, nb_classes)\n",
    "train_X = sequence.pad_sequences(train_X, maxlen=max_len)\n",
    "dev_X = sequence.pad_sequences(dev_X, maxlen=max_len)\n",
    "\n"
   ]
  },
  {
   "cell_type": "code",
   "execution_count": 11,
   "metadata": {
    "collapsed": true
   },
   "outputs": [],
   "source": [
    "def my_generator(X=None,y=None):\n",
    "    i = 0\n",
    "    max_i = int(len(X)/batch_size)\n",
    "    while True:\n",
    "        i = i % max_i\n",
    "        x_batch = X[i*batch_size:(i+1)*batch_size]\n",
    "        y_batch = y[i*batch_size:(i+1)*batch_size]\n",
    "        yield (x_batch,y_batch)\n",
    "        i = i + 1\n",
    "    "
   ]
  },
  {
   "cell_type": "markdown",
   "metadata": {},
   "source": [
    "## 训练模型"
   ]
  },
  {
   "cell_type": "code",
   "execution_count": 13,
   "metadata": {
    "collapsed": false
   },
   "outputs": [
    {
     "name": "stdout",
     "output_type": "stream",
     "text": [
      "Epoch 1/100\n",
      "960/960 [==============================] - 2s - loss: 1.5399 - acc: 0.3094 - val_loss: 1.5583 - val_acc: 0.2797\n",
      "Epoch 2/100\n",
      "960/960 [==============================] - 1s - loss: 1.5472 - acc: 0.2917 - val_loss: 1.5453 - val_acc: 0.3224\n",
      "Epoch 3/100\n",
      "960/960 [==============================] - 1s - loss: 1.5430 - acc: 0.3000 - val_loss: 1.5414 - val_acc: 0.3152\n",
      "Epoch 4/100\n",
      "960/960 [==============================] - 1s - loss: 1.5376 - acc: 0.3115 - val_loss: 1.5477 - val_acc: 0.2897\n",
      "Epoch 5/100\n",
      "960/960 [==============================] - 1s - loss: 1.5315 - acc: 0.3302 - val_loss: 1.5408 - val_acc: 0.3152\n",
      "Epoch 6/100\n",
      "960/960 [==============================] - 1s - loss: 1.5500 - acc: 0.2885 - val_loss: 1.5453 - val_acc: 0.3261\n",
      "Epoch 7/100\n",
      "960/960 [==============================] - 2s - loss: 1.5153 - acc: 0.3323 - val_loss: 1.5338 - val_acc: 0.3252\n",
      "Epoch 8/100\n",
      "960/960 [==============================] - 1s - loss: 1.5482 - acc: 0.2969 - val_loss: 1.5338 - val_acc: 0.3243\n",
      "Epoch 9/100\n",
      "960/960 [==============================] - 1s - loss: 1.5448 - acc: 0.2948 - val_loss: 1.5355 - val_acc: 0.3025\n",
      "Epoch 10/100\n",
      "960/960 [==============================] - 1s - loss: 1.5232 - acc: 0.3333 - val_loss: 1.5341 - val_acc: 0.3233\n",
      "Epoch 11/100\n",
      "960/960 [==============================] - 1s - loss: 1.5237 - acc: 0.3073 - val_loss: 1.5213 - val_acc: 0.3252\n",
      "Epoch 12/100\n",
      "960/960 [==============================] - 1s - loss: 1.5188 - acc: 0.3083 - val_loss: 1.5344 - val_acc: 0.3034\n",
      "Epoch 13/100\n",
      "960/960 [==============================] - 1s - loss: 1.5196 - acc: 0.3115 - val_loss: 1.5218 - val_acc: 0.3243\n",
      "Epoch 14/100\n",
      "960/960 [==============================] - 1s - loss: 1.5123 - acc: 0.3240 - val_loss: 1.5194 - val_acc: 0.3379\n",
      "Epoch 15/100\n",
      "960/960 [==============================] - 2s - loss: 1.5313 - acc: 0.3031 - val_loss: 1.5223 - val_acc: 0.3333\n",
      "Epoch 16/100\n",
      "960/960 [==============================] - 1s - loss: 1.5048 - acc: 0.3375 - val_loss: 1.5193 - val_acc: 0.3342\n",
      "Epoch 17/100\n",
      "960/960 [==============================] - 1s - loss: 1.5146 - acc: 0.3146 - val_loss: 1.5129 - val_acc: 0.3188\n",
      "Epoch 18/100\n",
      "960/960 [==============================] - 1s - loss: 1.5180 - acc: 0.3187 - val_loss: 1.5151 - val_acc: 0.3261\n",
      "Epoch 19/100\n",
      "960/960 [==============================] - 1s - loss: 1.5090 - acc: 0.3469 - val_loss: 1.5151 - val_acc: 0.3270\n",
      "Epoch 20/100\n",
      "960/960 [==============================] - 1s - loss: 1.5001 - acc: 0.3240 - val_loss: 1.5061 - val_acc: 0.3297\n",
      "Epoch 21/100\n",
      "960/960 [==============================] - 1s - loss: 1.4966 - acc: 0.3177 - val_loss: 1.5107 - val_acc: 0.3224\n",
      "Epoch 22/100\n",
      "960/960 [==============================] - 2s - loss: 1.5083 - acc: 0.3219 - val_loss: 1.5074 - val_acc: 0.3297\n",
      "Epoch 23/100\n",
      "960/960 [==============================] - 1s - loss: 1.4942 - acc: 0.3479 - val_loss: 1.5123 - val_acc: 0.3206\n",
      "Epoch 24/100\n",
      "960/960 [==============================] - 1s - loss: 1.5193 - acc: 0.3115 - val_loss: 1.5201 - val_acc: 0.3170\n",
      "Epoch 25/100\n",
      "960/960 [==============================] - 2s - loss: 1.5013 - acc: 0.3406 - val_loss: 1.5043 - val_acc: 0.3233\n",
      "Epoch 26/100\n",
      "960/960 [==============================] - 1s - loss: 1.4928 - acc: 0.3396 - val_loss: 1.5013 - val_acc: 0.3252\n",
      "Epoch 27/100\n",
      "960/960 [==============================] - 1s - loss: 1.5135 - acc: 0.3156 - val_loss: 1.5201 - val_acc: 0.3351\n",
      "Epoch 28/100\n",
      "960/960 [==============================] - 2s - loss: 1.4861 - acc: 0.3583 - val_loss: 1.5057 - val_acc: 0.3215\n",
      "Epoch 29/100\n",
      "960/960 [==============================] - 1s - loss: 1.4866 - acc: 0.3271 - val_loss: 1.4987 - val_acc: 0.3306\n",
      "Epoch 30/100\n",
      "960/960 [==============================] - 1s - loss: 1.4840 - acc: 0.3417 - val_loss: 1.5065 - val_acc: 0.3261\n",
      "Epoch 31/100\n",
      "960/960 [==============================] - 2s - loss: 1.4878 - acc: 0.3521 - val_loss: 1.5151 - val_acc: 0.3206\n",
      "Epoch 32/100\n",
      "960/960 [==============================] - 1s - loss: 1.4785 - acc: 0.3667 - val_loss: 1.5043 - val_acc: 0.3197\n",
      "Epoch 33/100\n",
      "960/960 [==============================] - 1s - loss: 1.4874 - acc: 0.3344 - val_loss: 1.5084 - val_acc: 0.3288\n",
      "Epoch 34/100\n",
      "960/960 [==============================] - 1s - loss: 1.4817 - acc: 0.3448 - val_loss: 1.5326 - val_acc: 0.3215\n",
      "Epoch 35/100\n",
      "960/960 [==============================] - 1s - loss: 1.4788 - acc: 0.3375 - val_loss: 1.4958 - val_acc: 0.3233\n",
      "Epoch 36/100\n",
      "960/960 [==============================] - 1s - loss: 1.5017 - acc: 0.3271 - val_loss: 1.4929 - val_acc: 0.3370\n",
      "Epoch 37/100\n",
      "960/960 [==============================] - 1s - loss: 1.4720 - acc: 0.3500 - val_loss: 1.4946 - val_acc: 0.3306\n",
      "Epoch 38/100\n",
      "960/960 [==============================] - 1s - loss: 1.4689 - acc: 0.3521 - val_loss: 1.4965 - val_acc: 0.3460\n",
      "Epoch 39/100\n",
      "960/960 [==============================] - 1s - loss: 1.4677 - acc: 0.3417 - val_loss: 1.4895 - val_acc: 0.3415\n",
      "Epoch 40/100\n",
      "960/960 [==============================] - 1s - loss: 1.4811 - acc: 0.3271 - val_loss: 1.4922 - val_acc: 0.3415\n",
      "Epoch 41/100\n",
      "960/960 [==============================] - 1s - loss: 1.4605 - acc: 0.3583 - val_loss: 1.4960 - val_acc: 0.3243\n",
      "Epoch 42/100\n",
      "960/960 [==============================] - 2s - loss: 1.4907 - acc: 0.3385 - val_loss: 1.4952 - val_acc: 0.3388\n",
      "Epoch 43/100\n",
      "960/960 [==============================] - 1s - loss: 1.4636 - acc: 0.3740 - val_loss: 1.4915 - val_acc: 0.3370\n",
      "Epoch 44/100\n",
      "960/960 [==============================] - 1s - loss: 1.4701 - acc: 0.3448 - val_loss: 1.4957 - val_acc: 0.3351\n",
      "Epoch 45/100\n",
      "960/960 [==============================] - 1s - loss: 1.4970 - acc: 0.3083 - val_loss: 1.4976 - val_acc: 0.3415\n",
      "Epoch 46/100\n",
      "960/960 [==============================] - 1s - loss: 1.4595 - acc: 0.3542 - val_loss: 1.5006 - val_acc: 0.3324\n",
      "Epoch 47/100\n",
      "960/960 [==============================] - 2s - loss: 1.4546 - acc: 0.3500 - val_loss: 1.4897 - val_acc: 0.3315\n",
      "Epoch 48/100\n",
      "960/960 [==============================] - 1s - loss: 1.4736 - acc: 0.3438 - val_loss: 1.4906 - val_acc: 0.3333\n",
      "Epoch 49/100\n",
      "960/960 [==============================] - 1s - loss: 1.4659 - acc: 0.3604 - val_loss: 1.4987 - val_acc: 0.3351\n",
      "Epoch 50/100\n",
      "960/960 [==============================] - 1s - loss: 1.4592 - acc: 0.3594 - val_loss: 1.5035 - val_acc: 0.3215\n",
      "Epoch 51/100\n",
      "960/960 [==============================] - 1s - loss: 1.4835 - acc: 0.3562 - val_loss: 1.4887 - val_acc: 0.3342\n",
      "Epoch 52/100\n",
      "960/960 [==============================] - 2s - loss: 1.4416 - acc: 0.3740 - val_loss: 1.4961 - val_acc: 0.3433\n",
      "Epoch 53/100\n",
      "960/960 [==============================] - 1s - loss: 1.4620 - acc: 0.3604 - val_loss: 1.5024 - val_acc: 0.3252\n",
      "Epoch 54/100\n",
      "960/960 [==============================] - 1s - loss: 1.4749 - acc: 0.3313 - val_loss: 1.4919 - val_acc: 0.3415\n",
      "Epoch 55/100\n",
      "960/960 [==============================] - 1s - loss: 1.4540 - acc: 0.3740 - val_loss: 1.4948 - val_acc: 0.3315\n",
      "Epoch 56/100\n",
      "960/960 [==============================] - 1s - loss: 1.4532 - acc: 0.3406 - val_loss: 1.4827 - val_acc: 0.3351\n",
      "Epoch 57/100\n",
      "960/960 [==============================] - 1s - loss: 1.4550 - acc: 0.3469 - val_loss: 1.4840 - val_acc: 0.3497\n",
      "Epoch 58/100\n",
      "960/960 [==============================] - 1s - loss: 1.4674 - acc: 0.3635 - val_loss: 1.4864 - val_acc: 0.3370\n",
      "Epoch 59/100\n",
      "960/960 [==============================] - 1s - loss: 1.4657 - acc: 0.3490 - val_loss: 1.4964 - val_acc: 0.3179\n",
      "Epoch 60/100\n",
      "960/960 [==============================] - 1s - loss: 1.4683 - acc: 0.3594 - val_loss: 1.4975 - val_acc: 0.3324\n",
      "Epoch 61/100\n",
      "960/960 [==============================] - 2s - loss: 1.4423 - acc: 0.3688 - val_loss: 1.4902 - val_acc: 0.3406\n",
      "Epoch 62/100\n",
      "960/960 [==============================] - 1s - loss: 1.4472 - acc: 0.3500 - val_loss: 1.4792 - val_acc: 0.3324\n",
      "Epoch 63/100\n",
      " 32/960 [>.............................] - ETA: 1s - loss: 1.5350 - acc: 0.2500"
     ]
    },
    {
     "ename": "KeyboardInterrupt",
     "evalue": "",
     "output_type": "error",
     "traceback": [
      "\u001b[1;31m---------------------------------------------------------------------------\u001b[0m",
      "\u001b[1;31mKeyboardInterrupt\u001b[0m                         Traceback (most recent call last)",
      "\u001b[1;32m<ipython-input-13-123acb64e3c0>\u001b[0m in \u001b[0;36m<module>\u001b[1;34m()\u001b[0m\n\u001b[1;32m----> 1\u001b[1;33m \u001b[0mmodel\u001b[0m\u001b[1;33m.\u001b[0m\u001b[0mfit_generator\u001b[0m\u001b[1;33m(\u001b[0m\u001b[0mmy_generator\u001b[0m\u001b[1;33m(\u001b[0m\u001b[0mtrain_X\u001b[0m\u001b[1;33m,\u001b[0m\u001b[0mtrain_y\u001b[0m\u001b[1;33m)\u001b[0m\u001b[1;33m,\u001b[0m\u001b[0msamples_per_epoch\u001b[0m \u001b[1;33m=\u001b[0m \u001b[1;36m32\u001b[0m\u001b[1;33m*\u001b[0m\u001b[1;36m30\u001b[0m\u001b[1;33m,\u001b[0m\u001b[0mnb_epoch\u001b[0m\u001b[1;33m=\u001b[0m\u001b[1;36m100\u001b[0m\u001b[1;33m,\u001b[0m\u001b[0mverbose\u001b[0m\u001b[1;33m=\u001b[0m\u001b[1;36m1\u001b[0m\u001b[1;33m,\u001b[0m\u001b[0mvalidation_data\u001b[0m\u001b[1;33m=\u001b[0m\u001b[1;33m(\u001b[0m\u001b[0mdev_X\u001b[0m\u001b[1;33m,\u001b[0m\u001b[0mdev_y\u001b[0m\u001b[1;33m)\u001b[0m\u001b[1;33m)\u001b[0m\u001b[1;33m\u001b[0m\u001b[0m\n\u001b[0m",
      "\u001b[1;32m/home/bruce/anaconda3/lib/python3.5/site-packages/keras/models.py\u001b[0m in \u001b[0;36mfit_generator\u001b[1;34m(self, generator, samples_per_epoch, nb_epoch, verbose, callbacks, validation_data, nb_val_samples, class_weight, max_q_size, nb_worker, pickle_safe, **kwargs)\u001b[0m\n\u001b[0;32m    872\u001b[0m                                         \u001b[0mmax_q_size\u001b[0m\u001b[1;33m=\u001b[0m\u001b[0mmax_q_size\u001b[0m\u001b[1;33m,\u001b[0m\u001b[1;33m\u001b[0m\u001b[0m\n\u001b[0;32m    873\u001b[0m                                         \u001b[0mnb_worker\u001b[0m\u001b[1;33m=\u001b[0m\u001b[0mnb_worker\u001b[0m\u001b[1;33m,\u001b[0m\u001b[1;33m\u001b[0m\u001b[0m\n\u001b[1;32m--> 874\u001b[1;33m                                         pickle_safe=pickle_safe)\n\u001b[0m\u001b[0;32m    875\u001b[0m \u001b[1;33m\u001b[0m\u001b[0m\n\u001b[0;32m    876\u001b[0m     \u001b[1;32mdef\u001b[0m \u001b[0mevaluate_generator\u001b[0m\u001b[1;33m(\u001b[0m\u001b[0mself\u001b[0m\u001b[1;33m,\u001b[0m \u001b[0mgenerator\u001b[0m\u001b[1;33m,\u001b[0m \u001b[0mval_samples\u001b[0m\u001b[1;33m,\u001b[0m \u001b[0mmax_q_size\u001b[0m\u001b[1;33m=\u001b[0m\u001b[1;36m10\u001b[0m\u001b[1;33m,\u001b[0m \u001b[0mnb_worker\u001b[0m\u001b[1;33m=\u001b[0m\u001b[1;36m1\u001b[0m\u001b[1;33m,\u001b[0m \u001b[0mpickle_safe\u001b[0m\u001b[1;33m=\u001b[0m\u001b[1;32mFalse\u001b[0m\u001b[1;33m,\u001b[0m \u001b[1;33m**\u001b[0m\u001b[0mkwargs\u001b[0m\u001b[1;33m)\u001b[0m\u001b[1;33m:\u001b[0m\u001b[1;33m\u001b[0m\u001b[0m\n",
      "\u001b[1;32m/home/bruce/anaconda3/lib/python3.5/site-packages/keras/engine/training.py\u001b[0m in \u001b[0;36mfit_generator\u001b[1;34m(self, generator, samples_per_epoch, nb_epoch, verbose, callbacks, validation_data, nb_val_samples, class_weight, max_q_size, nb_worker, pickle_safe)\u001b[0m\n\u001b[0;32m   1441\u001b[0m                     outs = self.train_on_batch(x, y,\n\u001b[0;32m   1442\u001b[0m                                                \u001b[0msample_weight\u001b[0m\u001b[1;33m=\u001b[0m\u001b[0msample_weight\u001b[0m\u001b[1;33m,\u001b[0m\u001b[1;33m\u001b[0m\u001b[0m\n\u001b[1;32m-> 1443\u001b[1;33m                                                class_weight=class_weight)\n\u001b[0m\u001b[0;32m   1444\u001b[0m                 \u001b[1;32mexcept\u001b[0m\u001b[1;33m:\u001b[0m\u001b[1;33m\u001b[0m\u001b[0m\n\u001b[0;32m   1445\u001b[0m                     \u001b[0m_stop\u001b[0m\u001b[1;33m.\u001b[0m\u001b[0mset\u001b[0m\u001b[1;33m(\u001b[0m\u001b[1;33m)\u001b[0m\u001b[1;33m\u001b[0m\u001b[0m\n",
      "\u001b[1;32m/home/bruce/anaconda3/lib/python3.5/site-packages/keras/engine/training.py\u001b[0m in \u001b[0;36mtrain_on_batch\u001b[1;34m(self, x, y, sample_weight, class_weight)\u001b[0m\n\u001b[0;32m   1219\u001b[0m             \u001b[0mins\u001b[0m \u001b[1;33m=\u001b[0m \u001b[0mx\u001b[0m \u001b[1;33m+\u001b[0m \u001b[0my\u001b[0m \u001b[1;33m+\u001b[0m \u001b[0msample_weights\u001b[0m\u001b[1;33m\u001b[0m\u001b[0m\n\u001b[0;32m   1220\u001b[0m         \u001b[0mself\u001b[0m\u001b[1;33m.\u001b[0m\u001b[0m_make_train_function\u001b[0m\u001b[1;33m(\u001b[0m\u001b[1;33m)\u001b[0m\u001b[1;33m\u001b[0m\u001b[0m\n\u001b[1;32m-> 1221\u001b[1;33m         \u001b[0moutputs\u001b[0m \u001b[1;33m=\u001b[0m \u001b[0mself\u001b[0m\u001b[1;33m.\u001b[0m\u001b[0mtrain_function\u001b[0m\u001b[1;33m(\u001b[0m\u001b[0mins\u001b[0m\u001b[1;33m)\u001b[0m\u001b[1;33m\u001b[0m\u001b[0m\n\u001b[0m\u001b[0;32m   1222\u001b[0m         \u001b[1;32mif\u001b[0m \u001b[0mlen\u001b[0m\u001b[1;33m(\u001b[0m\u001b[0moutputs\u001b[0m\u001b[1;33m)\u001b[0m \u001b[1;33m==\u001b[0m \u001b[1;36m1\u001b[0m\u001b[1;33m:\u001b[0m\u001b[1;33m\u001b[0m\u001b[0m\n\u001b[0;32m   1223\u001b[0m             \u001b[1;32mreturn\u001b[0m \u001b[0moutputs\u001b[0m\u001b[1;33m[\u001b[0m\u001b[1;36m0\u001b[0m\u001b[1;33m]\u001b[0m\u001b[1;33m\u001b[0m\u001b[0m\n",
      "\u001b[1;32m/home/bruce/anaconda3/lib/python3.5/site-packages/keras/backend/tensorflow_backend.py\u001b[0m in \u001b[0;36m__call__\u001b[1;34m(self, inputs)\u001b[0m\n\u001b[0;32m   1011\u001b[0m             \u001b[0mfeed_dict\u001b[0m\u001b[1;33m[\u001b[0m\u001b[0mtensor\u001b[0m\u001b[1;33m]\u001b[0m \u001b[1;33m=\u001b[0m \u001b[0mvalue\u001b[0m\u001b[1;33m\u001b[0m\u001b[0m\n\u001b[0;32m   1012\u001b[0m         \u001b[0msession\u001b[0m \u001b[1;33m=\u001b[0m \u001b[0mget_session\u001b[0m\u001b[1;33m(\u001b[0m\u001b[1;33m)\u001b[0m\u001b[1;33m\u001b[0m\u001b[0m\n\u001b[1;32m-> 1013\u001b[1;33m         \u001b[0mupdated\u001b[0m \u001b[1;33m=\u001b[0m \u001b[0msession\u001b[0m\u001b[1;33m.\u001b[0m\u001b[0mrun\u001b[0m\u001b[1;33m(\u001b[0m\u001b[0mself\u001b[0m\u001b[1;33m.\u001b[0m\u001b[0moutputs\u001b[0m \u001b[1;33m+\u001b[0m \u001b[1;33m[\u001b[0m\u001b[0mself\u001b[0m\u001b[1;33m.\u001b[0m\u001b[0mupdates_op\u001b[0m\u001b[1;33m]\u001b[0m\u001b[1;33m,\u001b[0m \u001b[0mfeed_dict\u001b[0m\u001b[1;33m=\u001b[0m\u001b[0mfeed_dict\u001b[0m\u001b[1;33m)\u001b[0m\u001b[1;33m\u001b[0m\u001b[0m\n\u001b[0m\u001b[0;32m   1014\u001b[0m         \u001b[1;32mreturn\u001b[0m \u001b[0mupdated\u001b[0m\u001b[1;33m[\u001b[0m\u001b[1;33m:\u001b[0m\u001b[0mlen\u001b[0m\u001b[1;33m(\u001b[0m\u001b[0mself\u001b[0m\u001b[1;33m.\u001b[0m\u001b[0moutputs\u001b[0m\u001b[1;33m)\u001b[0m\u001b[1;33m]\u001b[0m\u001b[1;33m\u001b[0m\u001b[0m\n\u001b[0;32m   1015\u001b[0m \u001b[1;33m\u001b[0m\u001b[0m\n",
      "\u001b[1;32m/home/bruce/anaconda3/lib/python3.5/site-packages/tensorflow/python/client/session.py\u001b[0m in \u001b[0;36mrun\u001b[1;34m(self, fetches, feed_dict, options, run_metadata)\u001b[0m\n\u001b[0;32m    708\u001b[0m     \u001b[1;32mtry\u001b[0m\u001b[1;33m:\u001b[0m\u001b[1;33m\u001b[0m\u001b[0m\n\u001b[0;32m    709\u001b[0m       result = self._run(None, fetches, feed_dict, options_ptr,\n\u001b[1;32m--> 710\u001b[1;33m                          run_metadata_ptr)\n\u001b[0m\u001b[0;32m    711\u001b[0m       \u001b[1;32mif\u001b[0m \u001b[0mrun_metadata\u001b[0m\u001b[1;33m:\u001b[0m\u001b[1;33m\u001b[0m\u001b[0m\n\u001b[0;32m    712\u001b[0m         \u001b[0mproto_data\u001b[0m \u001b[1;33m=\u001b[0m \u001b[0mtf_session\u001b[0m\u001b[1;33m.\u001b[0m\u001b[0mTF_GetBuffer\u001b[0m\u001b[1;33m(\u001b[0m\u001b[0mrun_metadata_ptr\u001b[0m\u001b[1;33m)\u001b[0m\u001b[1;33m\u001b[0m\u001b[0m\n",
      "\u001b[1;32m/home/bruce/anaconda3/lib/python3.5/site-packages/tensorflow/python/client/session.py\u001b[0m in \u001b[0;36m_run\u001b[1;34m(self, handle, fetches, feed_dict, options, run_metadata)\u001b[0m\n\u001b[0;32m    906\u001b[0m     \u001b[1;32mif\u001b[0m \u001b[0mfinal_fetches\u001b[0m \u001b[1;32mor\u001b[0m \u001b[0mfinal_targets\u001b[0m\u001b[1;33m:\u001b[0m\u001b[1;33m\u001b[0m\u001b[0m\n\u001b[0;32m    907\u001b[0m       results = self._do_run(handle, final_targets, final_fetches,\n\u001b[1;32m--> 908\u001b[1;33m                              feed_dict_string, options, run_metadata)\n\u001b[0m\u001b[0;32m    909\u001b[0m     \u001b[1;32melse\u001b[0m\u001b[1;33m:\u001b[0m\u001b[1;33m\u001b[0m\u001b[0m\n\u001b[0;32m    910\u001b[0m       \u001b[0mresults\u001b[0m \u001b[1;33m=\u001b[0m \u001b[1;33m[\u001b[0m\u001b[1;33m]\u001b[0m\u001b[1;33m\u001b[0m\u001b[0m\n",
      "\u001b[1;32m/home/bruce/anaconda3/lib/python3.5/site-packages/tensorflow/python/client/session.py\u001b[0m in \u001b[0;36m_do_run\u001b[1;34m(self, handle, target_list, fetch_list, feed_dict, options, run_metadata)\u001b[0m\n\u001b[0;32m    956\u001b[0m     \u001b[1;32mif\u001b[0m \u001b[0mhandle\u001b[0m \u001b[1;32mis\u001b[0m \u001b[1;32mNone\u001b[0m\u001b[1;33m:\u001b[0m\u001b[1;33m\u001b[0m\u001b[0m\n\u001b[0;32m    957\u001b[0m       return self._do_call(_run_fn, self._session, feed_dict, fetch_list,\n\u001b[1;32m--> 958\u001b[1;33m                            target_list, options, run_metadata)\n\u001b[0m\u001b[0;32m    959\u001b[0m     \u001b[1;32melse\u001b[0m\u001b[1;33m:\u001b[0m\u001b[1;33m\u001b[0m\u001b[0m\n\u001b[0;32m    960\u001b[0m       return self._do_call(_prun_fn, self._session, handle, feed_dict,\n",
      "\u001b[1;32m/home/bruce/anaconda3/lib/python3.5/site-packages/tensorflow/python/client/session.py\u001b[0m in \u001b[0;36m_do_call\u001b[1;34m(self, fn, *args)\u001b[0m\n\u001b[0;32m    963\u001b[0m   \u001b[1;32mdef\u001b[0m \u001b[0m_do_call\u001b[0m\u001b[1;33m(\u001b[0m\u001b[0mself\u001b[0m\u001b[1;33m,\u001b[0m \u001b[0mfn\u001b[0m\u001b[1;33m,\u001b[0m \u001b[1;33m*\u001b[0m\u001b[0margs\u001b[0m\u001b[1;33m)\u001b[0m\u001b[1;33m:\u001b[0m\u001b[1;33m\u001b[0m\u001b[0m\n\u001b[0;32m    964\u001b[0m     \u001b[1;32mtry\u001b[0m\u001b[1;33m:\u001b[0m\u001b[1;33m\u001b[0m\u001b[0m\n\u001b[1;32m--> 965\u001b[1;33m       \u001b[1;32mreturn\u001b[0m \u001b[0mfn\u001b[0m\u001b[1;33m(\u001b[0m\u001b[1;33m*\u001b[0m\u001b[0margs\u001b[0m\u001b[1;33m)\u001b[0m\u001b[1;33m\u001b[0m\u001b[0m\n\u001b[0m\u001b[0;32m    966\u001b[0m     \u001b[1;32mexcept\u001b[0m \u001b[0merrors\u001b[0m\u001b[1;33m.\u001b[0m\u001b[0mOpError\u001b[0m \u001b[1;32mas\u001b[0m \u001b[0me\u001b[0m\u001b[1;33m:\u001b[0m\u001b[1;33m\u001b[0m\u001b[0m\n\u001b[0;32m    967\u001b[0m       \u001b[0mmessage\u001b[0m \u001b[1;33m=\u001b[0m \u001b[0mcompat\u001b[0m\u001b[1;33m.\u001b[0m\u001b[0mas_text\u001b[0m\u001b[1;33m(\u001b[0m\u001b[0me\u001b[0m\u001b[1;33m.\u001b[0m\u001b[0mmessage\u001b[0m\u001b[1;33m)\u001b[0m\u001b[1;33m\u001b[0m\u001b[0m\n",
      "\u001b[1;32m/home/bruce/anaconda3/lib/python3.5/site-packages/tensorflow/python/client/session.py\u001b[0m in \u001b[0;36m_run_fn\u001b[1;34m(session, feed_dict, fetch_list, target_list, options, run_metadata)\u001b[0m\n\u001b[0;32m    945\u001b[0m         return tf_session.TF_Run(session, options,\n\u001b[0;32m    946\u001b[0m                                  \u001b[0mfeed_dict\u001b[0m\u001b[1;33m,\u001b[0m \u001b[0mfetch_list\u001b[0m\u001b[1;33m,\u001b[0m \u001b[0mtarget_list\u001b[0m\u001b[1;33m,\u001b[0m\u001b[1;33m\u001b[0m\u001b[0m\n\u001b[1;32m--> 947\u001b[1;33m                                  status, run_metadata)\n\u001b[0m\u001b[0;32m    948\u001b[0m \u001b[1;33m\u001b[0m\u001b[0m\n\u001b[0;32m    949\u001b[0m     \u001b[1;32mdef\u001b[0m \u001b[0m_prun_fn\u001b[0m\u001b[1;33m(\u001b[0m\u001b[0msession\u001b[0m\u001b[1;33m,\u001b[0m \u001b[0mhandle\u001b[0m\u001b[1;33m,\u001b[0m \u001b[0mfeed_dict\u001b[0m\u001b[1;33m,\u001b[0m \u001b[0mfetch_list\u001b[0m\u001b[1;33m)\u001b[0m\u001b[1;33m:\u001b[0m\u001b[1;33m\u001b[0m\u001b[0m\n",
      "\u001b[1;31mKeyboardInterrupt\u001b[0m: "
     ]
    }
   ],
   "source": [
    "model.fit_generator(my_generator(train_X,train_y),samples_per_epoch = 32*267,nb_epoch=100,verbose=1,validation_data=(dev_X,dev_y))"
   ]
  },
  {
   "cell_type": "markdown",
   "metadata": {},
   "source": [
    "## 预测"
   ]
  },
  {
   "cell_type": "code",
   "execution_count": null,
   "metadata": {
    "collapsed": true
   },
   "outputs": [],
   "source": [
    "score = model.evaluate(X_test, Y_test, verbose=0)\n",
    "print('Test score:', score[0])\n",
    "print('Test accuracy:', score[1])"
   ]
  }
 ],
 "metadata": {
  "anaconda-cloud": {},
  "kernelspec": {
   "display_name": "Python [Root]",
   "language": "python",
   "name": "Python [Root]"
  },
  "language_info": {
   "codemirror_mode": {
    "name": "ipython",
    "version": 3
   },
   "file_extension": ".py",
   "mimetype": "text/x-python",
   "name": "python",
   "nbconvert_exporter": "python",
   "pygments_lexer": "ipython3",
   "version": "3.5.2"
  }
 },
 "nbformat": 4,
 "nbformat_minor": 0
}
