{
 "cells": [
  {
   "cell_type": "code",
   "execution_count": 5,
   "metadata": {
    "collapsed": false
   },
   "outputs": [],
   "source": [
    "from os.path import join\n",
    "from itertools import chain"
   ]
  },
  {
   "cell_type": "code",
   "execution_count": 6,
   "metadata": {
    "collapsed": false
   },
   "outputs": [
    {
     "name": "stdout",
     "output_type": "stream",
     "text": [
      "train_X 的数量： 8544\n",
      "test_X 的数量： 2210\n",
      "dev_X 的数量： 1101\n",
      "[['a', 'stirring', ',', 'funny', 'and', 'finally', 'transporting', 're-imagining', 'of', 'beauty', 'and', 'the', 'beast', 'and', '1930s', 'horror', 'films'], ['apparently', 'reassembled', 'from', 'the', 'cutting-room', 'floor', 'of', 'any', 'given', 'daytime', 'soap', '.'], ['they', 'presume', 'their', 'audience', 'wo', \"n't\", 'sit', 'still', 'for', 'a', 'sociology', 'lesson', ',', 'however', 'entertainingly', 'presented', ',', 'so', 'they', 'trot', 'out', 'the', 'conventional', 'science-fiction', 'elements', 'of', 'bug-eyed', 'monsters', 'and', 'futuristic', 'women', 'in', 'skimpy', 'clothes', '.'], ['the', 'entire', 'movie', 'is', 'filled', 'with', 'deja', 'vu', 'moments', '.'], ['this', 'is', 'a', 'visually', 'stunning', 'rumination', 'on', 'love', ',', 'memory', ',', 'history', 'and', 'the', 'war', 'between', 'art', 'and', 'commerce', '.'], ['um', ',', 'no.', '.'], ['jonathan', 'parker', \"'s\", 'bartleby', 'should', 'have', 'been', 'the', 'be-all-end-all', 'of', 'the', 'modern-office', 'anomie', 'films', '.'], ['campanella', 'gets', 'the', 'tone', 'just', 'right', '--', 'funny', 'in', 'the', 'middle', 'of', 'sad', 'in', 'the', 'middle', 'of', 'hopeful', '.'], ['a', 'fan', 'film', 'that', 'for', 'the', 'uninitiated', 'plays', 'better', 'on', 'video', 'with', 'the', 'sound', 'turned', 'down', '.'], ['béart', 'and', 'berling', 'are', 'both', 'superb', ',', 'while', 'huppert', '...', 'is', 'magnificent', '.']]\n",
      "[4, 1]\n"
     ]
    }
   ],
   "source": [
    "file_names = ['stsa.fine.test','stsa.fine.train','stsa.fine.dev']\n",
    "file_path = '/home/bruce/data/sentiment/'\n",
    "def read_file(fname=''):\n",
    "    with open(join(file_path,fname)) as fr:\n",
    "        lines = fr.readlines()\n",
    "    lines = [line.lower().strip() for line in lines]\n",
    "    lables = [int(line[0:1]) for line in lines]\n",
    "    words = [line[2:].split() for line in lines]\n",
    "    return words,lables       \n",
    "train_X,train_y = read_file(fname='stsa.fine.train')\n",
    "test_X,test_y = read_file(fname='stsa.fine.test')\n",
    "dev_X,dev_y = read_file(fname='stsa.fine.dev')\n",
    "print('train_X 的数量：',len(train_X))\n",
    "print('test_X 的数量：',len(test_X))\n",
    "print('dev_X 的数量：',len(dev_X))\n",
    "print(train_X[0:10])\n",
    "print(train_y[0:2])"
   ]
  },
  {
   "cell_type": "code",
   "execution_count": 8,
   "metadata": {
    "collapsed": false
   },
   "outputs": [],
   "source": [
    "word_set = set()\n",
    "all_data = chain(train_X,dev_X,test_X)\n",
    "for line in all_data:\n",
    "    word_set.update(line)\n",
    "# 总共有19536个词,词态：16005\n",
    "# train 中的单词有：16579  词态：13704"
   ]
  },
  {
   "cell_type": "code",
   "execution_count": 11,
   "metadata": {
    "collapsed": false
   },
   "outputs": [
    {
     "name": "stdout",
     "output_type": "stream",
     "text": [
      "19536\n"
     ]
    }
   ],
   "source": [
    "print(len(word_set))"
   ]
  },
  {
   "cell_type": "code",
   "execution_count": 9,
   "metadata": {
    "collapsed": false
   },
   "outputs": [
    {
     "name": "stdout",
     "output_type": "stream",
     "text": [
      "using google trained word embedding\n",
      "loading finished\n"
     ]
    }
   ],
   "source": [
    "from gensim.models import word2vec\n",
    "word2vec_model = 'google'\n",
    "embedding_dim = 300\n",
    "#we_file = '/home/bruce/data/glove/twitter/glove.twitter.27B.{0}d.txt'.format(embedding_dim)\n",
    "we_file = '/home/bruce/data/glove/twitter/glove.42B.300d.txt'\n",
    "google_w2v = '/home/bruce/data/google_word2vec/GoogleNews-vectors-negative300.bin'\n",
    "\n",
    "print('using google trained word embedding')\n",
    "google_model = word2vec.Word2Vec.load_word2vec_format(google_w2v, binary=True)\n",
    "print('loading finished')"
   ]
  },
  {
   "cell_type": "code",
   "execution_count": 21,
   "metadata": {
    "collapsed": false
   },
   "outputs": [
    {
     "name": "stdout",
     "output_type": "stream",
     "text": [
      "[-0.014949, 0.1791, -0.28883, -0.33999, -0.030165, 0.00057625, -4.0142, -0.56189, -0.24536, -0.90196, 0.42605, 0.30041, 0.32461, -0.094574, -0.13366, -0.049502, -0.24984, 0.023725, -0.39718, 0.17291, 0.062534, -0.34646, 0.29672, -0.11939, 0.13938, -0.50584, -0.21518, -0.73068, -0.051667, -0.069903, -0.071621, 0.38934, 0.17007, 0.19084, 0.040775, 0.0013094, 0.32719, -0.31138, 0.34084, -0.18078, -0.022643, 0.32605, 0.13847, -0.069246, 0.077059, 0.18622, -0.15879, 0.018862, 0.19157, -0.11791, 0.071837, -0.10129, 0.069355, 0.033117, 0.16184, -0.38982, -0.16356, -0.12119, 0.34246, 0.056193, -0.037565, -0.16854, 0.18214, 0.26026, -0.063287, -0.093168, -0.18505, 0.13058, 0.21269, -0.41993, -0.082688, 0.063783, 0.15828, -0.18407, -0.14867, -0.04469, 0.77545, 0.18728, 0.050465, -0.013003, -0.0708, -0.51099, -0.40859, -0.035602, -0.10428, -0.2234, 0.33998, -0.076035, -0.03264, -0.037299, -0.18082, 0.063581, 0.0051452, -0.45987, -0.21094, -0.56206, -2.3929, 0.034614, 0.40902, 0.081487, -0.0020817, 0.39564, -0.031031, -0.20894, -0.18744, -0.2481, 0.25515, -0.46924, -0.13959, 0.097956, -0.37738, 0.12116, -0.021726, -0.0059438, 0.20783, 0.20737, 0.81562, -0.67751, 0.29477, 0.18229, -0.042271, -0.26642, 0.10736, 0.22445, -0.20397, -0.49131, 0.10115, 0.12019, -0.1194, -0.016802, -0.36415, -0.080153, 0.051018, -0.44842, 0.2265, -0.021619, 0.37785, -0.24994, -0.0073165, 0.77456, 0.39436, -0.18304, 0.23201, -0.13569, -0.26692, -0.16569, -0.24404, 0.13501, 0.26217, -0.16322, 0.18089, -0.15639, 0.12229, -0.38965, 0.31833, -0.13878, 0.23247, 0.031254, -0.38539, 0.3011, -0.12461, 0.12069, -0.27977, 0.044042, -0.12104, -0.02281, -0.058538, -0.35483, 0.23713, -0.097158, -0.44894, 0.082827, 0.085183, 0.035283, -0.21025, 0.040391, -0.33818, 0.09738, 0.11225, 0.19501, -0.1562, 0.13022, -0.08153, -0.046094, 0.10796, -0.26636, 0.24266, -0.31957, 0.53819, 0.16366, 0.13988, -0.2067, 0.1314, 0.049284, 0.35513, -0.11817, 0.34368, 0.33374, -0.12097, -0.050766, 0.18658, 0.001428, -0.28846, -0.14927, 0.0037826, 0.092253, -0.079158, -0.44176, 0.45045, -0.21924, 0.17285, -0.24194, -0.18027, -0.35402, 0.018975, 0.12723, -0.25158, -0.01173, -0.21646, 0.0035812, 0.066, -0.24177, -0.23994, 0.027884, -2.7965, 0.10667, 0.13727, 0.22352, 0.17254, -0.27831, 0.080013, -0.051054, 0.63112, 0.031682, -0.42326, 0.18815, 0.38747, -0.012553, -0.21191, 0.057839, -0.057082, -0.14497, -0.38388, 0.20052, 0.055822, -0.040005, -0.051256, 0.070942, 0.027775, 0.23481, -0.26545, -0.20806, -0.093754, 0.38609, 0.040559, -0.23549, 0.30061, 0.15563, 0.046156, 0.0075508, -0.27485, -0.23408, 0.33414, -0.33647, -0.099405, -0.11208, -0.272, 0.14051, -0.18809, 0.025763, 0.038478, 0.0083357, -0.42713, -0.21649, 0.030883, -0.23209, 0.18609, 0.34209, 0.097109, -0.16616, 1.1353, 0.18662, 0.22876, 0.08164, 0.089013, -0.14447, 0.064785, 0.010417, 0.25046, -0.06917, 0.21302, -0.040679, -0.34699, -0.31536, 0.4771, -0.23487, -0.33792, 0.059178, -0.19221, 0.4562]\n"
     ]
    }
   ],
   "source": [
    "we_file = '/home/bruce/data/glove/CommonCrawl/glove.42B.300d.txt'\n",
    "sst5_word_embedding_glove_dict={}\n",
    "for line in open(we_file):\n",
    "    elements = line.strip().split()\n",
    "    if elements[0] in  word_set:\n",
    "        wordembedding = [float(i) for i in elements[1:]]\n",
    "        sst5_word_embedding_glove_dict[elements[0]] = wordembedding\n",
    "        if elements[0] == 'like':\n",
    "            print(wordembedding)\n",
    "\n",
    "        "
   ]
  },
  {
   "cell_type": "code",
   "execution_count": 13,
   "metadata": {
    "collapsed": false
   },
   "outputs": [
    {
     "name": "stdout",
     "output_type": "stream",
     "text": [
      "count_in =  15783\n",
      "count_out =  3753\n"
     ]
    }
   ],
   "source": [
    "sst5_word_embedding_dict={}\n",
    "count_in = 0\n",
    "count_out = 0\n",
    "for word in word_set:\n",
    "    if word in google_model:\n",
    "        count_in = count_in + 1 \n",
    "        sst5_word_embedding_dict[word] = google_model[word]\n",
    "    else:\n",
    "        count_out = count_out + 1\n",
    "print('count_in = ',count_in)\n",
    "print('count_out = ',count_out)\n",
    "\n",
    "    "
   ]
  },
  {
   "cell_type": "code",
   "execution_count": 22,
   "metadata": {
    "collapsed": false
   },
   "outputs": [
    {
     "data": {
      "text/plain": [
       "[-0.014949,\n",
       " 0.1791,\n",
       " -0.28883,\n",
       " -0.33999,\n",
       " -0.030165,\n",
       " 0.00057625,\n",
       " -4.0142,\n",
       " -0.56189,\n",
       " -0.24536,\n",
       " -0.90196,\n",
       " 0.42605,\n",
       " 0.30041,\n",
       " 0.32461,\n",
       " -0.094574,\n",
       " -0.13366,\n",
       " -0.049502,\n",
       " -0.24984,\n",
       " 0.023725,\n",
       " -0.39718,\n",
       " 0.17291,\n",
       " 0.062534,\n",
       " -0.34646,\n",
       " 0.29672,\n",
       " -0.11939,\n",
       " 0.13938,\n",
       " -0.50584,\n",
       " -0.21518,\n",
       " -0.73068,\n",
       " -0.051667,\n",
       " -0.069903,\n",
       " -0.071621,\n",
       " 0.38934,\n",
       " 0.17007,\n",
       " 0.19084,\n",
       " 0.040775,\n",
       " 0.0013094,\n",
       " 0.32719,\n",
       " -0.31138,\n",
       " 0.34084,\n",
       " -0.18078,\n",
       " -0.022643,\n",
       " 0.32605,\n",
       " 0.13847,\n",
       " -0.069246,\n",
       " 0.077059,\n",
       " 0.18622,\n",
       " -0.15879,\n",
       " 0.018862,\n",
       " 0.19157,\n",
       " -0.11791,\n",
       " 0.071837,\n",
       " -0.10129,\n",
       " 0.069355,\n",
       " 0.033117,\n",
       " 0.16184,\n",
       " -0.38982,\n",
       " -0.16356,\n",
       " -0.12119,\n",
       " 0.34246,\n",
       " 0.056193,\n",
       " -0.037565,\n",
       " -0.16854,\n",
       " 0.18214,\n",
       " 0.26026,\n",
       " -0.063287,\n",
       " -0.093168,\n",
       " -0.18505,\n",
       " 0.13058,\n",
       " 0.21269,\n",
       " -0.41993,\n",
       " -0.082688,\n",
       " 0.063783,\n",
       " 0.15828,\n",
       " -0.18407,\n",
       " -0.14867,\n",
       " -0.04469,\n",
       " 0.77545,\n",
       " 0.18728,\n",
       " 0.050465,\n",
       " -0.013003,\n",
       " -0.0708,\n",
       " -0.51099,\n",
       " -0.40859,\n",
       " -0.035602,\n",
       " -0.10428,\n",
       " -0.2234,\n",
       " 0.33998,\n",
       " -0.076035,\n",
       " -0.03264,\n",
       " -0.037299,\n",
       " -0.18082,\n",
       " 0.063581,\n",
       " 0.0051452,\n",
       " -0.45987,\n",
       " -0.21094,\n",
       " -0.56206,\n",
       " -2.3929,\n",
       " 0.034614,\n",
       " 0.40902,\n",
       " 0.081487,\n",
       " -0.0020817,\n",
       " 0.39564,\n",
       " -0.031031,\n",
       " -0.20894,\n",
       " -0.18744,\n",
       " -0.2481,\n",
       " 0.25515,\n",
       " -0.46924,\n",
       " -0.13959,\n",
       " 0.097956,\n",
       " -0.37738,\n",
       " 0.12116,\n",
       " -0.021726,\n",
       " -0.0059438,\n",
       " 0.20783,\n",
       " 0.20737,\n",
       " 0.81562,\n",
       " -0.67751,\n",
       " 0.29477,\n",
       " 0.18229,\n",
       " -0.042271,\n",
       " -0.26642,\n",
       " 0.10736,\n",
       " 0.22445,\n",
       " -0.20397,\n",
       " -0.49131,\n",
       " 0.10115,\n",
       " 0.12019,\n",
       " -0.1194,\n",
       " -0.016802,\n",
       " -0.36415,\n",
       " -0.080153,\n",
       " 0.051018,\n",
       " -0.44842,\n",
       " 0.2265,\n",
       " -0.021619,\n",
       " 0.37785,\n",
       " -0.24994,\n",
       " -0.0073165,\n",
       " 0.77456,\n",
       " 0.39436,\n",
       " -0.18304,\n",
       " 0.23201,\n",
       " -0.13569,\n",
       " -0.26692,\n",
       " -0.16569,\n",
       " -0.24404,\n",
       " 0.13501,\n",
       " 0.26217,\n",
       " -0.16322,\n",
       " 0.18089,\n",
       " -0.15639,\n",
       " 0.12229,\n",
       " -0.38965,\n",
       " 0.31833,\n",
       " -0.13878,\n",
       " 0.23247,\n",
       " 0.031254,\n",
       " -0.38539,\n",
       " 0.3011,\n",
       " -0.12461,\n",
       " 0.12069,\n",
       " -0.27977,\n",
       " 0.044042,\n",
       " -0.12104,\n",
       " -0.02281,\n",
       " -0.058538,\n",
       " -0.35483,\n",
       " 0.23713,\n",
       " -0.097158,\n",
       " -0.44894,\n",
       " 0.082827,\n",
       " 0.085183,\n",
       " 0.035283,\n",
       " -0.21025,\n",
       " 0.040391,\n",
       " -0.33818,\n",
       " 0.09738,\n",
       " 0.11225,\n",
       " 0.19501,\n",
       " -0.1562,\n",
       " 0.13022,\n",
       " -0.08153,\n",
       " -0.046094,\n",
       " 0.10796,\n",
       " -0.26636,\n",
       " 0.24266,\n",
       " -0.31957,\n",
       " 0.53819,\n",
       " 0.16366,\n",
       " 0.13988,\n",
       " -0.2067,\n",
       " 0.1314,\n",
       " 0.049284,\n",
       " 0.35513,\n",
       " -0.11817,\n",
       " 0.34368,\n",
       " 0.33374,\n",
       " -0.12097,\n",
       " -0.050766,\n",
       " 0.18658,\n",
       " 0.001428,\n",
       " -0.28846,\n",
       " -0.14927,\n",
       " 0.0037826,\n",
       " 0.092253,\n",
       " -0.079158,\n",
       " -0.44176,\n",
       " 0.45045,\n",
       " -0.21924,\n",
       " 0.17285,\n",
       " -0.24194,\n",
       " -0.18027,\n",
       " -0.35402,\n",
       " 0.018975,\n",
       " 0.12723,\n",
       " -0.25158,\n",
       " -0.01173,\n",
       " -0.21646,\n",
       " 0.0035812,\n",
       " 0.066,\n",
       " -0.24177,\n",
       " -0.23994,\n",
       " 0.027884,\n",
       " -2.7965,\n",
       " 0.10667,\n",
       " 0.13727,\n",
       " 0.22352,\n",
       " 0.17254,\n",
       " -0.27831,\n",
       " 0.080013,\n",
       " -0.051054,\n",
       " 0.63112,\n",
       " 0.031682,\n",
       " -0.42326,\n",
       " 0.18815,\n",
       " 0.38747,\n",
       " -0.012553,\n",
       " -0.21191,\n",
       " 0.057839,\n",
       " -0.057082,\n",
       " -0.14497,\n",
       " -0.38388,\n",
       " 0.20052,\n",
       " 0.055822,\n",
       " -0.040005,\n",
       " -0.051256,\n",
       " 0.070942,\n",
       " 0.027775,\n",
       " 0.23481,\n",
       " -0.26545,\n",
       " -0.20806,\n",
       " -0.093754,\n",
       " 0.38609,\n",
       " 0.040559,\n",
       " -0.23549,\n",
       " 0.30061,\n",
       " 0.15563,\n",
       " 0.046156,\n",
       " 0.0075508,\n",
       " -0.27485,\n",
       " -0.23408,\n",
       " 0.33414,\n",
       " -0.33647,\n",
       " -0.099405,\n",
       " -0.11208,\n",
       " -0.272,\n",
       " 0.14051,\n",
       " -0.18809,\n",
       " 0.025763,\n",
       " 0.038478,\n",
       " 0.0083357,\n",
       " -0.42713,\n",
       " -0.21649,\n",
       " 0.030883,\n",
       " -0.23209,\n",
       " 0.18609,\n",
       " 0.34209,\n",
       " 0.097109,\n",
       " -0.16616,\n",
       " 1.1353,\n",
       " 0.18662,\n",
       " 0.22876,\n",
       " 0.08164,\n",
       " 0.089013,\n",
       " -0.14447,\n",
       " 0.064785,\n",
       " 0.010417,\n",
       " 0.25046,\n",
       " -0.06917,\n",
       " 0.21302,\n",
       " -0.040679,\n",
       " -0.34699,\n",
       " -0.31536,\n",
       " 0.4771,\n",
       " -0.23487,\n",
       " -0.33792,\n",
       " 0.059178,\n",
       " -0.19221,\n",
       " 0.4562]"
      ]
     },
     "execution_count": 22,
     "metadata": {},
     "output_type": "execute_result"
    }
   ],
   "source": [
    "import pickle\n",
    "sst5_word_embedding_glove_dict['like']"
   ]
  },
  {
   "cell_type": "code",
   "execution_count": 23,
   "metadata": {
    "collapsed": false
   },
   "outputs": [],
   "source": [
    "with open('/home/bruce/data/glove/CommonCrawl/sst5_word_embedding_glove_dict.pkl','wb') as fw:\n",
    "    pickle.dump(sst5_word_embedding_glove_dict,fw)"
   ]
  },
  {
   "cell_type": "code",
   "execution_count": null,
   "metadata": {
    "collapsed": true
   },
   "outputs": [],
   "source": []
  }
 ],
 "metadata": {
  "anaconda-cloud": {},
  "kernelspec": {
   "display_name": "Python [Root]",
   "language": "python",
   "name": "Python [Root]"
  },
  "language_info": {
   "codemirror_mode": {
    "name": "ipython",
    "version": 3
   },
   "file_extension": ".py",
   "mimetype": "text/x-python",
   "name": "python",
   "nbconvert_exporter": "python",
   "pygments_lexer": "ipython3",
   "version": "3.5.2"
  }
 },
 "nbformat": 4,
 "nbformat_minor": 0
}
