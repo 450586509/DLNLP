{
 "cells": [
  {
   "cell_type": "markdown",
   "metadata": {},
   "source": [
    "## 模型介绍"
   ]
  },
  {
   "cell_type": "markdown",
   "metadata": {},
   "source": [
    "1. 利用训练好的词向量构造句子\n"
   ]
  },
  {
   "cell_type": "code",
   "execution_count": 1,
   "metadata": {
    "collapsed": false
   },
   "outputs": [
    {
     "name": "stderr",
     "output_type": "stream",
     "text": [
      "Using Theano backend.\n",
      "Using gpu device 0: GeForce GT 630 (CNMeM is enabled with initial size: 95.0% of memory, cuDNN 5005)\n",
      "/home/bruce/anaconda3/lib/python3.5/site-packages/gensim/utils.py:1015: UserWarning: Pattern library is not installed, lemmatization won't be available.\n",
      "  warnings.warn(\"Pattern library is not installed, lemmatization won't be available.\")\n"
     ]
    }
   ],
   "source": [
    "import keras \n",
    "from  os.path import join\n",
    "from keras.preprocessing import sequence\n",
    "from keras.models import Sequential\n",
    "from keras.layers import Dense, Dropout,Activation, Lambda,Input,Merge,Flatten,Reshape,GlobalMaxPooling2D,MaxPooling2D\n",
    "from keras.layers import Embedding\n",
    "from keras.layers import Convolution1D\n",
    "from keras.datasets import imdb\n",
    "from keras import backend as K\n",
    "from keras.layers import Convolution1D, GlobalMaxPooling1D,Convolution2D,merge\n",
    "from keras.utils import np_utils\n",
    "from keras.models import Model\n",
    "import numpy as np\n",
    "from gensim.models import word2vec\n",
    "from keras.regularizers import l2\n",
    "%matplotlib inline\n",
    "import matplotlib\n",
    "import numpy as np\n",
    "import matplotlib.pyplot as plt\n",
    "from keras.constraints import maxnorm\n",
    "import pickle\n",
    "import re\n",
    "from keras.callbacks import EarlyStopping"
   ]
  },
  {
   "cell_type": "markdown",
   "metadata": {},
   "source": [
    "## 数据预处理"
   ]
  },
  {
   "cell_type": "code",
   "execution_count": 2,
   "metadata": {
    "collapsed": true
   },
   "outputs": [],
   "source": [
    "def clean_str(string, TREC=False):\n",
    "    \"\"\"\n",
    "    Tokenization/string cleaning for all datasets except for SST.\n",
    "    Every dataset is lower cased except for TREC\n",
    "    \"\"\"\n",
    "    string = re.sub(r\"[^A-Za-z0-9(),!?\\'\\`]\", \" \", string)     \n",
    "    string = re.sub(r\"\\'s\", \" \\'s\", string) \n",
    "    string = re.sub(r\"\\'ve\", \" \\'ve\", string) \n",
    "    string = re.sub(r\"n\\'t\", \" n\\'t\", string) \n",
    "    string = re.sub(r\"\\'re\", \" \\'re\", string) \n",
    "    string = re.sub(r\"\\'d\", \" \\'d\", string) \n",
    "    string = re.sub(r\"\\'ll\", \" \\'ll\", string) \n",
    "    string = re.sub(r\",\", \" , \", string) \n",
    "    string = re.sub(r\"!\", \" ! \", string) \n",
    "    string = re.sub(r\"\\(\", \" \\( \", string) \n",
    "    string = re.sub(r\"\\)\", \" \\) \", string) \n",
    "    string = re.sub(r\"\\?\", \" \\? \", string) \n",
    "    string = re.sub(r\"\\s{2,}\", \" \", string)    \n",
    "    return string.strip() if TREC else string.strip().lower()\n",
    "def clean_str_sst(string):\n",
    "    \"\"\"\n",
    "    Tokenization/string cleaning for the SST dataset\n",
    "    \"\"\"\n",
    "    string = re.sub(r\"[^A-Za-z0-9(),!?\\'\\`]\", \" \", string)   \n",
    "    string = re.sub(r\"\\s{2,}\", \" \", string)    \n",
    "    return string.strip().lower()"
   ]
  },
  {
   "cell_type": "code",
   "execution_count": 3,
   "metadata": {
    "collapsed": false
   },
   "outputs": [
    {
     "name": "stdout",
     "output_type": "stream",
     "text": [
      "train_X 的数量： 8544\n",
      "test_X 的数量： 2210\n",
      "[['a', 'stirring', ',', 'funny', 'and', 'finally', 'transporting', 're', 'imagining', 'of', 'beauty', 'and', 'the', 'beast', 'and', '1930s', 'horror', 'films'], ['apparently', 'reassembled', 'from', 'the', 'cutting', 'room', 'floor', 'of', 'any', 'given', 'daytime', 'soap']]\n",
      "[4, 1]\n"
     ]
    }
   ],
   "source": [
    "file_names = ['stsa.fine.test','stsa.fine.train','stsa.fine.dev']\n",
    "file_path = '/home/bruce/data/sentiment/'\n",
    "def read_file(fname=''):\n",
    "    with open(join(file_path,fname)) as fr:\n",
    "        lines = fr.readlines()\n",
    "    lines = [clean_str(line) for line in lines]\n",
    "    lables = [int(line[0:1]) for line in lines]\n",
    "    words = [line[2:].split() for line in lines]\n",
    "    return words,lables       \n",
    "train_X,train_y = read_file(fname='stsa.fine.train')\n",
    "test_X,test_y = read_file(fname='stsa.fine.test')\n",
    "dev_X,dev_y = read_file(fname='stsa.fine.dev')\n",
    "print('train_X 的数量：',len(train_X))\n",
    "print('test_X 的数量：',len(test_X))\n",
    "#print('dev_X 的数量：',len(dev_X))\n",
    "print(train_X[0:2])\n",
    "print(train_y[0:2])"
   ]
  },
  {
   "cell_type": "code",
   "execution_count": null,
   "metadata": {
    "collapsed": false
   },
   "outputs": [],
   "source": []
  },
  {
   "cell_type": "markdown",
   "metadata": {},
   "source": [
    "## 句子长度统计信息"
   ]
  },
  {
   "cell_type": "code",
   "execution_count": 4,
   "metadata": {
    "collapsed": false,
    "scrolled": true
   },
   "outputs": [
    {
     "name": "stdout",
     "output_type": "stream",
     "text": [
      "total words :17836 / 17087\n",
      "length = 11855 /  10754\n",
      "max =  53\n",
      "min = 1\n",
      "average =  18.372884508090014\n",
      "top 50% =  18\n",
      "top 80% =  26\n",
      "top 90% =  31\n",
      "top 95% =  35\n"
     ]
    }
   ],
   "source": [
    "def statics_list2(arrays=[]):\n",
    "    lengths=[]\n",
    "    for array in arrays:\n",
    "        lengths=lengths+[len(i) for i in array]\n",
    "    wordset=set()\n",
    "    for data in arrays:\n",
    "        for sentence in data:\n",
    "            wordset.update(sentence)\n",
    "    print('total words :17836 /',len(wordset))\n",
    "    lengths = sorted(lengths)\n",
    "    length = len(lengths)\n",
    "    #google_dict(filename='/home/bruce/data/google_word2vec/google_word2vec_300.txt',wordset=wordset)\n",
    "    print('length = 11855 / ',len(lengths))\n",
    "    print('max = ',lengths[-1])\n",
    "    print('min =',lengths[0])\n",
    "    print('average = ',sum(lengths)/length)\n",
    "    \n",
    "    print('top 50% = ',lengths[int(0.5*length)])\n",
    "    print('top 80% = ',lengths[int(0.8*length)])\n",
    "    print('top 90% = ',lengths[int(0.9*length)])\n",
    "    print('top 95% = ',lengths[int(0.95*length)])\n",
    "    \n",
    "statics_list2(arrays=[train_X,test_X])"
   ]
  },
  {
   "cell_type": "code",
   "execution_count": 5,
   "metadata": {
    "collapsed": true
   },
   "outputs": [],
   "source": [
    "def token_to_index(datas=[]):\n",
    "    word_index={}\n",
    "    count=1\n",
    "    for data in datas:\n",
    "        for sentence in data:\n",
    "            for w in sentence:\n",
    "                if w not in word_index:\n",
    "                    word_index[w] = count\n",
    "                    count = count + 1\n",
    "    print('length of word_index =',len(word_index))\n",
    "    for i in range(len(datas)):\n",
    "        datas[i] = [[ word_index[w] for w in line ] for line in datas[i]] \n",
    "    return datas,word_index"
   ]
  },
  {
   "cell_type": "code",
   "execution_count": 6,
   "metadata": {
    "collapsed": false
   },
   "outputs": [
    {
     "name": "stdout",
     "output_type": "stream",
     "text": [
      "length of word_index = 17833\n",
      "17833\n"
     ]
    }
   ],
   "source": [
    "X,word_index = token_to_index(datas=[train_X,test_X,dev_X])\n",
    "train_X,test_X,dev_X= X\n",
    "print(len(word_index))"
   ]
  },
  {
   "cell_type": "code",
   "execution_count": 7,
   "metadata": {
    "collapsed": false
   },
   "outputs": [
    {
     "name": "stdout",
     "output_type": "stream",
     "text": [
      "[1, 2, 3, 4, 5, 6, 7, 8, 9, 10, 11, 5, 12, 13, 5, 14, 15, 16]\n",
      "['a', 'stirring', ',', 'funny', 'and', 'finally', 'transporting', 're', 'imagining', 'of', 'beauty', 'and', 'the', 'beast', 'and', '1930s', 'horror', 'films']\n",
      "['a', 'deliciously', 'nonsensical', 'comedy', 'about', 'a', 'city', 'coming', 'apart', 'at', 'its', 'seams']\n"
     ]
    }
   ],
   "source": [
    "##验证：\n",
    "print(train_X[0])\n",
    "## \n",
    "index_word = dict([(kv[1],kv[0])for kv in word_index.items()])\n",
    "sentence1 = [index_word[i] for i in train_X[0]]\n",
    "sentence2 = [index_word[i] for i in train_X[-1]]\n",
    "print(sentence1)\n",
    "print(sentence2)\n"
   ]
  },
  {
   "cell_type": "markdown",
   "metadata": {},
   "source": [
    "## 加载训练好的Glove或者google词向量"
   ]
  },
  {
   "cell_type": "code",
   "execution_count": 8,
   "metadata": {
    "collapsed": false
   },
   "outputs": [
    {
     "name": "stdout",
     "output_type": "stream",
     "text": [
      "using google embedding\n",
      "word_embedding size =  16262\n",
      "pretrained word number :16262 /  16262\n",
      "size of index_wordembedding =  17833\n"
     ]
    }
   ],
   "source": [
    "word2vec_model = 'google'\n",
    "embedding_dim = 300\n",
    "#we_file = '/home/bruce/data/glove/twitter/glove.twitter.27B.{0}d.txt'.format(embedding_dim)\n",
    "glove_w2v = '/home/bruce/data/glove/CommonCrawl/sst5_word_embedding_glove_dict.pkl'\n",
    "google_w2v = '/home/bruce/data/google_word2vec/sst5_word_embedding_google_dict.pkl'\n",
    "\n",
    "def get_index_embedding(word_index={}):\n",
    "    count_in =0\n",
    "    index_embedding ={}\n",
    "    if word2vec_model == 'google':\n",
    "        print('using google embedding')\n",
    "        with open(google_w2v,'rb') as fr:\n",
    "            word_embedding = pickle.load(fr)\n",
    "    else:\n",
    "        print('using glove embedding')\n",
    "        with open(glove_w2v,'rb') as fr:\n",
    "            word_embedding = pickle.load(fr)\n",
    "    print('word_embedding size = ',len(word_embedding))\n",
    "    for word,index in word_index.items():\n",
    "        if word in word_embedding:\n",
    "            count_in = count_in + 1\n",
    "            index_embedding[index] = word_embedding[word]\n",
    "        else:\n",
    "            index_embedding[index] = np.random.uniform(-0.25,0.25,embedding_dim)\n",
    "    print('pretrained word number :16262 / ',count_in)\n",
    "    return index_embedding\n",
    "index_embedding = get_index_embedding(word_index=word_index)\n",
    "print('size of index_wordembedding = ',len(index_embedding))\n"
   ]
  },
  {
   "cell_type": "code",
   "execution_count": 9,
   "metadata": {
    "collapsed": false
   },
   "outputs": [],
   "source": [
    "def get_trained_embedding(index_wordembedding=None):\n",
    "    index_we = sorted(index_wordembedding.items())\n",
    "    trained_embedding = [t[1] for t in index_we]\n",
    "    zeros = np.random.uniform(-0.25,0.25,embedding_dim)\n",
    "    #zeros = np.zeros(embedding_dim)\n",
    "    trained_embedding = np.vstack((zeros,trained_embedding))\n",
    "    return np.array(trained_embedding)\n"
   ]
  },
  {
   "cell_type": "markdown",
   "metadata": {},
   "source": [
    "## 构造模型"
   ]
  },
  {
   "cell_type": "markdown",
   "metadata": {},
   "source": [
    "#### 参数"
   ]
  },
  {
   "cell_type": "code",
   "execution_count": 10,
   "metadata": {
    "collapsed": false
   },
   "outputs": [],
   "source": [
    "max_len = 56\n",
    "batch_size=50\n",
    "\n",
    "max_features = 17833 + 1\n",
    "\n",
    "nb_filter = 100\n",
    "dense1_hindden = 300\n",
    "nb_classes = 5"
   ]
  },
  {
   "cell_type": "markdown",
   "metadata": {},
   "source": [
    "## 二维卷积模型"
   ]
  },
  {
   "cell_type": "code",
   "execution_count": 11,
   "metadata": {
    "collapsed": false
   },
   "outputs": [
    {
     "name": "stdout",
     "output_type": "stream",
     "text": [
      "trained_embedding shape =  (17834, 300)\n",
      "embedding dim =  300\n",
      "dropout input shape =  (None, 300)\n",
      "dropout output shape =  (None, 300)\n",
      "dropout input shape (300,) =  (None, 300)\n"
     ]
    }
   ],
   "source": [
    "input = Input(shape=(max_len,))\n",
    "trained_embedding = get_trained_embedding(index_embedding)\n",
    "print('trained_embedding shape = ',trained_embedding.shape)\n",
    "embedding = Embedding(output_dim=embedding_dim,\n",
    "                      input_dim=max_features,\n",
    "                      weights=[trained_embedding]\n",
    "                     )(input)\n",
    "reshape = Reshape((1,max_len,embedding_dim))(embedding)\n",
    "print('embedding dim = ',embedding_dim)\n",
    "#卷积\n",
    "conv2d_1 = Convolution2D(nb_filter,3,embedding_dim,border_mode='valid',activation='relu')\n",
    "conv2d_2 = Convolution2D(nb_filter,4,embedding_dim,border_mode='valid',activation='relu')\n",
    "conv2d_3 = Convolution2D(nb_filter,5,embedding_dim,border_mode='valid',activation='relu')\n",
    "conv1 = conv2d_1(reshape)\n",
    "conv2 = conv2d_2(reshape)\n",
    "conv3 = conv2d_3(reshape)\n",
    "maxpooling1 = MaxPooling2D(pool_size=(54,1))\n",
    "maxpooling2 = MaxPooling2D(pool_size=(53,1))\n",
    "maxpooling3 = MaxPooling2D(pool_size=(52,1))\n",
    "\n",
    "pool1 = maxpooling1(conv1)\n",
    "pool2 = maxpooling2(conv2)\n",
    "pool3 = maxpooling3(conv3)\n",
    "\n",
    "flat1 = Flatten()(pool1)\n",
    "flat2 = Flatten()(pool2)\n",
    "flat3 = Flatten()(pool3)\n",
    "#print('maxpooling2 output shape = ',maxpooling2.output_shape)\n",
    "#print('maxpooling3 output shape = ',maxpooling3.output_shape)\n",
    "#merged_vector = merge([conv1,conv2,conv3], mode='concat')\n",
    "mergelayer = Merge(mode='concat')\n",
    "merged_vector = mergelayer([flat1,flat2,flat3])\n",
    "dropout = Dropout(0.5)\n",
    "drop_vector = dropout(merged_vector)\n",
    "print('dropout input shape = ',dropout.input_shape)\n",
    "print('dropout output shape = ',dropout.output_shape)\n",
    "\n",
    "#全连接\n",
    "output = Dense(nb_classes,activation='softmax',W_constraint = maxnorm(3))(drop_vector)\n",
    "#output = Dense(nb_classes,activation='softmax')(merged_vector)\n",
    "\n",
    "print('dropout input shape (300,) = ',dropout.input_shape)\n",
    "#softmax\n",
    "model = Model(input=input,output=output)\n",
    "model.compile(optimizer='adadelta',\n",
    "              loss='categorical_crossentropy',\n",
    "              metrics=['accuracy']\n",
    "             )\n",
    "callbacks = [\n",
    "    EarlyStopping(monitor='val_loss', patience=7, verbose=1),\n",
    "    #ModelCheckpoint(kfold_weights_path, monitor='val_loss', save_best_only=True, verbose=0),\n",
    "]"
   ]
  },
  {
   "cell_type": "markdown",
   "metadata": {},
   "source": [
    "## Random 模型"
   ]
  },
  {
   "cell_type": "code",
   "execution_count": null,
   "metadata": {
    "collapsed": true
   },
   "outputs": [],
   "source": [
    "mode_in = Input(shape=(max_len,),dtype='int32')\n",
    "\n",
    "embedding = Embedding(output_dim=embedding_dim,\n",
    "                      input_dim=max_features,\n",
    "                      input_length = max_len\n",
    "                     )(mode_in)\n",
    "print('embedding dim = ',embedding_dim)\n",
    "#卷积\n",
    "conv_result=[]\n",
    "for i in range(3):\n",
    "    conv = Convolution1D(nb_filter,3+i,border_mode='same',activation='relu')(embedding)\n",
    "    pooling = GlobalMaxPooling1D()(conv)\n",
    "    conv_result.append(pooling)\n",
    "merge_layer = Merge(mode='concat')\n",
    "merge_out = merge_layer(conv_result)\n",
    "print('(None,{0}) = {1})'.format(3*nb_filter,merge_layer.output_shape))\n",
    "#Dropout\n",
    "merge_out = Dropout(0.5)(merge_out)\n",
    "    \n",
    "#softmax\n",
    "mode_out = Dense(nb_classes,activation='softmax',W_constraint = maxnorm(3))(merge_out)\n",
    "    \n",
    "#编译模型\n",
    "model = Model(input=mode_in,output=mode_out)\n",
    "model.compile(optimizer='adadelta',\n",
    "              loss='categorical_crossentropy',\n",
    "              metrics=['accuracy'])\n",
    "\n",
    "callbacks = [\n",
    "    EarlyStopping(monitor='val_loss', patience=7, verbose=1),\n",
    "    #ModelCheckpoint(kfold_weights_path, monitor='val_loss', save_best_only=True, verbose=0),\n",
    "]"
   ]
  },
  {
   "cell_type": "markdown",
   "metadata": {},
   "source": [
    "## static模型"
   ]
  },
  {
   "cell_type": "code",
   "execution_count": 94,
   "metadata": {
    "collapsed": false
   },
   "outputs": [
    {
     "name": "stdout",
     "output_type": "stream",
     "text": [
      "trained_embedding shape =  (17834, 300)\n",
      "embedding dim =  300\n",
      "conv1d_3 input shape: (None,56,300)  = (None, 56, 300)\n",
      "conv1d_3 output shape: (None,56,100)  = (None, 56, 100)\n",
      "dropout input shape (None,300) =  (None, 300)\n"
     ]
    }
   ],
   "source": [
    "mode_in = Input(shape=(max_len,),dtype='int32')\n",
    "trained_embedding = get_trained_embedding(index_embedding)\n",
    "print('trained_embedding shape = ',trained_embedding.shape)\n",
    "embedding = Embedding(output_dim=embedding_dim,\n",
    "                      input_dim=max_features,\n",
    "                      input_length = max_len,\n",
    "                      weights=[trained_embedding],\n",
    "                      trainable=False\n",
    "                     )(mode_in)\n",
    "print('embedding dim = ',embedding_dim)\n",
    "#卷积\n",
    "conv_result=[]\n",
    "for i in range(3):\n",
    "    conv = Convolution1D(nb_filter,3+i,border_mode='same',activation='relu')(embedding)\n",
    "    pooling = GlobalMaxPooling1D()(conv)\n",
    "    conv_result.append(pooling)\n",
    "merge_layer = Merge(mode='concat')\n",
    "merge_out = merge_layer(conv_result)\n",
    "print('(None,{0}) = {1})'.format(3*nb_filter,merge_layer.output_shape))\n",
    "#Dropout\n",
    "merge_out = Dropout(0.5)(merge_out)\n",
    "    \n",
    "#softmax\n",
    "mode_out = Dense(nb_classes,activation='softmax',W_constraint = maxnorm(3))(merge_out)\n",
    "    \n",
    "#编译模型\n",
    "model = Model(input=mode_in,output=mode_out)\n",
    "model.compile(optimizer='adadelta',\n",
    "              loss='categorical_crossentropy',\n",
    "              metrics=['accuracy'])\n",
    "\n",
    "callbacks = [\n",
    "    EarlyStopping(monitor='val_loss', patience=7, verbose=1),\n",
    "    #ModelCheckpoint(kfold_weights_path, monitor='val_loss', save_best_only=True, verbose=0),\n",
    "]"
   ]
  },
  {
   "cell_type": "markdown",
   "metadata": {},
   "source": [
    "## non-static 模型"
   ]
  },
  {
   "cell_type": "code",
   "execution_count": null,
   "metadata": {
    "collapsed": false
   },
   "outputs": [],
   "source": [
    "mode_in = Input(shape=(max_len,),dtype='int32')\n",
    "trained_embedding = get_trained_embedding(index_embedding)\n",
    "print('trained_embedding shape = ',trained_embedding.shape)\n",
    "embedding = Embedding(output_dim=embedding_dim,\n",
    "                      input_dim=max_features,\n",
    "                      input_length = max_len,\n",
    "                      weights=[trained_embedding],\n",
    "                     )(mode_in)\n",
    "print('embedding dim = ',embedding_dim)\n",
    "#卷积\n",
    "conv_result=[]\n",
    "for i in range(3):\n",
    "    conv = Convolution1D(nb_filter,3+i,border_mode='same',activation='relu')(embedding)\n",
    "    pooling = GlobalMaxPooling1D()(conv)\n",
    "    conv_result.append(pooling)\n",
    "merge_layer = Merge(mode='concat')\n",
    "merge_out = merge_layer(conv_result)\n",
    "print('(None,{0}) = {1})'.format(3*nb_filter,merge_layer.output_shape))\n",
    "#Dropout\n",
    "merge_out = Dropout(0.5)(merge_out)\n",
    "    \n",
    "#softmax\n",
    "mode_out = Dense(nb_classes,activation='softmax',W_constraint = maxnorm(3))(merge_out)\n",
    "    \n",
    "#编译模型\n",
    "model = Model(input=mode_in,output=mode_out)\n",
    "model.compile(optimizer='adadelta',\n",
    "              loss='categorical_crossentropy',\n",
    "              metrics=['accuracy'])\n",
    "\n",
    "callbacks = [\n",
    "    EarlyStopping(monitor='val_loss', patience=7, verbose=1),\n",
    "    #ModelCheckpoint(kfold_weights_path, monitor='val_loss', save_best_only=True, verbose=0),\n",
    "]"
   ]
  },
  {
   "cell_type": "markdown",
   "metadata": {},
   "source": [
    "## 多通道模型"
   ]
  },
  {
   "cell_type": "code",
   "execution_count": null,
   "metadata": {
    "collapsed": true
   },
   "outputs": [],
   "source": [
    "mode_in = Input(shape=(max_len,),dtype='int32')\n",
    "trained_embedding = get_trained_embedding(index_embedding)\n",
    "print('trained_embedding shape = ',trained_embedding.shape)\n",
    "\n",
    "embedding_non_static = Embedding(output_dim=embedding_dim,\n",
    "                      input_dim=max_features,\n",
    "                      input_length = max_len,\n",
    "                      weights=[trained_embedding],\n",
    "                     )(mode_in)\n",
    "embedding_static = Embedding(output_dim=embedding_dim,\n",
    "                      input_dim=max_features,\n",
    "                      input_length = max_len,\n",
    "                      weights=[trained_embedding],\n",
    "                      trainable=False\n",
    "                     )(mode_in)\n",
    "\n",
    "print('embedding dim = ',embedding_dim)\n",
    "#卷积\n",
    "conv_result=[]\n",
    "for i in range(3):\n",
    "    conv_layer = Convolution1D(nb_filter,3+i,border_mode='same',activation='relu')\n",
    "    conv1 = conv_layer(embedding_static)\n",
    "    conv2 = conv_layer(embedding_non_static)\n",
    "    pooling1 = GlobalMaxPooling1D()(conv1)\n",
    "    pooling2 = GlobalMaxPooling1D()(conv2)\n",
    "    conv_result.append(pooling1)\n",
    "    conv_result.append(pooling2)\n",
    "merge_layer = Merge(mode='concat')\n",
    "merge_out = merge_layer(conv_result)\n",
    "print('(None,{0}) = {1})'.format(3*nb_filter,merge_layer.output_shape))\n",
    "#Dropout\n",
    "merge_out = Dropout(0.5)(merge_out)\n",
    "    \n",
    "#softmax\n",
    "mode_out = Dense(nb_classes,activation='softmax',W_constraint = maxnorm(3))(merge_out)\n",
    "    \n",
    "#编译模型\n",
    "model = Model(input=mode_in,output=mode_out)\n",
    "model.compile(optimizer='adadelta',\n",
    "              loss='categorical_crossentropy',\n",
    "              metrics=['accuracy'])\n",
    "\n",
    "callbacks = [\n",
    "    EarlyStopping(monitor='val_loss', patience=7, verbose=1),\n",
    "    #ModelCheckpoint(kfold_weights_path, monitor='val_loss', save_best_only=True, verbose=0),\n",
    "]"
   ]
  },
  {
   "cell_type": "markdown",
   "metadata": {},
   "source": [
    "## 模型图"
   ]
  },
  {
   "cell_type": "code",
   "execution_count": 12,
   "metadata": {
    "collapsed": false
   },
   "outputs": [
    {
     "data": {
      "image/svg+xml": [
       "<svg height=\"629pt\" viewBox=\"0.00 0.00 812.00 629.00\" width=\"812pt\" xmlns=\"http://www.w3.org/2000/svg\" xmlns:xlink=\"http://www.w3.org/1999/xlink\">\n",
       "<g class=\"graph\" id=\"graph0\" transform=\"scale(1 1) rotate(0) translate(4 625)\">\n",
       "<title>G</title>\n",
       "<polygon fill=\"white\" points=\"-4,4 -4,-625 808,-625 808,4 -4,4\" stroke=\"none\"/>\n",
       "<!-- 140271972254720 -->\n",
       "<g class=\"node\" id=\"node1\"><title>140271972254720</title>\n",
       "<polygon fill=\"none\" points=\"319,-584.5 319,-620.5 485,-620.5 485,-584.5 319,-584.5\" stroke=\"black\"/>\n",
       "<text font-family=\"Times,serif\" font-size=\"14.00\" text-anchor=\"middle\" x=\"402\" y=\"-598.8\">input_1 (InputLayer)</text>\n",
       "</g>\n",
       "<!-- 140271972254608 -->\n",
       "<g class=\"node\" id=\"node2\"><title>140271972254608</title>\n",
       "<polygon fill=\"none\" points=\"297.5,-511.5 297.5,-547.5 506.5,-547.5 506.5,-511.5 297.5,-511.5\" stroke=\"black\"/>\n",
       "<text font-family=\"Times,serif\" font-size=\"14.00\" text-anchor=\"middle\" x=\"402\" y=\"-525.8\">embedding_1 (Embedding)</text>\n",
       "</g>\n",
       "<!-- 140271972254720&#45;&gt;140271972254608 -->\n",
       "<g class=\"edge\" id=\"edge1\"><title>140271972254720-&gt;140271972254608</title>\n",
       "<path d=\"M402,-584.313C402,-576.289 402,-566.547 402,-557.569\" fill=\"none\" stroke=\"black\"/>\n",
       "<polygon fill=\"black\" points=\"405.5,-557.529 402,-547.529 398.5,-557.529 405.5,-557.529\" stroke=\"black\"/>\n",
       "</g>\n",
       "<!-- 140271972386352 -->\n",
       "<g class=\"node\" id=\"node3\"><title>140271972386352</title>\n",
       "<polygon fill=\"none\" points=\"319,-438.5 319,-474.5 485,-474.5 485,-438.5 319,-438.5\" stroke=\"black\"/>\n",
       "<text font-family=\"Times,serif\" font-size=\"14.00\" text-anchor=\"middle\" x=\"402\" y=\"-452.8\">reshape_1 (Reshape)</text>\n",
       "</g>\n",
       "<!-- 140271972254608&#45;&gt;140271972386352 -->\n",
       "<g class=\"edge\" id=\"edge2\"><title>140271972254608-&gt;140271972386352</title>\n",
       "<path d=\"M402,-511.313C402,-503.289 402,-493.547 402,-484.569\" fill=\"none\" stroke=\"black\"/>\n",
       "<polygon fill=\"black\" points=\"405.5,-484.529 402,-474.529 398.5,-484.529 405.5,-484.529\" stroke=\"black\"/>\n",
       "</g>\n",
       "<!-- 140271972257688 -->\n",
       "<g class=\"node\" id=\"node4\"><title>140271972257688</title>\n",
       "<polygon fill=\"none\" points=\"0,-365.5 0,-401.5 256,-401.5 256,-365.5 0,-365.5\" stroke=\"black\"/>\n",
       "<text font-family=\"Times,serif\" font-size=\"14.00\" text-anchor=\"middle\" x=\"128\" y=\"-379.8\">convolution2d_1 (Convolution2D)</text>\n",
       "</g>\n",
       "<!-- 140271972386352&#45;&gt;140271972257688 -->\n",
       "<g class=\"edge\" id=\"edge3\"><title>140271972386352-&gt;140271972257688</title>\n",
       "<path d=\"M336.37,-438.494C296.503,-428.163 245.448,-414.934 203.855,-404.156\" fill=\"none\" stroke=\"black\"/>\n",
       "<polygon fill=\"black\" points=\"204.602,-400.734 194.044,-401.614 202.846,-407.51 204.602,-400.734\" stroke=\"black\"/>\n",
       "</g>\n",
       "<!-- 140271972254048 -->\n",
       "<g class=\"node\" id=\"node5\"><title>140271972254048</title>\n",
       "<polygon fill=\"none\" points=\"274,-365.5 274,-401.5 530,-401.5 530,-365.5 274,-365.5\" stroke=\"black\"/>\n",
       "<text font-family=\"Times,serif\" font-size=\"14.00\" text-anchor=\"middle\" x=\"402\" y=\"-379.8\">convolution2d_2 (Convolution2D)</text>\n",
       "</g>\n",
       "<!-- 140271972386352&#45;&gt;140271972254048 -->\n",
       "<g class=\"edge\" id=\"edge4\"><title>140271972386352-&gt;140271972254048</title>\n",
       "<path d=\"M402,-438.313C402,-430.289 402,-420.547 402,-411.569\" fill=\"none\" stroke=\"black\"/>\n",
       "<polygon fill=\"black\" points=\"405.5,-411.529 402,-401.529 398.5,-411.529 405.5,-411.529\" stroke=\"black\"/>\n",
       "</g>\n",
       "<!-- 140271982662824 -->\n",
       "<g class=\"node\" id=\"node6\"><title>140271982662824</title>\n",
       "<polygon fill=\"none\" points=\"548,-365.5 548,-401.5 804,-401.5 804,-365.5 548,-365.5\" stroke=\"black\"/>\n",
       "<text font-family=\"Times,serif\" font-size=\"14.00\" text-anchor=\"middle\" x=\"676\" y=\"-379.8\">convolution2d_3 (Convolution2D)</text>\n",
       "</g>\n",
       "<!-- 140271972386352&#45;&gt;140271982662824 -->\n",
       "<g class=\"edge\" id=\"edge5\"><title>140271972386352-&gt;140271982662824</title>\n",
       "<path d=\"M467.63,-438.494C507.497,-428.163 558.552,-414.934 600.145,-404.156\" fill=\"none\" stroke=\"black\"/>\n",
       "<polygon fill=\"black\" points=\"601.154,-407.51 609.956,-401.614 599.398,-400.734 601.154,-407.51\" stroke=\"black\"/>\n",
       "</g>\n",
       "<!-- 140271982879072 -->\n",
       "<g class=\"node\" id=\"node7\"><title>140271982879072</title>\n",
       "<polygon fill=\"none\" points=\"3.5,-292.5 3.5,-328.5 256.5,-328.5 256.5,-292.5 3.5,-292.5\" stroke=\"black\"/>\n",
       "<text font-family=\"Times,serif\" font-size=\"14.00\" text-anchor=\"middle\" x=\"130\" y=\"-306.8\">maxpooling2d_1 (MaxPooling2D)</text>\n",
       "</g>\n",
       "<!-- 140271972257688&#45;&gt;140271982879072 -->\n",
       "<g class=\"edge\" id=\"edge6\"><title>140271972257688-&gt;140271982879072</title>\n",
       "<path d=\"M128.484,-365.313C128.71,-357.289 128.985,-347.547 129.237,-338.569\" fill=\"none\" stroke=\"black\"/>\n",
       "<polygon fill=\"black\" points=\"132.737,-338.623 129.52,-328.529 125.74,-338.426 132.737,-338.623\" stroke=\"black\"/>\n",
       "</g>\n",
       "<!-- 140271982881536 -->\n",
       "<g class=\"node\" id=\"node8\"><title>140271982881536</title>\n",
       "<polygon fill=\"none\" points=\"275.5,-292.5 275.5,-328.5 528.5,-328.5 528.5,-292.5 275.5,-292.5\" stroke=\"black\"/>\n",
       "<text font-family=\"Times,serif\" font-size=\"14.00\" text-anchor=\"middle\" x=\"402\" y=\"-306.8\">maxpooling2d_2 (MaxPooling2D)</text>\n",
       "</g>\n",
       "<!-- 140271972254048&#45;&gt;140271982881536 -->\n",
       "<g class=\"edge\" id=\"edge7\"><title>140271972254048-&gt;140271982881536</title>\n",
       "<path d=\"M402,-365.313C402,-357.289 402,-347.547 402,-338.569\" fill=\"none\" stroke=\"black\"/>\n",
       "<polygon fill=\"black\" points=\"405.5,-338.529 402,-328.529 398.5,-338.529 405.5,-338.529\" stroke=\"black\"/>\n",
       "</g>\n",
       "<!-- 140271973951640 -->\n",
       "<g class=\"node\" id=\"node9\"><title>140271973951640</title>\n",
       "<polygon fill=\"none\" points=\"547.5,-292.5 547.5,-328.5 800.5,-328.5 800.5,-292.5 547.5,-292.5\" stroke=\"black\"/>\n",
       "<text font-family=\"Times,serif\" font-size=\"14.00\" text-anchor=\"middle\" x=\"674\" y=\"-306.8\">maxpooling2d_3 (MaxPooling2D)</text>\n",
       "</g>\n",
       "<!-- 140271982662824&#45;&gt;140271973951640 -->\n",
       "<g class=\"edge\" id=\"edge8\"><title>140271982662824-&gt;140271973951640</title>\n",
       "<path d=\"M675.516,-365.313C675.29,-357.289 675.015,-347.547 674.763,-338.569\" fill=\"none\" stroke=\"black\"/>\n",
       "<polygon fill=\"black\" points=\"678.26,-338.426 674.48,-328.529 671.263,-338.623 678.26,-338.426\" stroke=\"black\"/>\n",
       "</g>\n",
       "<!-- 140271973951192 -->\n",
       "<g class=\"node\" id=\"node10\"><title>140271973951192</title>\n",
       "<polygon fill=\"none\" points=\"111,-219.5 111,-255.5 257,-255.5 257,-219.5 111,-219.5\" stroke=\"black\"/>\n",
       "<text font-family=\"Times,serif\" font-size=\"14.00\" text-anchor=\"middle\" x=\"184\" y=\"-233.8\">flatten_1 (Flatten)</text>\n",
       "</g>\n",
       "<!-- 140271982879072&#45;&gt;140271973951192 -->\n",
       "<g class=\"edge\" id=\"edge9\"><title>140271982879072-&gt;140271973951192</title>\n",
       "<path d=\"M143.072,-292.313C149.638,-283.679 157.719,-273.055 164.96,-263.534\" fill=\"none\" stroke=\"black\"/>\n",
       "<polygon fill=\"black\" points=\"167.781,-265.607 171.048,-255.529 162.209,-261.37 167.781,-265.607\" stroke=\"black\"/>\n",
       "</g>\n",
       "<!-- 140271973949680 -->\n",
       "<g class=\"node\" id=\"node11\"><title>140271973949680</title>\n",
       "<polygon fill=\"none\" points=\"329,-219.5 329,-255.5 475,-255.5 475,-219.5 329,-219.5\" stroke=\"black\"/>\n",
       "<text font-family=\"Times,serif\" font-size=\"14.00\" text-anchor=\"middle\" x=\"402\" y=\"-233.8\">flatten_2 (Flatten)</text>\n",
       "</g>\n",
       "<!-- 140271982881536&#45;&gt;140271973949680 -->\n",
       "<g class=\"edge\" id=\"edge10\"><title>140271982881536-&gt;140271973949680</title>\n",
       "<path d=\"M402,-292.313C402,-284.289 402,-274.547 402,-265.569\" fill=\"none\" stroke=\"black\"/>\n",
       "<polygon fill=\"black\" points=\"405.5,-265.529 402,-255.529 398.5,-265.529 405.5,-265.529\" stroke=\"black\"/>\n",
       "</g>\n",
       "<!-- 140271982722800 -->\n",
       "<g class=\"node\" id=\"node12\"><title>140271982722800</title>\n",
       "<polygon fill=\"none\" points=\"547,-219.5 547,-255.5 693,-255.5 693,-219.5 547,-219.5\" stroke=\"black\"/>\n",
       "<text font-family=\"Times,serif\" font-size=\"14.00\" text-anchor=\"middle\" x=\"620\" y=\"-233.8\">flatten_3 (Flatten)</text>\n",
       "</g>\n",
       "<!-- 140271973951640&#45;&gt;140271982722800 -->\n",
       "<g class=\"edge\" id=\"edge11\"><title>140271973951640-&gt;140271982722800</title>\n",
       "<path d=\"M660.928,-292.313C654.362,-283.679 646.281,-273.055 639.04,-263.534\" fill=\"none\" stroke=\"black\"/>\n",
       "<polygon fill=\"black\" points=\"641.791,-261.37 632.952,-255.529 636.219,-265.607 641.791,-261.37\" stroke=\"black\"/>\n",
       "</g>\n",
       "<!-- 140271972058448 -->\n",
       "<g class=\"node\" id=\"node13\"><title>140271972058448</title>\n",
       "<polygon fill=\"none\" points=\"331.5,-146.5 331.5,-182.5 472.5,-182.5 472.5,-146.5 331.5,-146.5\" stroke=\"black\"/>\n",
       "<text font-family=\"Times,serif\" font-size=\"14.00\" text-anchor=\"middle\" x=\"402\" y=\"-160.8\">merge_1 (Merge)</text>\n",
       "</g>\n",
       "<!-- 140271973951192&#45;&gt;140271972058448 -->\n",
       "<g class=\"edge\" id=\"edge12\"><title>140271973951192-&gt;140271972058448</title>\n",
       "<path d=\"M236.216,-219.494C267.266,-209.381 306.846,-196.491 339.544,-185.841\" fill=\"none\" stroke=\"black\"/>\n",
       "<polygon fill=\"black\" points=\"341.03,-189.038 349.454,-182.614 338.862,-182.382 341.03,-189.038\" stroke=\"black\"/>\n",
       "</g>\n",
       "<!-- 140271973949680&#45;&gt;140271972058448 -->\n",
       "<g class=\"edge\" id=\"edge13\"><title>140271973949680-&gt;140271972058448</title>\n",
       "<path d=\"M402,-219.313C402,-211.289 402,-201.547 402,-192.569\" fill=\"none\" stroke=\"black\"/>\n",
       "<polygon fill=\"black\" points=\"405.5,-192.529 402,-182.529 398.5,-192.529 405.5,-192.529\" stroke=\"black\"/>\n",
       "</g>\n",
       "<!-- 140271982722800&#45;&gt;140271972058448 -->\n",
       "<g class=\"edge\" id=\"edge14\"><title>140271982722800-&gt;140271972058448</title>\n",
       "<path d=\"M567.784,-219.494C536.734,-209.381 497.154,-196.491 464.456,-185.841\" fill=\"none\" stroke=\"black\"/>\n",
       "<polygon fill=\"black\" points=\"465.138,-182.382 454.546,-182.614 462.97,-189.038 465.138,-182.382\" stroke=\"black\"/>\n",
       "</g>\n",
       "<!-- 140271972264480 -->\n",
       "<g class=\"node\" id=\"node14\"><title>140271972264480</title>\n",
       "<polygon fill=\"none\" points=\"320.5,-73.5 320.5,-109.5 483.5,-109.5 483.5,-73.5 320.5,-73.5\" stroke=\"black\"/>\n",
       "<text font-family=\"Times,serif\" font-size=\"14.00\" text-anchor=\"middle\" x=\"402\" y=\"-87.8\">dropout_1 (Dropout)</text>\n",
       "</g>\n",
       "<!-- 140271972058448&#45;&gt;140271972264480 -->\n",
       "<g class=\"edge\" id=\"edge15\"><title>140271972058448-&gt;140271972264480</title>\n",
       "<path d=\"M402,-146.313C402,-138.289 402,-128.547 402,-119.569\" fill=\"none\" stroke=\"black\"/>\n",
       "<polygon fill=\"black\" points=\"405.5,-119.529 402,-109.529 398.5,-119.529 405.5,-119.529\" stroke=\"black\"/>\n",
       "</g>\n",
       "<!-- 140271973940024 -->\n",
       "<g class=\"node\" id=\"node15\"><title>140271973940024</title>\n",
       "<polygon fill=\"none\" points=\"335,-0.5 335,-36.5 469,-36.5 469,-0.5 335,-0.5\" stroke=\"black\"/>\n",
       "<text font-family=\"Times,serif\" font-size=\"14.00\" text-anchor=\"middle\" x=\"402\" y=\"-14.8\">dense_1 (Dense)</text>\n",
       "</g>\n",
       "<!-- 140271972264480&#45;&gt;140271973940024 -->\n",
       "<g class=\"edge\" id=\"edge16\"><title>140271972264480-&gt;140271973940024</title>\n",
       "<path d=\"M402,-73.3129C402,-65.2895 402,-55.5475 402,-46.5691\" fill=\"none\" stroke=\"black\"/>\n",
       "<polygon fill=\"black\" points=\"405.5,-46.5288 402,-36.5288 398.5,-46.5289 405.5,-46.5288\" stroke=\"black\"/>\n",
       "</g>\n",
       "</g>\n",
       "</svg>"
      ],
      "text/plain": [
       "<IPython.core.display.SVG object>"
      ]
     },
     "execution_count": 12,
     "metadata": {},
     "output_type": "execute_result"
    }
   ],
   "source": [
    "from IPython.display import SVG\n",
    "from keras.utils.visualize_util import model_to_dot\n",
    "SVG(model_to_dot(model).create(prog='dot', format='svg'))"
   ]
  },
  {
   "cell_type": "markdown",
   "metadata": {},
   "source": [
    "## 模型输入"
   ]
  },
  {
   "cell_type": "code",
   "execution_count": 13,
   "metadata": {
    "collapsed": false
   },
   "outputs": [
    {
     "name": "stdout",
     "output_type": "stream",
     "text": [
      "<class 'int'>\n"
     ]
    }
   ],
   "source": [
    "print(type(train_y[0]))\n",
    "train_y_model = np_utils.to_categorical(train_y, nb_classes)\n",
    "#dev_y_model = np_utils.to_categorical(dev_y, nb_classes)\n",
    "train_X_model = sequence.pad_sequences(train_X, maxlen=max_len)\n",
    "#dev_X_model = sequence.pad_sequences(dev_X, maxlen=max_len)"
   ]
  },
  {
   "cell_type": "code",
   "execution_count": 14,
   "metadata": {
    "collapsed": true
   },
   "outputs": [],
   "source": [
    "#test 数据\n",
    "#test_index_X= [[word_index[w] if w in word_index else 0 for w in line] for line in test_X]\n",
    "test_index_X = test_X\n",
    "test_X_model = sequence.pad_sequences(test_index_X,maxlen=max_len)\n",
    "test_y_model = np_utils.to_categorical(test_y,nb_classes)"
   ]
  },
  {
   "cell_type": "code",
   "execution_count": 15,
   "metadata": {
    "collapsed": true
   },
   "outputs": [],
   "source": [
    "def shuffle(X,y):\n",
    "    index=np.array(range(len(X)))\n",
    "    np.random.shuffle(index)\n",
    "    return X[index],y[index]\n",
    "    \n",
    "\n",
    "def my_generator(X=None,y=None):\n",
    "    i = 0\n",
    "    max_i = int(len(X)/batch_size)\n",
    "    while True:\n",
    "        i = i % max_i\n",
    "        if i ==0:\n",
    "            X,y = shuffle(X,y)\n",
    "        x_batch = X[i*batch_size:(i+1)*batch_size]\n",
    "        y_batch = y[i*batch_size:(i+1)*batch_size]\n",
    "        yield (x_batch,y_batch)\n",
    "        i = i + 1\n",
    "    "
   ]
  },
  {
   "cell_type": "code",
   "execution_count": 99,
   "metadata": {
    "collapsed": false
   },
   "outputs": [
    {
     "name": "stdout",
     "output_type": "stream",
     "text": [
      "[<keras.engine.topology.InputLayer object at 0x7f308327bb00>, <keras.layers.embeddings.Embedding object at 0x7f308327b128>, <keras.layers.convolutional.Convolution1D object at 0x7f30c4e33978>, <keras.layers.convolutional.Convolution1D object at 0x7f308327b4a8>, <keras.layers.convolutional.Convolution1D object at 0x7f30c4e33cc0>, <keras.layers.pooling.GlobalMaxPooling1D object at 0x7f30c6216550>, <keras.layers.pooling.GlobalMaxPooling1D object at 0x7f30c6216518>, <keras.layers.pooling.GlobalMaxPooling1D object at 0x7f30c6396cc0>, <keras.engine.topology.Merge object at 0x7f30c6396c50>, <keras.layers.core.Dropout object at 0x7f30c6396be0>, <keras.layers.core.Dense object at 0x7f30c63968d0>]\n",
      "(None, 56)\n",
      "(None, 56)\n"
     ]
    }
   ],
   "source": [
    "print (model.layers)\n",
    "print(model.layers[0].output_shape)\n",
    "print(model.layers[1].input_shape)"
   ]
  },
  {
   "cell_type": "code",
   "execution_count": 100,
   "metadata": {
    "collapsed": false
   },
   "outputs": [
    {
     "name": "stdout",
     "output_type": "stream",
     "text": [
      "Epoch 1/80\n",
      "4000/4000 [==============================] - 15s - loss: 1.5886 - acc: 0.2765 - val_loss: 1.5003 - val_acc: 0.3615\n",
      "Epoch 2/80\n",
      "4000/4000 [==============================] - 15s - loss: 1.5182 - acc: 0.3210 - val_loss: 1.4409 - val_acc: 0.3982\n",
      "Epoch 3/80\n",
      "4000/4000 [==============================] - 15s - loss: 1.4187 - acc: 0.3885 - val_loss: 1.3976 - val_acc: 0.4118\n",
      "Epoch 4/80\n",
      "4000/4000 [==============================] - 15s - loss: 1.3601 - acc: 0.4258 - val_loss: 1.3621 - val_acc: 0.4014\n",
      "Epoch 5/80\n",
      "4000/4000 [==============================] - 15s - loss: 1.2883 - acc: 0.4645 - val_loss: 1.3179 - val_acc: 0.4371\n",
      "Epoch 6/80\n",
      "4000/4000 [==============================] - 15s - loss: 1.2464 - acc: 0.4848 - val_loss: 1.3003 - val_acc: 0.4348\n",
      "Epoch 7/80\n",
      "4000/4000 [==============================] - 15s - loss: 1.1961 - acc: 0.5085 - val_loss: 1.2924 - val_acc: 0.4321\n",
      "Epoch 8/80\n",
      "4000/4000 [==============================] - 15s - loss: 1.1526 - acc: 0.5442 - val_loss: 1.2513 - val_acc: 0.4529\n",
      "Epoch 9/80\n",
      "4000/4000 [==============================] - 15s - loss: 1.1110 - acc: 0.5600 - val_loss: 1.2371 - val_acc: 0.4602\n",
      "Epoch 10/80\n",
      "4000/4000 [==============================] - 15s - loss: 1.0713 - acc: 0.5910 - val_loss: 1.2302 - val_acc: 0.4566\n",
      "Epoch 11/80\n",
      "4000/4000 [==============================] - 15s - loss: 1.0556 - acc: 0.5903 - val_loss: 1.2297 - val_acc: 0.4489\n",
      "Epoch 12/80\n",
      "4000/4000 [==============================] - 15s - loss: 1.0127 - acc: 0.6280 - val_loss: 1.2068 - val_acc: 0.4683\n",
      "Epoch 13/80\n",
      "4000/4000 [==============================] - 15s - loss: 0.9812 - acc: 0.6388 - val_loss: 1.2079 - val_acc: 0.4579\n",
      "Epoch 14/80\n",
      "4000/4000 [==============================] - 15s - loss: 0.9180 - acc: 0.6820 - val_loss: 1.1995 - val_acc: 0.4670\n",
      "Epoch 15/80\n",
      "4000/4000 [==============================] - 15s - loss: 0.9286 - acc: 0.6565 - val_loss: 1.2048 - val_acc: 0.4597\n",
      "Epoch 16/80\n",
      "4000/4000 [==============================] - 15s - loss: 0.8571 - acc: 0.7055 - val_loss: 1.1998 - val_acc: 0.4602\n",
      "Epoch 17/80\n",
      "4000/4000 [==============================] - 15s - loss: 0.8613 - acc: 0.7010 - val_loss: 1.1853 - val_acc: 0.4719\n",
      "Epoch 18/80\n",
      "4000/4000 [==============================] - 15s - loss: 0.7912 - acc: 0.7385 - val_loss: 1.1869 - val_acc: 0.4710\n",
      "Epoch 19/80\n",
      "4000/4000 [==============================] - 15s - loss: 0.7838 - acc: 0.7442 - val_loss: 1.1929 - val_acc: 0.4701\n",
      "Epoch 20/80\n",
      "4000/4000 [==============================] - 15s - loss: 0.7377 - acc: 0.7620 - val_loss: 1.1852 - val_acc: 0.4710\n",
      "Epoch 21/80\n",
      "4000/4000 [==============================] - 15s - loss: 0.7306 - acc: 0.7535 - val_loss: 1.1805 - val_acc: 0.4751\n",
      "Epoch 22/80\n",
      "4000/4000 [==============================] - 15s - loss: 0.6751 - acc: 0.7967 - val_loss: 1.1829 - val_acc: 0.4683\n",
      "Epoch 23/80\n",
      "4000/4000 [==============================] - 15s - loss: 0.6708 - acc: 0.7972 - val_loss: 1.1910 - val_acc: 0.4670\n",
      "Epoch 24/80\n",
      "4000/4000 [==============================] - 15s - loss: 0.6068 - acc: 0.8367 - val_loss: 1.2058 - val_acc: 0.4665\n",
      "Epoch 25/80\n",
      "4000/4000 [==============================] - 15s - loss: 0.5947 - acc: 0.8217 - val_loss: 1.1779 - val_acc: 0.4769\n",
      "Epoch 26/80\n",
      "4000/4000 [==============================] - 15s - loss: 0.5669 - acc: 0.8442 - val_loss: 1.1950 - val_acc: 0.4733\n",
      "Epoch 27/80\n",
      "4000/4000 [==============================] - 15s - loss: 0.5209 - acc: 0.8612 - val_loss: 1.1955 - val_acc: 0.4756\n",
      "Epoch 28/80\n",
      "4000/4000 [==============================] - 15s - loss: 0.5229 - acc: 0.8650 - val_loss: 1.1975 - val_acc: 0.4715\n",
      "Epoch 29/80\n",
      "4000/4000 [==============================] - 15s - loss: 0.4796 - acc: 0.8742 - val_loss: 1.1951 - val_acc: 0.4706\n",
      "Epoch 30/80\n",
      "4000/4000 [==============================] - 15s - loss: 0.4640 - acc: 0.8780 - val_loss: 1.2290 - val_acc: 0.4688\n",
      "Epoch 31/80\n",
      "4000/4000 [==============================] - 15s - loss: 0.4234 - acc: 0.9020 - val_loss: 1.2228 - val_acc: 0.4742\n",
      "Epoch 32/80\n",
      "4000/4000 [==============================] - 15s - loss: 0.4302 - acc: 0.8880 - val_loss: 1.2184 - val_acc: 0.4656\n",
      "Epoch 33/80\n",
      "4000/4000 [==============================] - 15s - loss: 0.3930 - acc: 0.9070 - val_loss: 1.2201 - val_acc: 0.4706\n",
      "Epoch 34/80\n",
      "4000/4000 [==============================] - 15s - loss: 0.3821 - acc: 0.9105 - val_loss: 1.2203 - val_acc: 0.4656\n",
      "Epoch 35/80\n",
      "4000/4000 [==============================] - 15s - loss: 0.3360 - acc: 0.9312 - val_loss: 1.2452 - val_acc: 0.4674\n",
      "Epoch 36/80\n",
      "4000/4000 [==============================] - 15s - loss: 0.3528 - acc: 0.9140 - val_loss: 1.2334 - val_acc: 0.4665\n",
      "Epoch 37/80\n",
      "4000/4000 [==============================] - 15s - loss: 0.3171 - acc: 0.9362 - val_loss: 1.2349 - val_acc: 0.4665\n",
      "Epoch 38/80\n",
      "4000/4000 [==============================] - 15s - loss: 0.3164 - acc: 0.9320 - val_loss: 1.2606 - val_acc: 0.4624\n",
      "Epoch 39/80\n",
      "4000/4000 [==============================] - 15s - loss: 0.3035 - acc: 0.9425 - val_loss: 1.2599 - val_acc: 0.4624\n",
      "Epoch 40/80\n",
      "4000/4000 [==============================] - 15s - loss: 0.2984 - acc: 0.9455 - val_loss: 1.2512 - val_acc: 0.4661\n",
      "Epoch 41/80\n",
      "4000/4000 [==============================] - 15s - loss: 0.2867 - acc: 0.9475 - val_loss: 1.2550 - val_acc: 0.4629\n",
      "Epoch 42/80\n",
      "4000/4000 [==============================] - 15s - loss: 0.2726 - acc: 0.9482 - val_loss: 1.2593 - val_acc: 0.4719\n",
      "Epoch 43/80\n",
      "4000/4000 [==============================] - 15s - loss: 0.2654 - acc: 0.9525 - val_loss: 1.2599 - val_acc: 0.4570\n",
      "Epoch 44/80\n",
      "4000/4000 [==============================] - 15s - loss: 0.2605 - acc: 0.9563 - val_loss: 1.2476 - val_acc: 0.4652\n",
      "Epoch 45/80\n",
      "4000/4000 [==============================] - 15s - loss: 0.2518 - acc: 0.9517 - val_loss: 1.2594 - val_acc: 0.4670\n",
      "Epoch 46/80\n",
      "4000/4000 [==============================] - 15s - loss: 0.2330 - acc: 0.9640 - val_loss: 1.2907 - val_acc: 0.4584\n",
      "Epoch 47/80\n",
      "4000/4000 [==============================] - 15s - loss: 0.2477 - acc: 0.9540 - val_loss: 1.2835 - val_acc: 0.4665\n",
      "Epoch 48/80\n",
      "4000/4000 [==============================] - 15s - loss: 0.2171 - acc: 0.9653 - val_loss: 1.2718 - val_acc: 0.4611\n",
      "Epoch 49/80\n",
      "4000/4000 [==============================] - 15s - loss: 0.2302 - acc: 0.9575 - val_loss: 1.2900 - val_acc: 0.4656\n",
      "Epoch 50/80\n",
      "4000/4000 [==============================] - 15s - loss: 0.1985 - acc: 0.9733 - val_loss: 1.2831 - val_acc: 0.4606\n",
      "Epoch 51/80\n",
      "4000/4000 [==============================] - 15s - loss: 0.2198 - acc: 0.9620 - val_loss: 1.2943 - val_acc: 0.4688\n",
      "Epoch 52/80\n",
      "4000/4000 [==============================] - 15s - loss: 0.1905 - acc: 0.9730 - val_loss: 1.3011 - val_acc: 0.4579\n",
      "Epoch 53/80\n",
      "4000/4000 [==============================] - 15s - loss: 0.1976 - acc: 0.9693 - val_loss: 1.2997 - val_acc: 0.4620\n",
      "Epoch 54/80\n",
      "4000/4000 [==============================] - 15s - loss: 0.1868 - acc: 0.9738 - val_loss: 1.3131 - val_acc: 0.4593\n",
      "Epoch 55/80\n",
      "4000/4000 [==============================] - 15s - loss: 0.1888 - acc: 0.9723 - val_loss: 1.2925 - val_acc: 0.4584\n",
      "Epoch 56/80\n",
      "4000/4000 [==============================] - 15s - loss: 0.1680 - acc: 0.9770 - val_loss: 1.3008 - val_acc: 0.4534\n",
      "Epoch 57/80\n",
      "4000/4000 [==============================] - 15s - loss: 0.1732 - acc: 0.9790 - val_loss: 1.3166 - val_acc: 0.4661\n",
      "Epoch 58/80\n",
      "4000/4000 [==============================] - 15s - loss: 0.1645 - acc: 0.9808 - val_loss: 1.3024 - val_acc: 0.4697\n",
      "Epoch 59/80\n",
      "4000/4000 [==============================] - 15s - loss: 0.1564 - acc: 0.9785 - val_loss: 1.3228 - val_acc: 0.4552\n",
      "Epoch 60/80\n",
      "4000/4000 [==============================] - 15s - loss: 0.1596 - acc: 0.9780 - val_loss: 1.3377 - val_acc: 0.4652\n",
      "Epoch 61/80\n",
      "4000/4000 [==============================] - 15s - loss: 0.1532 - acc: 0.9775 - val_loss: 1.3401 - val_acc: 0.4593\n",
      "Epoch 62/80\n",
      "4000/4000 [==============================] - 15s - loss: 0.1494 - acc: 0.9828 - val_loss: 1.3334 - val_acc: 0.4462\n",
      "Epoch 63/80\n",
      "4000/4000 [==============================] - 15s - loss: 0.1437 - acc: 0.9835 - val_loss: 1.3243 - val_acc: 0.4620\n",
      "Epoch 64/80\n",
      "4000/4000 [==============================] - 15s - loss: 0.1408 - acc: 0.9813 - val_loss: 1.3411 - val_acc: 0.4633\n",
      "Epoch 65/80\n",
      "4000/4000 [==============================] - 15s - loss: 0.1279 - acc: 0.9883 - val_loss: 1.3297 - val_acc: 0.4629\n",
      "Epoch 66/80\n",
      "4000/4000 [==============================] - 15s - loss: 0.1411 - acc: 0.9805 - val_loss: 1.3323 - val_acc: 0.4529\n",
      "Epoch 67/80\n",
      "4000/4000 [==============================] - 15s - loss: 0.1265 - acc: 0.9870 - val_loss: 1.3629 - val_acc: 0.4507\n",
      "Epoch 68/80\n",
      "4000/4000 [==============================] - 15s - loss: 0.1288 - acc: 0.9853 - val_loss: 1.3453 - val_acc: 0.4462\n",
      "Epoch 69/80\n",
      "4000/4000 [==============================] - 15s - loss: 0.1157 - acc: 0.9873 - val_loss: 1.3684 - val_acc: 0.4566\n",
      "Epoch 70/80\n",
      "4000/4000 [==============================] - 15s - loss: 0.1238 - acc: 0.9843 - val_loss: 1.3544 - val_acc: 0.4489\n",
      "Epoch 71/80\n",
      "4000/4000 [==============================] - 15s - loss: 0.1090 - acc: 0.9883 - val_loss: 1.3623 - val_acc: 0.4561\n",
      "Epoch 72/80\n",
      "4000/4000 [==============================] - 15s - loss: 0.1195 - acc: 0.9878 - val_loss: 1.3655 - val_acc: 0.4538\n",
      "Epoch 73/80\n",
      "4000/4000 [==============================] - 15s - loss: 0.1005 - acc: 0.9915 - val_loss: 1.3704 - val_acc: 0.4606\n",
      "Epoch 74/80\n",
      "4000/4000 [==============================] - 15s - loss: 0.1095 - acc: 0.9888 - val_loss: 1.3941 - val_acc: 0.4588\n",
      "Epoch 75/80\n",
      "4000/4000 [==============================] - 15s - loss: 0.1004 - acc: 0.9913 - val_loss: 1.3782 - val_acc: 0.4552\n",
      "Epoch 76/80\n",
      "4000/4000 [==============================] - 15s - loss: 0.1019 - acc: 0.9890 - val_loss: 1.3771 - val_acc: 0.4529\n",
      "Epoch 77/80\n",
      "4000/4000 [==============================] - 15s - loss: 0.0995 - acc: 0.9893 - val_loss: 1.4061 - val_acc: 0.4557\n",
      "Epoch 78/80\n",
      "4000/4000 [==============================] - 15s - loss: 0.0934 - acc: 0.9900 - val_loss: 1.4021 - val_acc: 0.4570\n",
      "Epoch 79/80\n",
      "4000/4000 [==============================] - 15s - loss: 0.0905 - acc: 0.9930 - val_loss: 1.4009 - val_acc: 0.4629\n",
      "Epoch 80/80\n",
      "4000/4000 [==============================] - 15s - loss: 0.0886 - acc: 0.9920 - val_loss: 1.4189 - val_acc: 0.4543\n"
     ]
    }
   ],
   "source": [
    "history_data = model.fit_generator(my_generator(train_X_model,train_y_model),samples_per_epoch = 40*100,nb_epoch=80,verbose=1,validation_data=(test_X_model,test_y_model))#history_data = model.fit_generator(my_generator(train_X_model,train_y_model),samples_per_epoch = 40*100,nb_epoch=50,verbose=1,validation_data=(test_X_model,test_y_model))"
   ]
  },
  {
   "cell_type": "code",
   "execution_count": 16,
   "metadata": {
    "collapsed": false
   },
   "outputs": [
    {
     "name": "stdout",
     "output_type": "stream",
     "text": [
      "Epoch 1/80\n",
      "4000/4000 [==============================] - 12s - loss: 1.5362 - acc: 0.3030 - val_loss: 1.4823 - val_acc: 0.3443\n",
      "Epoch 2/80\n",
      "1950/4000 [=============>................] - ETA: 5s - loss: 1.4522 - acc: 0.3667"
     ]
    },
    {
     "ename": "KeyboardInterrupt",
     "evalue": "",
     "output_type": "error",
     "traceback": [
      "\u001b[1;31m---------------------------------------------------------------------------\u001b[0m",
      "\u001b[1;31mKeyboardInterrupt\u001b[0m                         Traceback (most recent call last)",
      "\u001b[1;32m<ipython-input-16-76e10efcd2c1>\u001b[0m in \u001b[0;36m<module>\u001b[1;34m()\u001b[0m\n\u001b[1;32m----> 1\u001b[1;33m \u001b[0mhistory_data\u001b[0m \u001b[1;33m=\u001b[0m \u001b[0mmodel\u001b[0m\u001b[1;33m.\u001b[0m\u001b[0mfit_generator\u001b[0m\u001b[1;33m(\u001b[0m\u001b[0mmy_generator\u001b[0m\u001b[1;33m(\u001b[0m\u001b[0mtrain_X_model\u001b[0m\u001b[1;33m,\u001b[0m\u001b[0mtrain_y_model\u001b[0m\u001b[1;33m)\u001b[0m\u001b[1;33m,\u001b[0m\u001b[0msamples_per_epoch\u001b[0m \u001b[1;33m=\u001b[0m \u001b[1;36m40\u001b[0m\u001b[1;33m*\u001b[0m\u001b[1;36m100\u001b[0m\u001b[1;33m,\u001b[0m\u001b[0mnb_epoch\u001b[0m\u001b[1;33m=\u001b[0m\u001b[1;36m80\u001b[0m\u001b[1;33m,\u001b[0m\u001b[0mverbose\u001b[0m\u001b[1;33m=\u001b[0m\u001b[1;36m1\u001b[0m\u001b[1;33m,\u001b[0m\u001b[0mvalidation_data\u001b[0m\u001b[1;33m=\u001b[0m\u001b[1;33m(\u001b[0m\u001b[0mtest_X_model\u001b[0m\u001b[1;33m,\u001b[0m\u001b[0mtest_y_model\u001b[0m\u001b[1;33m)\u001b[0m\u001b[1;33m)\u001b[0m\u001b[1;31m#history_data = model.fit_generator(my_generator(train_X_model,train_y_model),samples_per_epoch = 40*100,nb_epoch=50,verbose=1,validation_data=(test_X_model,test_y_model))\u001b[0m\u001b[1;33m\u001b[0m\u001b[0m\n\u001b[0m",
      "\u001b[1;32m/home/bruce/anaconda3/lib/python3.5/site-packages/keras/engine/training.py\u001b[0m in \u001b[0;36mfit_generator\u001b[1;34m(self, generator, samples_per_epoch, nb_epoch, verbose, callbacks, validation_data, nb_val_samples, class_weight, max_q_size, nb_worker, pickle_safe)\u001b[0m\n\u001b[0;32m   1441\u001b[0m                     outs = self.train_on_batch(x, y,\n\u001b[0;32m   1442\u001b[0m                                                \u001b[0msample_weight\u001b[0m\u001b[1;33m=\u001b[0m\u001b[0msample_weight\u001b[0m\u001b[1;33m,\u001b[0m\u001b[1;33m\u001b[0m\u001b[0m\n\u001b[1;32m-> 1443\u001b[1;33m                                                class_weight=class_weight)\n\u001b[0m\u001b[0;32m   1444\u001b[0m                 \u001b[1;32mexcept\u001b[0m\u001b[1;33m:\u001b[0m\u001b[1;33m\u001b[0m\u001b[0m\n\u001b[0;32m   1445\u001b[0m                     \u001b[0m_stop\u001b[0m\u001b[1;33m.\u001b[0m\u001b[0mset\u001b[0m\u001b[1;33m(\u001b[0m\u001b[1;33m)\u001b[0m\u001b[1;33m\u001b[0m\u001b[0m\n",
      "\u001b[1;32m/home/bruce/anaconda3/lib/python3.5/site-packages/keras/engine/training.py\u001b[0m in \u001b[0;36mtrain_on_batch\u001b[1;34m(self, x, y, sample_weight, class_weight)\u001b[0m\n\u001b[0;32m   1219\u001b[0m             \u001b[0mins\u001b[0m \u001b[1;33m=\u001b[0m \u001b[0mx\u001b[0m \u001b[1;33m+\u001b[0m \u001b[0my\u001b[0m \u001b[1;33m+\u001b[0m \u001b[0msample_weights\u001b[0m\u001b[1;33m\u001b[0m\u001b[0m\n\u001b[0;32m   1220\u001b[0m         \u001b[0mself\u001b[0m\u001b[1;33m.\u001b[0m\u001b[0m_make_train_function\u001b[0m\u001b[1;33m(\u001b[0m\u001b[1;33m)\u001b[0m\u001b[1;33m\u001b[0m\u001b[0m\n\u001b[1;32m-> 1221\u001b[1;33m         \u001b[0moutputs\u001b[0m \u001b[1;33m=\u001b[0m \u001b[0mself\u001b[0m\u001b[1;33m.\u001b[0m\u001b[0mtrain_function\u001b[0m\u001b[1;33m(\u001b[0m\u001b[0mins\u001b[0m\u001b[1;33m)\u001b[0m\u001b[1;33m\u001b[0m\u001b[0m\n\u001b[0m\u001b[0;32m   1222\u001b[0m         \u001b[1;32mif\u001b[0m \u001b[0mlen\u001b[0m\u001b[1;33m(\u001b[0m\u001b[0moutputs\u001b[0m\u001b[1;33m)\u001b[0m \u001b[1;33m==\u001b[0m \u001b[1;36m1\u001b[0m\u001b[1;33m:\u001b[0m\u001b[1;33m\u001b[0m\u001b[0m\n\u001b[0;32m   1223\u001b[0m             \u001b[1;32mreturn\u001b[0m \u001b[0moutputs\u001b[0m\u001b[1;33m[\u001b[0m\u001b[1;36m0\u001b[0m\u001b[1;33m]\u001b[0m\u001b[1;33m\u001b[0m\u001b[0m\n",
      "\u001b[1;32m/home/bruce/anaconda3/lib/python3.5/site-packages/keras/backend/theano_backend.py\u001b[0m in \u001b[0;36m__call__\u001b[1;34m(self, inputs)\u001b[0m\n\u001b[0;32m    715\u001b[0m     \u001b[1;32mdef\u001b[0m \u001b[0m__call__\u001b[0m\u001b[1;33m(\u001b[0m\u001b[0mself\u001b[0m\u001b[1;33m,\u001b[0m \u001b[0minputs\u001b[0m\u001b[1;33m)\u001b[0m\u001b[1;33m:\u001b[0m\u001b[1;33m\u001b[0m\u001b[0m\n\u001b[0;32m    716\u001b[0m         \u001b[1;32massert\u001b[0m \u001b[0mtype\u001b[0m\u001b[1;33m(\u001b[0m\u001b[0minputs\u001b[0m\u001b[1;33m)\u001b[0m \u001b[1;32min\u001b[0m \u001b[1;33m{\u001b[0m\u001b[0mlist\u001b[0m\u001b[1;33m,\u001b[0m \u001b[0mtuple\u001b[0m\u001b[1;33m}\u001b[0m\u001b[1;33m\u001b[0m\u001b[0m\n\u001b[1;32m--> 717\u001b[1;33m         \u001b[1;32mreturn\u001b[0m \u001b[0mself\u001b[0m\u001b[1;33m.\u001b[0m\u001b[0mfunction\u001b[0m\u001b[1;33m(\u001b[0m\u001b[1;33m*\u001b[0m\u001b[0minputs\u001b[0m\u001b[1;33m)\u001b[0m\u001b[1;33m\u001b[0m\u001b[0m\n\u001b[0m\u001b[0;32m    718\u001b[0m \u001b[1;33m\u001b[0m\u001b[0m\n\u001b[0;32m    719\u001b[0m \u001b[1;33m\u001b[0m\u001b[0m\n",
      "\u001b[1;32m/home/bruce/anaconda3/lib/python3.5/site-packages/theano/compile/function_module.py\u001b[0m in \u001b[0;36m__call__\u001b[1;34m(self, *args, **kwargs)\u001b[0m\n\u001b[0;32m    857\u001b[0m         \u001b[0mt0_fn\u001b[0m \u001b[1;33m=\u001b[0m \u001b[0mtime\u001b[0m\u001b[1;33m.\u001b[0m\u001b[0mtime\u001b[0m\u001b[1;33m(\u001b[0m\u001b[1;33m)\u001b[0m\u001b[1;33m\u001b[0m\u001b[0m\n\u001b[0;32m    858\u001b[0m         \u001b[1;32mtry\u001b[0m\u001b[1;33m:\u001b[0m\u001b[1;33m\u001b[0m\u001b[0m\n\u001b[1;32m--> 859\u001b[1;33m             \u001b[0moutputs\u001b[0m \u001b[1;33m=\u001b[0m \u001b[0mself\u001b[0m\u001b[1;33m.\u001b[0m\u001b[0mfn\u001b[0m\u001b[1;33m(\u001b[0m\u001b[1;33m)\u001b[0m\u001b[1;33m\u001b[0m\u001b[0m\n\u001b[0m\u001b[0;32m    860\u001b[0m         \u001b[1;32mexcept\u001b[0m \u001b[0mException\u001b[0m\u001b[1;33m:\u001b[0m\u001b[1;33m\u001b[0m\u001b[0m\n\u001b[0;32m    861\u001b[0m             \u001b[1;32mif\u001b[0m \u001b[0mhasattr\u001b[0m\u001b[1;33m(\u001b[0m\u001b[0mself\u001b[0m\u001b[1;33m.\u001b[0m\u001b[0mfn\u001b[0m\u001b[1;33m,\u001b[0m \u001b[1;34m'position_of_error'\u001b[0m\u001b[1;33m)\u001b[0m\u001b[1;33m:\u001b[0m\u001b[1;33m\u001b[0m\u001b[0m\n",
      "\u001b[1;32m/home/bruce/anaconda3/lib/python3.5/site-packages/theano/gof/op.py\u001b[0m in \u001b[0;36mrval\u001b[1;34m(p, i, o, n)\u001b[0m\n\u001b[0;32m    909\u001b[0m         \u001b[1;32mif\u001b[0m \u001b[0mparams\u001b[0m \u001b[1;32mis\u001b[0m \u001b[0mgraph\u001b[0m\u001b[1;33m.\u001b[0m\u001b[0mNoParams\u001b[0m\u001b[1;33m:\u001b[0m\u001b[1;33m\u001b[0m\u001b[0m\n\u001b[0;32m    910\u001b[0m             \u001b[1;31m# default arguments are stored in the closure of `rval`\u001b[0m\u001b[1;33m\u001b[0m\u001b[1;33m\u001b[0m\u001b[0m\n\u001b[1;32m--> 911\u001b[1;33m             \u001b[1;32mdef\u001b[0m \u001b[0mrval\u001b[0m\u001b[1;33m(\u001b[0m\u001b[0mp\u001b[0m\u001b[1;33m=\u001b[0m\u001b[0mp\u001b[0m\u001b[1;33m,\u001b[0m \u001b[0mi\u001b[0m\u001b[1;33m=\u001b[0m\u001b[0mnode_input_storage\u001b[0m\u001b[1;33m,\u001b[0m \u001b[0mo\u001b[0m\u001b[1;33m=\u001b[0m\u001b[0mnode_output_storage\u001b[0m\u001b[1;33m,\u001b[0m \u001b[0mn\u001b[0m\u001b[1;33m=\u001b[0m\u001b[0mnode\u001b[0m\u001b[1;33m)\u001b[0m\u001b[1;33m:\u001b[0m\u001b[1;33m\u001b[0m\u001b[0m\n\u001b[0m\u001b[0;32m    912\u001b[0m                 \u001b[0mr\u001b[0m \u001b[1;33m=\u001b[0m \u001b[0mp\u001b[0m\u001b[1;33m(\u001b[0m\u001b[0mn\u001b[0m\u001b[1;33m,\u001b[0m \u001b[1;33m[\u001b[0m\u001b[0mx\u001b[0m\u001b[1;33m[\u001b[0m\u001b[1;36m0\u001b[0m\u001b[1;33m]\u001b[0m \u001b[1;32mfor\u001b[0m \u001b[0mx\u001b[0m \u001b[1;32min\u001b[0m \u001b[0mi\u001b[0m\u001b[1;33m]\u001b[0m\u001b[1;33m,\u001b[0m \u001b[0mo\u001b[0m\u001b[1;33m)\u001b[0m\u001b[1;33m\u001b[0m\u001b[0m\n\u001b[0;32m    913\u001b[0m                 \u001b[1;32mfor\u001b[0m \u001b[0mo\u001b[0m \u001b[1;32min\u001b[0m \u001b[0mnode\u001b[0m\u001b[1;33m.\u001b[0m\u001b[0moutputs\u001b[0m\u001b[1;33m:\u001b[0m\u001b[1;33m\u001b[0m\u001b[0m\n",
      "\u001b[1;31mKeyboardInterrupt\u001b[0m: "
     ]
    }
   ],
   "source": [
    "history_data = model.fit_generator(my_generator(train_X_model,train_y_model),samples_per_epoch = 40*100,nb_epoch=80,verbose=1,validation_data=(test_X_model,test_y_model))#history_data = model.fit_generator(my_generator(train_X_model,train_y_model),samples_per_epoch = 40*100,nb_epoch=50,verbose=1,validation_data=(test_X_model,test_y_model))"
   ]
  },
  {
   "cell_type": "code",
   "execution_count": null,
   "metadata": {
    "collapsed": true
   },
   "outputs": [],
   "source": [
    "## 只有np.uniform(-0.25,0.25,k)\n",
    "#Epoch 23/50 4000/4000 [==============================] - 12s - loss: 0.6418 - acc: 0.7897 - val_loss: 1.1927 - val_acc: 0.4796\n",
    "#Epoch 30/70b 2000/2000 [==============================] - 7s - loss: 0.8755 - acc: 0.6840 - val_loss: 1.1844 - val_acc: 0.4778\n",
    "## np.uniform(-0.25,0.25,k) ,dev数据，验证dev数据是否会影响算法。\n",
    "\n",
    "## "
   ]
  },
  {
   "cell_type": "code",
   "execution_count": null,
   "metadata": {
    "collapsed": false
   },
   "outputs": [
    {
     "name": "stdout",
     "output_type": "stream",
     "text": [
      "test_X_model shape (2210, 56)\n",
      "Train on 8544 samples, validate on 2210 samples\n",
      "Epoch 1/30\n",
      "\r",
      "  50/8544 [..............................] - ETA: 14s - loss: 1.4262 - acc: 0.2600"
     ]
    }
   ],
   "source": [
    "print('test_X_model shape',test_X_model.shape)\n",
    "history_data = model.fit(train_X_model,train_y_model,batch_size=50,nb_epoch=30,validation_data=(test_X_model,test_y_model))"
   ]
  },
  {
   "cell_type": "code",
   "execution_count": 80,
   "metadata": {
    "collapsed": false
   },
   "outputs": [
    {
     "name": "stdout",
     "output_type": "stream",
     "text": [
      "test_X_model shape (2210, 56)\n",
      "Train on 8544 samples, validate on 2210 samples\n",
      "Epoch 1/30\n",
      "1750/8544 [=====>........................] - ETA: 18s - loss: 0.0852 - acc: 0.9897"
     ]
    },
    {
     "ename": "KeyboardInterrupt",
     "evalue": "",
     "output_type": "error",
     "traceback": [
      "\u001b[1;31m---------------------------------------------------------------------------\u001b[0m",
      "\u001b[1;31mKeyboardInterrupt\u001b[0m                         Traceback (most recent call last)",
      "\u001b[1;32m<ipython-input-80-5fbe2e4bbb8c>\u001b[0m in \u001b[0;36m<module>\u001b[1;34m()\u001b[0m\n\u001b[0;32m      1\u001b[0m \u001b[0mprint\u001b[0m\u001b[1;33m(\u001b[0m\u001b[1;34m'test_X_model shape'\u001b[0m\u001b[1;33m,\u001b[0m\u001b[0mtest_X_model\u001b[0m\u001b[1;33m.\u001b[0m\u001b[0mshape\u001b[0m\u001b[1;33m)\u001b[0m\u001b[1;33m\u001b[0m\u001b[0m\n\u001b[1;32m----> 2\u001b[1;33m \u001b[0mhistory_data\u001b[0m \u001b[1;33m=\u001b[0m \u001b[0mmodel\u001b[0m\u001b[1;33m.\u001b[0m\u001b[0mfit\u001b[0m\u001b[1;33m(\u001b[0m\u001b[0mtrain_X_model\u001b[0m\u001b[1;33m,\u001b[0m\u001b[0mtrain_y_model\u001b[0m\u001b[1;33m,\u001b[0m\u001b[0mbatch_size\u001b[0m\u001b[1;33m=\u001b[0m\u001b[1;36m50\u001b[0m\u001b[1;33m,\u001b[0m\u001b[0mnb_epoch\u001b[0m\u001b[1;33m=\u001b[0m\u001b[1;36m30\u001b[0m\u001b[1;33m,\u001b[0m\u001b[0mvalidation_data\u001b[0m\u001b[1;33m=\u001b[0m\u001b[1;33m(\u001b[0m\u001b[0mtest_X_model\u001b[0m\u001b[1;33m,\u001b[0m\u001b[0mtest_y_model\u001b[0m\u001b[1;33m)\u001b[0m\u001b[1;33m)\u001b[0m\u001b[1;33m\u001b[0m\u001b[0m\n\u001b[0m\u001b[0;32m      3\u001b[0m \u001b[1;31m#history_data = model.fit(train_X_model,train_y_model,batch_size=50,nb_epoch=100,validation_data=(test_X_model,test_y_model),callbacks=callbacks)\u001b[0m\u001b[1;33m\u001b[0m\u001b[1;33m\u001b[0m\u001b[0m\n",
      "\u001b[1;32m/home/bruce/anaconda3/lib/python3.5/site-packages/keras/engine/training.py\u001b[0m in \u001b[0;36mfit\u001b[1;34m(self, x, y, batch_size, nb_epoch, verbose, callbacks, validation_split, validation_data, shuffle, class_weight, sample_weight)\u001b[0m\n\u001b[0;32m   1104\u001b[0m                               \u001b[0mverbose\u001b[0m\u001b[1;33m=\u001b[0m\u001b[0mverbose\u001b[0m\u001b[1;33m,\u001b[0m \u001b[0mcallbacks\u001b[0m\u001b[1;33m=\u001b[0m\u001b[0mcallbacks\u001b[0m\u001b[1;33m,\u001b[0m\u001b[1;33m\u001b[0m\u001b[0m\n\u001b[0;32m   1105\u001b[0m                               \u001b[0mval_f\u001b[0m\u001b[1;33m=\u001b[0m\u001b[0mval_f\u001b[0m\u001b[1;33m,\u001b[0m \u001b[0mval_ins\u001b[0m\u001b[1;33m=\u001b[0m\u001b[0mval_ins\u001b[0m\u001b[1;33m,\u001b[0m \u001b[0mshuffle\u001b[0m\u001b[1;33m=\u001b[0m\u001b[0mshuffle\u001b[0m\u001b[1;33m,\u001b[0m\u001b[1;33m\u001b[0m\u001b[0m\n\u001b[1;32m-> 1106\u001b[1;33m                               callback_metrics=callback_metrics)\n\u001b[0m\u001b[0;32m   1107\u001b[0m \u001b[1;33m\u001b[0m\u001b[0m\n\u001b[0;32m   1108\u001b[0m     \u001b[1;32mdef\u001b[0m \u001b[0mevaluate\u001b[0m\u001b[1;33m(\u001b[0m\u001b[0mself\u001b[0m\u001b[1;33m,\u001b[0m \u001b[0mx\u001b[0m\u001b[1;33m,\u001b[0m \u001b[0my\u001b[0m\u001b[1;33m,\u001b[0m \u001b[0mbatch_size\u001b[0m\u001b[1;33m=\u001b[0m\u001b[1;36m32\u001b[0m\u001b[1;33m,\u001b[0m \u001b[0mverbose\u001b[0m\u001b[1;33m=\u001b[0m\u001b[1;36m1\u001b[0m\u001b[1;33m,\u001b[0m \u001b[0msample_weight\u001b[0m\u001b[1;33m=\u001b[0m\u001b[1;32mNone\u001b[0m\u001b[1;33m)\u001b[0m\u001b[1;33m:\u001b[0m\u001b[1;33m\u001b[0m\u001b[0m\n",
      "\u001b[1;32m/home/bruce/anaconda3/lib/python3.5/site-packages/keras/engine/training.py\u001b[0m in \u001b[0;36m_fit_loop\u001b[1;34m(self, f, ins, out_labels, batch_size, nb_epoch, verbose, callbacks, val_f, val_ins, shuffle, callback_metrics)\u001b[0m\n\u001b[0;32m    822\u001b[0m                 \u001b[0mbatch_logs\u001b[0m\u001b[1;33m[\u001b[0m\u001b[1;34m'size'\u001b[0m\u001b[1;33m]\u001b[0m \u001b[1;33m=\u001b[0m \u001b[0mlen\u001b[0m\u001b[1;33m(\u001b[0m\u001b[0mbatch_ids\u001b[0m\u001b[1;33m)\u001b[0m\u001b[1;33m\u001b[0m\u001b[0m\n\u001b[0;32m    823\u001b[0m                 \u001b[0mcallbacks\u001b[0m\u001b[1;33m.\u001b[0m\u001b[0mon_batch_begin\u001b[0m\u001b[1;33m(\u001b[0m\u001b[0mbatch_index\u001b[0m\u001b[1;33m,\u001b[0m \u001b[0mbatch_logs\u001b[0m\u001b[1;33m)\u001b[0m\u001b[1;33m\u001b[0m\u001b[0m\n\u001b[1;32m--> 824\u001b[1;33m                 \u001b[0mouts\u001b[0m \u001b[1;33m=\u001b[0m \u001b[0mf\u001b[0m\u001b[1;33m(\u001b[0m\u001b[0mins_batch\u001b[0m\u001b[1;33m)\u001b[0m\u001b[1;33m\u001b[0m\u001b[0m\n\u001b[0m\u001b[0;32m    825\u001b[0m                 \u001b[1;32mif\u001b[0m \u001b[0mtype\u001b[0m\u001b[1;33m(\u001b[0m\u001b[0mouts\u001b[0m\u001b[1;33m)\u001b[0m \u001b[1;33m!=\u001b[0m \u001b[0mlist\u001b[0m\u001b[1;33m:\u001b[0m\u001b[1;33m\u001b[0m\u001b[0m\n\u001b[0;32m    826\u001b[0m                     \u001b[0mouts\u001b[0m \u001b[1;33m=\u001b[0m \u001b[1;33m[\u001b[0m\u001b[0mouts\u001b[0m\u001b[1;33m]\u001b[0m\u001b[1;33m\u001b[0m\u001b[0m\n",
      "\u001b[1;32m/home/bruce/anaconda3/lib/python3.5/site-packages/keras/backend/theano_backend.py\u001b[0m in \u001b[0;36m__call__\u001b[1;34m(self, inputs)\u001b[0m\n\u001b[0;32m    715\u001b[0m     \u001b[1;32mdef\u001b[0m \u001b[0m__call__\u001b[0m\u001b[1;33m(\u001b[0m\u001b[0mself\u001b[0m\u001b[1;33m,\u001b[0m \u001b[0minputs\u001b[0m\u001b[1;33m)\u001b[0m\u001b[1;33m:\u001b[0m\u001b[1;33m\u001b[0m\u001b[0m\n\u001b[0;32m    716\u001b[0m         \u001b[1;32massert\u001b[0m \u001b[0mtype\u001b[0m\u001b[1;33m(\u001b[0m\u001b[0minputs\u001b[0m\u001b[1;33m)\u001b[0m \u001b[1;32min\u001b[0m \u001b[1;33m{\u001b[0m\u001b[0mlist\u001b[0m\u001b[1;33m,\u001b[0m \u001b[0mtuple\u001b[0m\u001b[1;33m}\u001b[0m\u001b[1;33m\u001b[0m\u001b[0m\n\u001b[1;32m--> 717\u001b[1;33m         \u001b[1;32mreturn\u001b[0m \u001b[0mself\u001b[0m\u001b[1;33m.\u001b[0m\u001b[0mfunction\u001b[0m\u001b[1;33m(\u001b[0m\u001b[1;33m*\u001b[0m\u001b[0minputs\u001b[0m\u001b[1;33m)\u001b[0m\u001b[1;33m\u001b[0m\u001b[0m\n\u001b[0m\u001b[0;32m    718\u001b[0m \u001b[1;33m\u001b[0m\u001b[0m\n\u001b[0;32m    719\u001b[0m \u001b[1;33m\u001b[0m\u001b[0m\n",
      "\u001b[1;32m/home/bruce/anaconda3/lib/python3.5/site-packages/theano/compile/function_module.py\u001b[0m in \u001b[0;36m__call__\u001b[1;34m(self, *args, **kwargs)\u001b[0m\n\u001b[0;32m    857\u001b[0m         \u001b[0mt0_fn\u001b[0m \u001b[1;33m=\u001b[0m \u001b[0mtime\u001b[0m\u001b[1;33m.\u001b[0m\u001b[0mtime\u001b[0m\u001b[1;33m(\u001b[0m\u001b[1;33m)\u001b[0m\u001b[1;33m\u001b[0m\u001b[0m\n\u001b[0;32m    858\u001b[0m         \u001b[1;32mtry\u001b[0m\u001b[1;33m:\u001b[0m\u001b[1;33m\u001b[0m\u001b[0m\n\u001b[1;32m--> 859\u001b[1;33m             \u001b[0moutputs\u001b[0m \u001b[1;33m=\u001b[0m \u001b[0mself\u001b[0m\u001b[1;33m.\u001b[0m\u001b[0mfn\u001b[0m\u001b[1;33m(\u001b[0m\u001b[1;33m)\u001b[0m\u001b[1;33m\u001b[0m\u001b[0m\n\u001b[0m\u001b[0;32m    860\u001b[0m         \u001b[1;32mexcept\u001b[0m \u001b[0mException\u001b[0m\u001b[1;33m:\u001b[0m\u001b[1;33m\u001b[0m\u001b[0m\n\u001b[0;32m    861\u001b[0m             \u001b[1;32mif\u001b[0m \u001b[0mhasattr\u001b[0m\u001b[1;33m(\u001b[0m\u001b[0mself\u001b[0m\u001b[1;33m.\u001b[0m\u001b[0mfn\u001b[0m\u001b[1;33m,\u001b[0m \u001b[1;34m'position_of_error'\u001b[0m\u001b[1;33m)\u001b[0m\u001b[1;33m:\u001b[0m\u001b[1;33m\u001b[0m\u001b[0m\n",
      "\u001b[1;32m/home/bruce/anaconda3/lib/python3.5/site-packages/theano/gof/op.py\u001b[0m in \u001b[0;36mrval\u001b[1;34m(p, i, o, n)\u001b[0m\n\u001b[0;32m    909\u001b[0m         \u001b[1;32mif\u001b[0m \u001b[0mparams\u001b[0m \u001b[1;32mis\u001b[0m \u001b[0mgraph\u001b[0m\u001b[1;33m.\u001b[0m\u001b[0mNoParams\u001b[0m\u001b[1;33m:\u001b[0m\u001b[1;33m\u001b[0m\u001b[0m\n\u001b[0;32m    910\u001b[0m             \u001b[1;31m# default arguments are stored in the closure of `rval`\u001b[0m\u001b[1;33m\u001b[0m\u001b[1;33m\u001b[0m\u001b[0m\n\u001b[1;32m--> 911\u001b[1;33m             \u001b[1;32mdef\u001b[0m \u001b[0mrval\u001b[0m\u001b[1;33m(\u001b[0m\u001b[0mp\u001b[0m\u001b[1;33m=\u001b[0m\u001b[0mp\u001b[0m\u001b[1;33m,\u001b[0m \u001b[0mi\u001b[0m\u001b[1;33m=\u001b[0m\u001b[0mnode_input_storage\u001b[0m\u001b[1;33m,\u001b[0m \u001b[0mo\u001b[0m\u001b[1;33m=\u001b[0m\u001b[0mnode_output_storage\u001b[0m\u001b[1;33m,\u001b[0m \u001b[0mn\u001b[0m\u001b[1;33m=\u001b[0m\u001b[0mnode\u001b[0m\u001b[1;33m)\u001b[0m\u001b[1;33m:\u001b[0m\u001b[1;33m\u001b[0m\u001b[0m\n\u001b[0m\u001b[0;32m    912\u001b[0m                 \u001b[0mr\u001b[0m \u001b[1;33m=\u001b[0m \u001b[0mp\u001b[0m\u001b[1;33m(\u001b[0m\u001b[0mn\u001b[0m\u001b[1;33m,\u001b[0m \u001b[1;33m[\u001b[0m\u001b[0mx\u001b[0m\u001b[1;33m[\u001b[0m\u001b[1;36m0\u001b[0m\u001b[1;33m]\u001b[0m \u001b[1;32mfor\u001b[0m \u001b[0mx\u001b[0m \u001b[1;32min\u001b[0m \u001b[0mi\u001b[0m\u001b[1;33m]\u001b[0m\u001b[1;33m,\u001b[0m \u001b[0mo\u001b[0m\u001b[1;33m)\u001b[0m\u001b[1;33m\u001b[0m\u001b[0m\n\u001b[0;32m    913\u001b[0m                 \u001b[1;32mfor\u001b[0m \u001b[0mo\u001b[0m \u001b[1;32min\u001b[0m \u001b[0mnode\u001b[0m\u001b[1;33m.\u001b[0m\u001b[0moutputs\u001b[0m\u001b[1;33m:\u001b[0m\u001b[1;33m\u001b[0m\u001b[0m\n",
      "\u001b[1;31mKeyboardInterrupt\u001b[0m: "
     ]
    }
   ],
   "source": [
    "print('test_X_model shape',test_X_model.shape)\n",
    "history_data = model.fit(train_X_model,train_y_model,batch_size=50,nb_epoch=30,validation_data=(test_X_model,test_y_model))\n",
    "#history_data = model.fit(train_X_model,train_y_model,batch_size=50,nb_epoch=100,validation_data=(test_X_model,test_y_model),callbacks=callbacks)"
   ]
  },
  {
   "cell_type": "code",
   "execution_count": null,
   "metadata": {
    "collapsed": false
   },
   "outputs": [],
   "source": [
    "# 一维结果：\n",
    "#Epoch 11/100 8544/8544 [==============================] - 31s - loss: 0.9243 - acc: 0.6465 - val_loss: 1.2593 - val_acc: 0.4570\n",
    "#Epoch 18/100 8544/8544 [==============================] - 31s - loss: 0.5993 - acc: 0.8083 - val_loss: 1.3124 - val_acc: 0.4502\n",
    "#Epoch 16/100 8544/8544 [==============================] - 31s - loss: 0.6924 - acc: 0.7590 - val_loss: 1.2710 - val_acc: 0.4480\n",
    "#二维结果：\n",
    "#Epoch 15/100 8544/8544 [==============================] - 25s - loss: 0.7123 - acc: 0.7480 - val_loss: 1.2520 - val_acc: 0.4629\n",
    "#Epoch 13/100 8544/8544 [==============================] - 25s - loss: 0.8095 - acc: 0.6957 - val_loss: 1.2540 - val_acc: 0.4647\n",
    "#Epoch 11/50 8544/8544 [==============================] - 25s - loss: 0.9090 - acc: 0.6598 - val_loss: 1.2291 - val_acc: 0.4724\n",
    "#Epoch 25/50 4000/4000 [==============================] - 12s - loss: 0.8330 - acc: 0.6978 - val_loss: 1.2434 - val_acc: 0.4688\n"
   ]
  },
  {
   "cell_type": "code",
   "execution_count": 19,
   "metadata": {
    "collapsed": false
   },
   "outputs": [
    {
     "name": "stdout",
     "output_type": "stream",
     "text": [
      "最佳测试成绩： 0.477828052384\n"
     ]
    },
    {
     "data": {
      "text/plain": [
       "<matplotlib.legend.Legend at 0x7f30c665e588>"
      ]
     },
     "execution_count": 19,
     "metadata": {},
     "output_type": "execute_result"
    },
    {
     "data": {
      "image/png": "[encoded data removed]",
      "text/plain": [
       "<matplotlib.figure.Figure at 0x7f30c66bc390>"
      ]
     },
     "metadata": {},
     "output_type": "display_data"
    },
    {
     "data": {
      "image/png": "[encoded data removed]",
      "text/plain": [
       "<matplotlib.figure.Figure at 0x7f30c66cb470>"
      ]
     },
     "metadata": {},
     "output_type": "display_data"
    }
   ],
   "source": [
    "## non-sataic 动态测试\n",
    "#glove\n",
    "#Epoch 19/100 2000/2000 [==============================] - 8s - loss: 1.3439 - acc: 0.6145 - val_loss: 1.2428 - val_acc: 0.4629\n",
    "#Epoch 38/100 2000/2000 [==============================] - 9s - loss: 0.5664 - acc: 0.9005 - val_loss: 1.4114 - val_acc: 0.4511\n",
    "#Epoch 25/100 2000/2000 [==============================] - 9s - loss: 1.0709 - acc: 0.7110 - val_loss: 1.2304 - val_acc: 0.4661\n",
    "#Epoch 38/100 2000/2000 [==============================] - 9s - loss: 0.5341 - acc: 0.9125 - val_loss: 1.6058 - val_acc: 0.4566\n",
    "#Epoch 9/50 2000/2000 [==============================] - 9s - loss: 2.0732 - acc: 0.4635 - val_loss: 1.2695 - val_acc: 0.4597\n",
    "#google \n",
    "#Epoch 54 2000/2000 [==============================] - 9s - loss: 0.6900 - acc: 0.8260 - val_loss: 1.3817 - val_acc: 0.4566\n",
    "#Epoch 47/70 2000/2000 [==============================] - 9s - loss: 0.7923 - acc: 0.7745 - val_loss: 1.2870 - val_acc: 0.4620\n",
    "#Epoch 27/100 4000/4000 [==============================] - 12s - loss: 0.6826 - acc: 0.7715 - val_loss: 1.2816 - val_acc: 0.4624\n",
    "#最佳测试成绩： 0.469230768503\n",
    "#google without drop\n",
    "#Epoch 29/100 4000/4000 [==============================] - 12s - loss: 0.6389 - acc: 0.7812 - val_loss: 1.2826 - val_acc: 0.4584\n",
    "#google without weights maxnorm\n",
    "#Epoch 32/100 4000/4000 [==============================] - 12s - loss: 0.7241 - acc: 0.7467 - val_loss: 1.2620 - val_acc: 0.4633\n",
    "#Epoch 22/100 4000/4000 [==============================] - 12s - loss: 0.9448 - acc: 0.6410 - val_loss: 1.2264 - val_acc: 0.4647\n",
    "#Epoch 27/100 4000/4000 [==============================] - 12s - loss: 0.8440 - acc: 0.6878 - val_loss: 1.2288 - val_acc: 0.4652`\n",
    "history = history_data.history\n",
    "print('最佳测试成绩：',max(history['val_acc']))\n",
    "fig = plt.figure()\n",
    "plt.plot(history['val_acc'],'r')\n",
    "plt.plot(history['acc'],'g',label='测试准确率')\n",
    "plt.title('model acc')\n",
    "plt.ylabel('acc')\n",
    "plt.xlabel('epoch')\n",
    "plt.legend(['test', 'train'], loc='upper left')\n",
    "\n",
    "fig = plt.figure()\n",
    "plt.plot(history['loss'],color='r')\n",
    "plt.plot(history['val_loss'])\n",
    "plt.title('model loss')\n",
    "plt.ylabel('loss')\n",
    "\n",
    "plt.xlabel('epoch')\n",
    "plt.legend(['train', 'test'], loc='upper left')"
   ]
  },
  {
   "cell_type": "code",
   "execution_count": null,
   "metadata": {
    "collapsed": true
   },
   "outputs": [],
   "source": [
    "\n"
   ]
  },
  {
   "cell_type": "code",
   "execution_count": null,
   "metadata": {
    "collapsed": false
   },
   "outputs": [],
   "source": [
    "#static:\n",
    "#最佳测试成绩： 0.453846151608\n",
    "#epoch 18 2000/2000 [==============================] - 10s - loss: 1.3526 - acc: 0.6155 - val_loss: 1.2579 - val_acc: 0.4643\n",
    "#epoch 23 2000/2000 [==============================] - 10s - loss: 1.0800 - acc: 0.6980 - val_loss: 1.2576 - val_acc: 0.4543\n",
    "#epoch 26 2000/2000 [==============================] - 10s - loss: 0.9911 - acc: 0.7440 - val_loss: 1.3089 - val_acc: 0.4575\n",
    "#Epoch 9/100 2000/2000 [==============================] - 10s - loss: 2.1036 - acc: 0.4565 - val_loss: 1.2884 - val_acc: 0.4552\n",
    "#Epoch 23/40 2000/2000 [==============================] - 10s - loss: 1.0703 - acc: 0.7220 - val_loss: 1.2691 - val_acc: 0.4557\n",
    "#Epoch 14/40 2000/2000 [==============================] - 5s - loss: 1.5780 - acc: 0.5405 - val_loss: 1.2548 - val_acc: 0.4570\n",
    "\n",
    "print('最佳测试成绩：',max(history.test_accuracy))\n",
    "fig = plt.figure()\n",
    "plt.plot(history.test_accuracy,'r')\n",
    "plt.plot(history.train_accuracy,'g',label='测试准确率')\n",
    "plt.title('model loss')\n",
    "plt.ylabel('acc')\n",
    "plt.xlabel('epoch')\n",
    "plt.legend(['test', 'train'], loc='upper left')\n",
    "\n",
    "fig = plt.figure()\n",
    "plt.plot(history.train_losses,color='r')\n",
    "plt.plot(history.test_losses)\n",
    "plt.title('model loss')\n",
    "plt.ylabel('loss')\n",
    "plt.xlabel('epoch')\n",
    "plt.legend(['train', 'test'], loc='upper left')"
   ]
  },
  {
   "cell_type": "markdown",
   "metadata": {},
   "source": [
    "# 实验结果"
   ]
  },
  {
   "cell_type": "markdown",
   "metadata": {},
   "source": [
    "cnn-static:0.4489 ()\n",
    "glove 300维度：0.4520\n",
    "loss: 0.2594 - acc: 0.9935 - val_loss: 1.4543 - val_acc: 0.4575\n",
    "\n",
    "cnn_non_static:\n",
    "0.4498(loss=0.7727,acc=0.7438)\n",
    "0.4643(loss=0.3920,acc = 0.9205)\n",
    "\n",
    " 16s - loss: 0.5418 - acc: 0.9185 - val_loss: 1.3282 - val_acc: 0.4674\n",
    " loss: 0.7181 - acc: 0.8215 - val_loss: 1.2562 - val_acc: 0.4624"
   ]
  },
  {
   "cell_type": "code",
   "execution_count": null,
   "metadata": {
    "collapsed": true
   },
   "outputs": [],
   "source": []
  },
  {
   "cell_type": "code",
   "execution_count": null,
   "metadata": {
    "collapsed": true
   },
   "outputs": [],
   "source": []
  }
 ],
 "metadata": {
  "kernelspec": {
   "display_name": "Python [Root]",
   "language": "python",
   "name": "Python [Root]"
  },
  "language_info": {
   "codemirror_mode": {
    "name": "ipython",
    "version": 3
   },
   "file_extension": ".py",
   "mimetype": "text/x-python",
   "name": "python",
   "nbconvert_exporter": "python",
   "pygments_lexer": "ipython3",
   "version": "3.5.2"
  }
 },
 "nbformat": 4,
 "nbformat_minor": 0
}
