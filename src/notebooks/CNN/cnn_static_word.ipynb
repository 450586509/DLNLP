{
 "cells": [
  {
   "cell_type": "markdown",
   "metadata": {},
   "source": [
    "## 模型介绍"
   ]
  },
  {
   "cell_type": "markdown",
   "metadata": {},
   "source": [
    "1. 利用训练好的词向量构造句子\n"
   ]
  },
  {
   "cell_type": "code",
   "execution_count": 1,
   "metadata": {
    "collapsed": false
   },
   "outputs": [
    {
     "name": "stderr",
     "output_type": "stream",
     "text": [
      "Using Theano backend.\n",
      "Using gpu device 0: GeForce GT 630 (CNMeM is disabled, cuDNN 5005)\n",
      "/home/bruce/anaconda3/lib/python3.5/site-packages/gensim/utils.py:1015: UserWarning: Pattern library is not installed, lemmatization won't be available.\n",
      "  warnings.warn(\"Pattern library is not installed, lemmatization won't be available.\")\n"
     ]
    }
   ],
   "source": [
    "import keras \n",
    "from  os.path import join\n",
    "from keras.preprocessing import sequence\n",
    "from keras.models import Sequential\n",
    "from keras.layers import Dense, Dropout,Activation, Lambda,Input,Merge,Flatten,Reshape,GlobalMaxPooling2D,MaxPooling2D\n",
    "from keras.layers import Embedding\n",
    "from keras.layers import Convolution1D\n",
    "from keras.datasets import imdb\n",
    "from keras import backend as K\n",
    "from keras.layers import Convolution1D, GlobalMaxPooling1D,Convolution2D,merge\n",
    "from keras.utils import np_utils\n",
    "from keras.models import Model\n",
    "import numpy as np\n",
    "from gensim.models import word2vec\n",
    "from keras.regularizers import l2\n",
    "%matplotlib inline\n",
    "import matplotlib\n",
    "import numpy as np\n",
    "import matplotlib.pyplot as plt\n",
    "from keras.constraints import maxnorm\n",
    "import pickle"
   ]
  },
  {
   "cell_type": "markdown",
   "metadata": {},
   "source": [
    "## 数据预处理"
   ]
  },
  {
   "cell_type": "code",
   "execution_count": 2,
   "metadata": {
    "collapsed": false
   },
   "outputs": [
    {
     "name": "stdout",
     "output_type": "stream",
     "text": [
      "train_X 的数量： 8544\n",
      "test_X 的数量： 2210\n",
      "dev_X 的数量： 1101\n",
      "[['a', 'stirring', ',', 'funny', 'and', 'finally', 'transporting', 're-imagining', 'of', 'beauty', 'and', 'the', 'beast', 'and', '1930s', 'horror', 'films'], ['apparently', 'reassembled', 'from', 'the', 'cutting-room', 'floor', 'of', 'any', 'given', 'daytime', 'soap', '.']]\n",
      "[4, 1]\n"
     ]
    }
   ],
   "source": [
    "file_names = ['stsa.fine.test','stsa.fine.train','stsa.fine.dev']\n",
    "file_path = '/home/bruce/data/sentiment/'\n",
    "def read_file(fname=''):\n",
    "    with open(join(file_path,fname)) as fr:\n",
    "        lines = fr.readlines()\n",
    "    lines = [line.strip().lower() for line in lines]\n",
    "    lables = [int(line[0:1]) for line in lines]\n",
    "    words = [line[2:].split() for line in lines]\n",
    "    return words,lables       \n",
    "train_X,train_y = read_file(fname='stsa.fine.train')\n",
    "test_X,test_y = read_file(fname='stsa.fine.test')\n",
    "dev_X,dev_y = read_file(fname='stsa.fine.dev')\n",
    "print('train_X 的数量：',len(train_X))\n",
    "print('test_X 的数量：',len(test_X))\n",
    "print('dev_X 的数量：',len(dev_X))\n",
    "print(train_X[0:2])\n",
    "print(train_y[0:2])"
   ]
  },
  {
   "cell_type": "markdown",
   "metadata": {},
   "source": [
    "## 句子长度统计信息"
   ]
  },
  {
   "cell_type": "code",
   "execution_count": 3,
   "metadata": {
    "collapsed": false,
    "scrolled": true
   },
   "outputs": [
    {
     "name": "stdout",
     "output_type": "stream",
     "text": [
      "length =  11855\n",
      "max =  56\n",
      "min = 2\n",
      "average =  19.16870518768452\n",
      "top 50% =  18\n",
      "top 80% =  27\n",
      "top 90% =  32\n",
      "top 95% =  35\n"
     ]
    }
   ],
   "source": [
    "def statics_list2(arrays=[]):\n",
    "    lengths=[]\n",
    "    for array in arrays:\n",
    "        lengths=lengths+[len(i) for i in array]\n",
    "    lengths = sorted(lengths)\n",
    "    length = len(lengths)\n",
    "    print('length = ',len(lengths))\n",
    "    print('max = ',lengths[-1])\n",
    "    print('min =',lengths[0])\n",
    "    print('average = ',sum(lengths)/length)\n",
    "    print('top 50% = ',lengths[int(0.5*length)])\n",
    "    print('top 80% = ',lengths[int(0.8*length)])\n",
    "    print('top 90% = ',lengths[int(0.9*length)])\n",
    "    print('top 95% = ',lengths[int(0.95*length)])\n",
    "    \n",
    "statics_list2(arrays=[train_X,test_X,dev_X])"
   ]
  },
  {
   "cell_type": "code",
   "execution_count": 4,
   "metadata": {
    "collapsed": true
   },
   "outputs": [],
   "source": [
    "def token_to_index(datas=[]):\n",
    "    word_index={}\n",
    "    count=1\n",
    "    for data in datas:\n",
    "        for sentence in data:\n",
    "            for w in sentence:\n",
    "                if w not in word_index:\n",
    "                    word_index[w] = count\n",
    "                    count = count + 1\n",
    "    print('length of word_index =',len(word_index))\n",
    "    for i in range(len(datas)):\n",
    "        datas[i] = [[ word_index[w] for w in line ] for line in datas[i]] \n",
    "    return datas,word_index"
   ]
  },
  {
   "cell_type": "code",
   "execution_count": 5,
   "metadata": {
    "collapsed": false
   },
   "outputs": [
    {
     "name": "stdout",
     "output_type": "stream",
     "text": [
      "length of word_index = 17611\n",
      "17611\n"
     ]
    }
   ],
   "source": [
    "X,word_index = token_to_index(datas=[train_X,dev_X])\n",
    "train_X,dev_X = X\n",
    "print(len(word_index))"
   ]
  },
  {
   "cell_type": "code",
   "execution_count": 6,
   "metadata": {
    "collapsed": false
   },
   "outputs": [
    {
     "name": "stdout",
     "output_type": "stream",
     "text": [
      "[1, 2, 3, 4, 5, 6, 7, 8, 9, 10, 5, 11, 12, 5, 13, 14, 15]\n",
      "['a', 'stirring', ',', 'funny', 'and', 'finally', 'transporting', 're-imagining', 'of', 'beauty', 'and', 'the', 'beast', 'and', '1930s', 'horror', 'films']\n",
      "['a', 'deliciously', 'nonsensical', 'comedy', 'about', 'a', 'city', 'coming', 'apart', 'at', 'its', 'seams', '.']\n"
     ]
    }
   ],
   "source": [
    "##验证：\n",
    "print(train_X[0])\n",
    "## \n",
    "index_word = dict([(kv[1],kv[0])for kv in word_index.items()])\n",
    "sentence1 = [index_word[i] for i in train_X[0]]\n",
    "sentence2 = [index_word[i] for i in train_X[-1]]\n",
    "print(sentence1)\n",
    "print(sentence2)"
   ]
  },
  {
   "cell_type": "markdown",
   "metadata": {},
   "source": [
    "## 加载训练好的Glove或者google词向量"
   ]
  },
  {
   "cell_type": "code",
   "execution_count": 11,
   "metadata": {
    "collapsed": false
   },
   "outputs": [
    {
     "name": "stdout",
     "output_type": "stream",
     "text": [
      "size of index_wordembedding =  17611\n"
     ]
    }
   ],
   "source": [
    "word2vec_model = 'google'\n",
    "embedding_dim = 300\n",
    "#we_file = '/home/bruce/data/glove/twitter/glove.twitter.27B.{0}d.txt'.format(embedding_dim)\n",
    "glove_w2v = '/home/bruce/data/glove/CommonCrawl/sst5_word_embedding_glove_dict.pkl'\n",
    "google_w2v = '/home/bruce/data/google_word2vec/sst5_word_embedding_google_dict.pkl'\n",
    "\n",
    "def get_index_embedding(word_index={}):\n",
    "    index_embedding ={}\n",
    "    if word2vec_model == 'google':\n",
    "        with open(google_w2v,'rb') as fr:\n",
    "            word_embedding = pickle.load(fr)\n",
    "    else:\n",
    "        with open(glove_w2v,'rb') as fr:\n",
    "            word_embedding = pickle.load(fr)  \n",
    "    for word,index in word_index.items():\n",
    "        if word in word_embedding:\n",
    "            index_embedding[index] = word_embedding[word]\n",
    "        else:\n",
    "            index_embedding[index] = np.random.uniform(-1,1,size=embedding_dim)\n",
    "    return index_embedding\n",
    "index_embedding = get_index_embedding(word_index=word_index)\n",
    "print('size of index_wordembedding = ',len(index_embedding))"
   ]
  },
  {
   "cell_type": "code",
   "execution_count": 14,
   "metadata": {
    "collapsed": false
   },
   "outputs": [],
   "source": [
    "def get_trained_embedding(index_wordembedding=None):\n",
    "    index_we = sorted(index_wordembedding.items())\n",
    "    trained_embedding = [t[1] for t in index_we]\n",
    "    zeros = np.random.uniform(-1,1,size = embedding_dim)\n",
    "    trained_embedding = np.vstack((zeros,trained_embedding))\n",
    "    return np.array(trained_embedding)\n",
    "\n",
    "\n"
   ]
  },
  {
   "cell_type": "markdown",
   "metadata": {},
   "source": [
    "## 构造模型"
   ]
  },
  {
   "cell_type": "markdown",
   "metadata": {},
   "source": [
    "#### 参数"
   ]
  },
  {
   "cell_type": "code",
   "execution_count": 16,
   "metadata": {
    "collapsed": false
   },
   "outputs": [],
   "source": [
    "max_len = 56\n",
    "batch_size=50\n",
    "\n",
    "max_features = 17611+1\n",
    "\n",
    "nb_filter = 100\n",
    "dense1_hindden = 300\n",
    "nb_classes = 5"
   ]
  },
  {
   "cell_type": "markdown",
   "metadata": {},
   "source": [
    "## 二维卷积模型"
   ]
  },
  {
   "cell_type": "code",
   "execution_count": 20,
   "metadata": {
    "collapsed": false
   },
   "outputs": [
    {
     "name": "stdout",
     "output_type": "stream",
     "text": [
      "trained_embedding shape =  (17612, 300)\n",
      "embedding dim =  300\n",
      "dropout input shape =  (None, 300)\n",
      "dropout output shape =  (None, 300)\n",
      "dropout input shape (300,) =  (None, 300)\n"
     ]
    }
   ],
   "source": [
    "input = Input(shape=(max_len,))\n",
    "trained_embedding = get_trained_embedding(index_embedding)\n",
    "print('trained_embedding shape = ',trained_embedding.shape)\n",
    "embedding = Embedding(output_dim=embedding_dim,\n",
    "                      input_dim=max_features,\n",
    "                      weights=[trained_embedding],\n",
    "                      trainable=True\n",
    "                     )(input)\n",
    "reshape = Reshape((1,max_len,embedding_dim))\n",
    "embedding = reshape(embedding)\n",
    "print('embedding dim = ',embedding_dim)\n",
    "#卷积\n",
    "conv2d_1 = Convolution2D(100,3,embedding_dim,border_mode='valid',activation='relu')\n",
    "conv2d_2 = Convolution2D(100,4,embedding_dim,border_mode='valid',activation='relu')\n",
    "conv2d_3 = Convolution2D(100,5,embedding_dim,border_mode='valid',activation='relu')\n",
    "conv1 = conv2d_1(embedding)\n",
    "conv2 = conv2d_2(embedding)\n",
    "conv3 = conv2d_3(embedding)\n",
    "maxpooling1 = MaxPooling2D((54,1))\n",
    "maxpooling2 = MaxPooling2D((53,1))\n",
    "maxpooling3 = MaxPooling2D((52,1))\n",
    "flatten = Flatten()\n",
    "\n",
    "conv1 = maxpooling1(conv1)\n",
    "conv2 = maxpooling2(conv2)\n",
    "conv3 = maxpooling3(conv3)\n",
    "\n",
    "conv1 = flatten(conv1)\n",
    "conv2 = flatten(conv2)\n",
    "conv3 = flatten(conv3)\n",
    "#print('maxpooling2 output shape = ',maxpooling2.output_shape)\n",
    "#print('maxpooling3 output shape = ',maxpooling3.output_shape)\n",
    "merged_vector = merge([conv1,conv2,conv3], mode='concat')\n",
    "dropout = Dropout(0.5)\n",
    "merged_vector = dropout(merged_vector)\n",
    "print('dropout input shape = ',dropout.input_shape)\n",
    "print('dropout output shape = ',dropout.output_shape)\n",
    "\n",
    "#全连接\n",
    "output = Dense(nb_classes,activation='softmax',W_constraint = maxnorm(3))(merged_vector)\n",
    "\n",
    "print('dropout input shape (300,) = ',dropout.input_shape)\n",
    "#softmax\n",
    "model = Model(input=input,output=output)\n",
    "model.compile(optimizer='adadelta',\n",
    "              loss='categorical_crossentropy',\n",
    "              metrics=['accuracy']\n",
    "             )"
   ]
  },
  {
   "cell_type": "markdown",
   "metadata": {},
   "source": [
    "## 一维卷积模型"
   ]
  },
  {
   "cell_type": "code",
   "execution_count": 19,
   "metadata": {
    "collapsed": false
   },
   "outputs": [
    {
     "ename": "NameError",
     "evalue": "name 'index_wordembedding' is not defined",
     "output_type": "error",
     "traceback": [
      "\u001b[1;31m---------------------------------------------------------------------------\u001b[0m",
      "\u001b[1;31mNameError\u001b[0m                                 Traceback (most recent call last)",
      "\u001b[1;32m<ipython-input-19-0245de352a00>\u001b[0m in \u001b[0;36m<module>\u001b[1;34m()\u001b[0m\n\u001b[0;32m      1\u001b[0m \u001b[0mencoder\u001b[0m \u001b[1;33m=\u001b[0m \u001b[0mSequential\u001b[0m\u001b[1;33m(\u001b[0m\u001b[1;33m)\u001b[0m\u001b[1;33m\u001b[0m\u001b[0m\n\u001b[1;32m----> 2\u001b[1;33m \u001b[0mtrained_embedding\u001b[0m \u001b[1;33m=\u001b[0m \u001b[0mget_trained_embedding\u001b[0m\u001b[1;33m(\u001b[0m\u001b[0mindex_wordembedding\u001b[0m\u001b[1;33m)\u001b[0m\u001b[1;33m\u001b[0m\u001b[0m\n\u001b[0m\u001b[0;32m      3\u001b[0m \u001b[0mprint\u001b[0m\u001b[1;33m(\u001b[0m\u001b[1;34m'trained_embedding shape = '\u001b[0m\u001b[1;33m,\u001b[0m\u001b[0mtrained_embedding\u001b[0m\u001b[1;33m.\u001b[0m\u001b[0mshape\u001b[0m\u001b[1;33m)\u001b[0m\u001b[1;33m\u001b[0m\u001b[0m\n\u001b[0;32m      4\u001b[0m encoder.add(Embedding(output_dim=embedding_dim,\n\u001b[0;32m      5\u001b[0m                       \u001b[0minput_dim\u001b[0m\u001b[1;33m=\u001b[0m\u001b[0mmax_features\u001b[0m\u001b[1;33m,\u001b[0m\u001b[1;33m\u001b[0m\u001b[0m\n",
      "\u001b[1;31mNameError\u001b[0m: name 'index_wordembedding' is not defined"
     ]
    }
   ],
   "source": [
    "encoder = Sequential()\n",
    "trained_embedding = get_trained_embedding(index_wordembedding)\n",
    "print('trained_embedding shape = ',trained_embedding.shape)\n",
    "encoder.add(Embedding(output_dim=embedding_dim,\n",
    "                      input_dim=max_features,\n",
    "                      weights=[trained_embedding],\n",
    "                      trainable=True\n",
    "                     ))\n",
    "# 卷积\n",
    "encoder_a = Sequential()\n",
    "encoder_a.add(encoder)\n",
    "encoder_a.add(Convolution1D(nb_filter = nb_filter,\n",
    "                        filter_length = 3,\n",
    "                        border_mode = 'valid',\n",
    "                        activation='relu'\n",
    "                       ))\n",
    "encoder_a.add(GlobalMaxPooling1D())\n",
    "# 卷积\n",
    "encoder_b = Sequential()\n",
    "encoder_b.add(encoder)\n",
    "encoder_b.add(Convolution1D(nb_filter = nb_filter,\n",
    "                        filter_length = 4,\n",
    "                        border_mode = 'valid',\n",
    "                        activation='relu'\n",
    "                       ))\n",
    "encoder_b.add(GlobalMaxPooling1D())\n",
    "# 卷积\n",
    "encoder_c = Sequential()\n",
    "encoder_c.add(encoder)\n",
    "encoder_c.add(Convolution1D(nb_filter = nb_filter,\n",
    "                        filter_length = 5,\n",
    "                        border_mode = 'valid',\n",
    "                        activation='relu'\n",
    "                       ))\n",
    "encoder_c.add(GlobalMaxPooling1D())\n",
    "\n",
    "model = Sequential()\n",
    "model.add(Merge([encoder_a,encoder_b,encoder_c],mode = 'concat'))\n",
    "model.add(Dropout(0.5))\n",
    "model.add(Dense(nb_classes,activation='softmax',W_constraint = maxnorm(3)))#W_regularizer=l2(0.01)\n",
    "#history = LossHistory()\n",
    "model.compile(optimizer='adadelta',\n",
    "              loss='categorical_crossentropy',\n",
    "              metrics=['accuracy']\n",
    "             )"
   ]
  },
  {
   "cell_type": "code",
   "execution_count": null,
   "metadata": {
    "collapsed": false
   },
   "outputs": [],
   "source": []
  },
  {
   "cell_type": "markdown",
   "metadata": {},
   "source": [
    "## 模型图"
   ]
  },
  {
   "cell_type": "code",
   "execution_count": 21,
   "metadata": {
    "collapsed": false
   },
   "outputs": [
    {
     "data": {
      "image/svg+xml": [
       "<svg height=\"629pt\" viewBox=\"0.00 0.00 812.00 629.00\" width=\"812pt\" xmlns=\"http://www.w3.org/2000/svg\" xmlns:xlink=\"http://www.w3.org/1999/xlink\">\n",
       "<g class=\"graph\" id=\"graph0\" transform=\"scale(1 1) rotate(0) translate(4 625)\">\n",
       "<title>G</title>\n",
       "<polygon fill=\"white\" points=\"-4,4 -4,-625 808,-625 808,4 -4,4\" stroke=\"none\"/>\n",
       "<!-- 140216366720168 -->\n",
       "<g class=\"node\" id=\"node1\"><title>140216366720168</title>\n",
       "<polygon fill=\"none\" points=\"319,-584.5 319,-620.5 485,-620.5 485,-584.5 319,-584.5\" stroke=\"black\"/>\n",
       "<text font-family=\"Times,serif\" font-size=\"14.00\" text-anchor=\"middle\" x=\"402\" y=\"-598.8\">input_3 (InputLayer)</text>\n",
       "</g>\n",
       "<!-- 140216366700528 -->\n",
       "<g class=\"node\" id=\"node2\"><title>140216366700528</title>\n",
       "<polygon fill=\"none\" points=\"297.5,-511.5 297.5,-547.5 506.5,-547.5 506.5,-511.5 297.5,-511.5\" stroke=\"black\"/>\n",
       "<text font-family=\"Times,serif\" font-size=\"14.00\" text-anchor=\"middle\" x=\"402\" y=\"-525.8\">embedding_2 (Embedding)</text>\n",
       "</g>\n",
       "<!-- 140216366720168&#45;&gt;140216366700528 -->\n",
       "<g class=\"edge\" id=\"edge1\"><title>140216366720168-&gt;140216366700528</title>\n",
       "<path d=\"M402,-584.313C402,-576.289 402,-566.547 402,-557.569\" fill=\"none\" stroke=\"black\"/>\n",
       "<polygon fill=\"black\" points=\"405.5,-557.529 402,-547.529 398.5,-557.529 405.5,-557.529\" stroke=\"black\"/>\n",
       "</g>\n",
       "<!-- 140216366700416 -->\n",
       "<g class=\"node\" id=\"node3\"><title>140216366700416</title>\n",
       "<polygon fill=\"none\" points=\"319,-438.5 319,-474.5 485,-474.5 485,-438.5 319,-438.5\" stroke=\"black\"/>\n",
       "<text font-family=\"Times,serif\" font-size=\"14.00\" text-anchor=\"middle\" x=\"402\" y=\"-452.8\">reshape_2 (Reshape)</text>\n",
       "</g>\n",
       "<!-- 140216366700528&#45;&gt;140216366700416 -->\n",
       "<g class=\"edge\" id=\"edge2\"><title>140216366700528-&gt;140216366700416</title>\n",
       "<path d=\"M402,-511.313C402,-503.289 402,-493.547 402,-484.569\" fill=\"none\" stroke=\"black\"/>\n",
       "<polygon fill=\"black\" points=\"405.5,-484.529 402,-474.529 398.5,-484.529 405.5,-484.529\" stroke=\"black\"/>\n",
       "</g>\n",
       "<!-- 140216359984656 -->\n",
       "<g class=\"node\" id=\"node4\"><title>140216359984656</title>\n",
       "<polygon fill=\"none\" points=\"0,-365.5 0,-401.5 256,-401.5 256,-365.5 0,-365.5\" stroke=\"black\"/>\n",
       "<text font-family=\"Times,serif\" font-size=\"14.00\" text-anchor=\"middle\" x=\"128\" y=\"-379.8\">convolution2d_4 (Convolution2D)</text>\n",
       "</g>\n",
       "<!-- 140216366700416&#45;&gt;140216359984656 -->\n",
       "<g class=\"edge\" id=\"edge3\"><title>140216366700416-&gt;140216359984656</title>\n",
       "<path d=\"M336.37,-438.494C296.503,-428.163 245.448,-414.934 203.855,-404.156\" fill=\"none\" stroke=\"black\"/>\n",
       "<polygon fill=\"black\" points=\"204.602,-400.734 194.044,-401.614 202.846,-407.51 204.602,-400.734\" stroke=\"black\"/>\n",
       "</g>\n",
       "<!-- 140216366734864 -->\n",
       "<g class=\"node\" id=\"node5\"><title>140216366734864</title>\n",
       "<polygon fill=\"none\" points=\"274,-365.5 274,-401.5 530,-401.5 530,-365.5 274,-365.5\" stroke=\"black\"/>\n",
       "<text font-family=\"Times,serif\" font-size=\"14.00\" text-anchor=\"middle\" x=\"402\" y=\"-379.8\">convolution2d_5 (Convolution2D)</text>\n",
       "</g>\n",
       "<!-- 140216366700416&#45;&gt;140216366734864 -->\n",
       "<g class=\"edge\" id=\"edge4\"><title>140216366700416-&gt;140216366734864</title>\n",
       "<path d=\"M402,-438.313C402,-430.289 402,-420.547 402,-411.569\" fill=\"none\" stroke=\"black\"/>\n",
       "<polygon fill=\"black\" points=\"405.5,-411.529 402,-401.529 398.5,-411.529 405.5,-411.529\" stroke=\"black\"/>\n",
       "</g>\n",
       "<!-- 140216359983648 -->\n",
       "<g class=\"node\" id=\"node6\"><title>140216359983648</title>\n",
       "<polygon fill=\"none\" points=\"548,-365.5 548,-401.5 804,-401.5 804,-365.5 548,-365.5\" stroke=\"black\"/>\n",
       "<text font-family=\"Times,serif\" font-size=\"14.00\" text-anchor=\"middle\" x=\"676\" y=\"-379.8\">convolution2d_6 (Convolution2D)</text>\n",
       "</g>\n",
       "<!-- 140216366700416&#45;&gt;140216359983648 -->\n",
       "<g class=\"edge\" id=\"edge5\"><title>140216366700416-&gt;140216359983648</title>\n",
       "<path d=\"M467.63,-438.494C507.497,-428.163 558.552,-414.934 600.145,-404.156\" fill=\"none\" stroke=\"black\"/>\n",
       "<polygon fill=\"black\" points=\"601.154,-407.51 609.956,-401.614 599.398,-400.734 601.154,-407.51\" stroke=\"black\"/>\n",
       "</g>\n",
       "<!-- 140216366593752 -->\n",
       "<g class=\"node\" id=\"node7\"><title>140216366593752</title>\n",
       "<polygon fill=\"none\" points=\"3.5,-292.5 3.5,-328.5 256.5,-328.5 256.5,-292.5 3.5,-292.5\" stroke=\"black\"/>\n",
       "<text font-family=\"Times,serif\" font-size=\"14.00\" text-anchor=\"middle\" x=\"130\" y=\"-306.8\">maxpooling2d_4 (MaxPooling2D)</text>\n",
       "</g>\n",
       "<!-- 140216359984656&#45;&gt;140216366593752 -->\n",
       "<g class=\"edge\" id=\"edge6\"><title>140216359984656-&gt;140216366593752</title>\n",
       "<path d=\"M128.484,-365.313C128.71,-357.289 128.985,-347.547 129.237,-338.569\" fill=\"none\" stroke=\"black\"/>\n",
       "<polygon fill=\"black\" points=\"132.737,-338.623 129.52,-328.529 125.74,-338.426 132.737,-338.623\" stroke=\"black\"/>\n",
       "</g>\n",
       "<!-- 140216366656424 -->\n",
       "<g class=\"node\" id=\"node8\"><title>140216366656424</title>\n",
       "<polygon fill=\"none\" points=\"275.5,-292.5 275.5,-328.5 528.5,-328.5 528.5,-292.5 275.5,-292.5\" stroke=\"black\"/>\n",
       "<text font-family=\"Times,serif\" font-size=\"14.00\" text-anchor=\"middle\" x=\"402\" y=\"-306.8\">maxpooling2d_5 (MaxPooling2D)</text>\n",
       "</g>\n",
       "<!-- 140216366734864&#45;&gt;140216366656424 -->\n",
       "<g class=\"edge\" id=\"edge7\"><title>140216366734864-&gt;140216366656424</title>\n",
       "<path d=\"M402,-365.313C402,-357.289 402,-347.547 402,-338.569\" fill=\"none\" stroke=\"black\"/>\n",
       "<polygon fill=\"black\" points=\"405.5,-338.529 402,-328.529 398.5,-338.529 405.5,-338.529\" stroke=\"black\"/>\n",
       "</g>\n",
       "<!-- 140216366656592 -->\n",
       "<g class=\"node\" id=\"node9\"><title>140216366656592</title>\n",
       "<polygon fill=\"none\" points=\"547.5,-292.5 547.5,-328.5 800.5,-328.5 800.5,-292.5 547.5,-292.5\" stroke=\"black\"/>\n",
       "<text font-family=\"Times,serif\" font-size=\"14.00\" text-anchor=\"middle\" x=\"674\" y=\"-306.8\">maxpooling2d_6 (MaxPooling2D)</text>\n",
       "</g>\n",
       "<!-- 140216359983648&#45;&gt;140216366656592 -->\n",
       "<g class=\"edge\" id=\"edge8\"><title>140216359983648-&gt;140216366656592</title>\n",
       "<path d=\"M675.516,-365.313C675.29,-357.289 675.015,-347.547 674.763,-338.569\" fill=\"none\" stroke=\"black\"/>\n",
       "<polygon fill=\"black\" points=\"678.26,-338.426 674.48,-328.529 671.263,-338.623 678.26,-338.426\" stroke=\"black\"/>\n",
       "</g>\n",
       "<!-- 140216366656704 -->\n",
       "<g class=\"node\" id=\"node10\"><title>140216366656704</title>\n",
       "<polygon fill=\"none\" points=\"329,-219.5 329,-255.5 475,-255.5 475,-219.5 329,-219.5\" stroke=\"black\"/>\n",
       "<text font-family=\"Times,serif\" font-size=\"14.00\" text-anchor=\"middle\" x=\"402\" y=\"-233.8\">flatten_2 (Flatten)</text>\n",
       "</g>\n",
       "<!-- 140216366593752&#45;&gt;140216366656704 -->\n",
       "<g class=\"edge\" id=\"edge9\"><title>140216366593752-&gt;140216366656704</title>\n",
       "<path d=\"M195.151,-292.494C234.727,-282.163 285.409,-268.934 326.699,-258.156\" fill=\"none\" stroke=\"black\"/>\n",
       "<polygon fill=\"black\" points=\"327.646,-261.526 336.438,-255.614 325.878,-254.753 327.646,-261.526\" stroke=\"black\"/>\n",
       "</g>\n",
       "<!-- 140216366656424&#45;&gt;140216366656704 -->\n",
       "<g class=\"edge\" id=\"edge10\"><title>140216366656424-&gt;140216366656704</title>\n",
       "<path d=\"M402,-292.313C402,-284.289 402,-274.547 402,-265.569\" fill=\"none\" stroke=\"black\"/>\n",
       "<polygon fill=\"black\" points=\"405.5,-265.529 402,-255.529 398.5,-265.529 405.5,-265.529\" stroke=\"black\"/>\n",
       "</g>\n",
       "<!-- 140216366656592&#45;&gt;140216366656704 -->\n",
       "<g class=\"edge\" id=\"edge11\"><title>140216366656592-&gt;140216366656704</title>\n",
       "<path d=\"M608.849,-292.494C569.273,-282.163 518.591,-268.934 477.301,-258.156\" fill=\"none\" stroke=\"black\"/>\n",
       "<polygon fill=\"black\" points=\"478.122,-254.753 467.562,-255.614 476.354,-261.526 478.122,-254.753\" stroke=\"black\"/>\n",
       "</g>\n",
       "<!-- 140216367390672 -->\n",
       "<g class=\"node\" id=\"node11\"><title>140216367390672</title>\n",
       "<polygon fill=\"none\" points=\"331.5,-146.5 331.5,-182.5 472.5,-182.5 472.5,-146.5 331.5,-146.5\" stroke=\"black\"/>\n",
       "<text font-family=\"Times,serif\" font-size=\"14.00\" text-anchor=\"middle\" x=\"402\" y=\"-160.8\">merge_2 (Merge)</text>\n",
       "</g>\n",
       "<!-- 140216366656704&#45;&gt;140216367390672 -->\n",
       "<g class=\"edge\" id=\"edge12\"><title>140216366656704-&gt;140216367390672</title>\n",
       "<path d=\"M402,-219.313C402,-211.289 402,-201.547 402,-192.569\" fill=\"none\" stroke=\"black\"/>\n",
       "<polygon fill=\"black\" points=\"405.5,-192.529 402,-182.529 398.5,-192.529 405.5,-192.529\" stroke=\"black\"/>\n",
       "</g>\n",
       "<!-- 140216367389048 -->\n",
       "<g class=\"node\" id=\"node12\"><title>140216367389048</title>\n",
       "<polygon fill=\"none\" points=\"320.5,-73.5 320.5,-109.5 483.5,-109.5 483.5,-73.5 320.5,-73.5\" stroke=\"black\"/>\n",
       "<text font-family=\"Times,serif\" font-size=\"14.00\" text-anchor=\"middle\" x=\"402\" y=\"-87.8\">dropout_2 (Dropout)</text>\n",
       "</g>\n",
       "<!-- 140216367390672&#45;&gt;140216367389048 -->\n",
       "<g class=\"edge\" id=\"edge15\"><title>140216367390672-&gt;140216367389048</title>\n",
       "<path d=\"M402,-146.313C402,-138.289 402,-128.547 402,-119.569\" fill=\"none\" stroke=\"black\"/>\n",
       "<polygon fill=\"black\" points=\"405.5,-119.529 402,-109.529 398.5,-119.529 405.5,-119.529\" stroke=\"black\"/>\n",
       "</g>\n",
       "<!-- 140216367416656 -->\n",
       "<g class=\"node\" id=\"node13\"><title>140216367416656</title>\n",
       "<polygon fill=\"none\" points=\"335,-0.5 335,-36.5 469,-36.5 469,-0.5 335,-0.5\" stroke=\"black\"/>\n",
       "<text font-family=\"Times,serif\" font-size=\"14.00\" text-anchor=\"middle\" x=\"402\" y=\"-14.8\">dense_2 (Dense)</text>\n",
       "</g>\n",
       "<!-- 140216367389048&#45;&gt;140216367416656 -->\n",
       "<g class=\"edge\" id=\"edge16\"><title>140216367389048-&gt;140216367416656</title>\n",
       "<path d=\"M402,-73.3129C402,-65.2895 402,-55.5475 402,-46.5691\" fill=\"none\" stroke=\"black\"/>\n",
       "<polygon fill=\"black\" points=\"405.5,-46.5288 402,-36.5288 398.5,-46.5289 405.5,-46.5288\" stroke=\"black\"/>\n",
       "</g>\n",
       "</g>\n",
       "</svg>"
      ],
      "text/plain": [
       "<IPython.core.display.SVG object>"
      ]
     },
     "execution_count": 21,
     "metadata": {},
     "output_type": "execute_result"
    }
   ],
   "source": [
    "from IPython.display import SVG\n",
    "from keras.utils.visualize_util import model_to_dot\n",
    "SVG(model_to_dot(model).create(prog='dot', format='svg'))"
   ]
  },
  {
   "cell_type": "markdown",
   "metadata": {},
   "source": [
    "## 模型输入"
   ]
  },
  {
   "cell_type": "code",
   "execution_count": 22,
   "metadata": {
    "collapsed": false
   },
   "outputs": [
    {
     "name": "stdout",
     "output_type": "stream",
     "text": [
      "<class 'int'>\n"
     ]
    }
   ],
   "source": [
    "print(type(train_y[0]))\n",
    "train_y_model = np_utils.to_categorical(train_y, nb_classes)\n",
    "dev_y_model = np_utils.to_categorical(dev_y, nb_classes)\n",
    "train_X_model = sequence.pad_sequences(train_X, maxlen=max_len)\n",
    "dev_X_model = sequence.pad_sequences(dev_X, maxlen=max_len)"
   ]
  },
  {
   "cell_type": "code",
   "execution_count": 23,
   "metadata": {
    "collapsed": true
   },
   "outputs": [],
   "source": [
    "#test 数据\n",
    "test_index_X= [[word_index[w] if w in word_index else 0 for w in line] for line in test_X]\n",
    "test_X_model = sequence.pad_sequences(test_index_X,maxlen=max_len)\n",
    "test_y_model = np_utils.to_categorical(test_y,nb_classes)"
   ]
  },
  {
   "cell_type": "code",
   "execution_count": 24,
   "metadata": {
    "collapsed": true
   },
   "outputs": [],
   "source": [
    "def shuffle(X,y):\n",
    "    index=np.array(range(len(X)))\n",
    "    np.random.shuffle(index)\n",
    "    return X[index],y[index]\n",
    "    \n",
    "\n",
    "def my_generator(X=None,y=None):\n",
    "    i = 0\n",
    "    max_i = int(len(X)/batch_size)\n",
    "    while True:\n",
    "        i = i % max_i\n",
    "        if i ==0:\n",
    "            X,y = shuffle(X,y)\n",
    "        x_batch = X[i*batch_size:(i+1)*batch_size]\n",
    "        y_batch = y[i*batch_size:(i+1)*batch_size]\n",
    "        yield (x_batch,y_batch)\n",
    "        i = i + 1\n",
    "    "
   ]
  },
  {
   "cell_type": "code",
   "execution_count": 25,
   "metadata": {
    "collapsed": false
   },
   "outputs": [
    {
     "name": "stdout",
     "output_type": "stream",
     "text": [
      "[<keras.engine.topology.InputLayer object at 0x7f86aabae4a8>, <keras.layers.embeddings.Embedding object at 0x7f86aaba97f0>, <keras.layers.core.Reshape object at 0x7f86aaba9780>, <keras.layers.convolutional.Convolution2D object at 0x7f86aa541e10>, <keras.layers.convolutional.Convolution2D object at 0x7f86aabb1e10>, <keras.layers.convolutional.Convolution2D object at 0x7f86aa541a20>, <keras.layers.pooling.MaxPooling2D object at 0x7f86aab8f6d8>, <keras.layers.pooling.MaxPooling2D object at 0x7f86aab9eba8>, <keras.layers.pooling.MaxPooling2D object at 0x7f86aab9ec50>, <keras.layers.core.Flatten object at 0x7f86aab9ecc0>, <keras.engine.topology.Merge object at 0x7f86aac51fd0>, <keras.layers.core.Dropout object at 0x7f86aac51978>, <keras.layers.core.Dense object at 0x7f86aac58550>]\n",
      "(None, 56)\n",
      "(None, 56)\n"
     ]
    }
   ],
   "source": [
    "print (model.layers)\n",
    "print(model.layers[0].output_shape)\n",
    "print(model.layers[1].input_shape)"
   ]
  },
  {
   "cell_type": "code",
   "execution_count": 26,
   "metadata": {
    "collapsed": false
   },
   "outputs": [
    {
     "name": "stdout",
     "output_type": "stream",
     "text": [
      "Epoch 1/100\n",
      "4000/4000 [==============================] - 12s - loss: 1.6308 - acc: 0.2567 - val_loss: 1.6016 - val_acc: 0.2430\n",
      "Epoch 2/100\n",
      "4000/4000 [==============================] - 12s - loss: 1.5968 - acc: 0.2785 - val_loss: 1.5196 - val_acc: 0.3271\n",
      "Epoch 3/100\n",
      "4000/4000 [==============================] - 12s - loss: 1.5314 - acc: 0.3145 - val_loss: 1.5204 - val_acc: 0.3068\n",
      "Epoch 4/100\n",
      "4000/4000 [==============================] - 12s - loss: 1.5042 - acc: 0.3335 - val_loss: 1.4821 - val_acc: 0.3394\n",
      "Epoch 5/100\n",
      "4000/4000 [==============================] - 12s - loss: 1.4539 - acc: 0.3750 - val_loss: 1.4708 - val_acc: 0.3579\n",
      "Epoch 6/100\n",
      "4000/4000 [==============================] - 12s - loss: 1.4136 - acc: 0.3935 - val_loss: 1.4077 - val_acc: 0.3905\n",
      "Epoch 7/100\n",
      "4000/4000 [==============================] - 12s - loss: 1.3670 - acc: 0.4152 - val_loss: 1.3835 - val_acc: 0.3991\n",
      "Epoch 8/100\n",
      "4000/4000 [==============================] - 12s - loss: 1.3215 - acc: 0.4437 - val_loss: 1.3617 - val_acc: 0.4045\n",
      "Epoch 9/100\n",
      "4000/4000 [==============================] - 12s - loss: 1.2819 - acc: 0.4702 - val_loss: 1.3404 - val_acc: 0.4163\n",
      "Epoch 10/100\n",
      "4000/4000 [==============================] - 12s - loss: 1.2673 - acc: 0.4777 - val_loss: 1.3198 - val_acc: 0.4253\n",
      "Epoch 11/100\n",
      "4000/4000 [==============================] - 12s - loss: 1.2188 - acc: 0.4872 - val_loss: 1.3224 - val_acc: 0.4113\n",
      "Epoch 12/100\n",
      "4000/4000 [==============================] - 12s - loss: 1.1933 - acc: 0.5137 - val_loss: 1.3083 - val_acc: 0.4213\n",
      "Epoch 13/100\n",
      "4000/4000 [==============================] - 12s - loss: 1.1565 - acc: 0.5298 - val_loss: 1.3103 - val_acc: 0.4113\n",
      "Epoch 14/100\n",
      "4000/4000 [==============================] - 12s - loss: 1.1117 - acc: 0.5485 - val_loss: 1.2843 - val_acc: 0.4339\n",
      "Epoch 15/100\n",
      "4000/4000 [==============================] - 12s - loss: 1.1335 - acc: 0.5383 - val_loss: 1.3002 - val_acc: 0.4158\n",
      "Epoch 16/100\n",
      "4000/4000 [==============================] - 12s - loss: 1.0527 - acc: 0.5838 - val_loss: 1.2699 - val_acc: 0.4466\n",
      "Epoch 17/100\n",
      "4000/4000 [==============================] - 12s - loss: 1.0692 - acc: 0.5638 - val_loss: 1.2761 - val_acc: 0.4362\n",
      "Epoch 18/100\n",
      "4000/4000 [==============================] - 12s - loss: 0.9915 - acc: 0.6158 - val_loss: 1.2710 - val_acc: 0.4267\n",
      "Epoch 19/100\n",
      "4000/4000 [==============================] - 12s - loss: 0.9986 - acc: 0.6090 - val_loss: 1.2687 - val_acc: 0.4353\n",
      "Epoch 20/100\n",
      "4000/4000 [==============================] - 12s - loss: 0.9642 - acc: 0.6333 - val_loss: 1.2723 - val_acc: 0.4385\n",
      "Epoch 21/100\n",
      "4000/4000 [==============================] - 12s - loss: 0.9366 - acc: 0.6440 - val_loss: 1.2688 - val_acc: 0.4308\n",
      "Epoch 22/100\n",
      "4000/4000 [==============================] - 12s - loss: 0.8884 - acc: 0.6698 - val_loss: 1.2826 - val_acc: 0.4471\n",
      "Epoch 23/100\n",
      "4000/4000 [==============================] - 12s - loss: 0.8924 - acc: 0.6635 - val_loss: 1.2630 - val_acc: 0.4398\n",
      "Epoch 24/100\n",
      "4000/4000 [==============================] - 12s - loss: 0.8463 - acc: 0.6885 - val_loss: 1.2816 - val_acc: 0.4312\n",
      "Epoch 25/100\n",
      "4000/4000 [==============================] - 12s - loss: 0.8404 - acc: 0.6795 - val_loss: 1.2859 - val_acc: 0.4321\n",
      "Epoch 26/100\n",
      "4000/4000 [==============================] - 12s - loss: 0.8016 - acc: 0.7163 - val_loss: 1.2870 - val_acc: 0.4421\n",
      "Epoch 27/100\n",
      "4000/4000 [==============================] - 12s - loss: 0.7792 - acc: 0.7168 - val_loss: 1.3213 - val_acc: 0.4240\n",
      "Epoch 28/100\n",
      "4000/4000 [==============================] - 12s - loss: 0.7572 - acc: 0.7205 - val_loss: 1.2893 - val_acc: 0.4412\n",
      "Epoch 29/100\n",
      "4000/4000 [==============================] - 12s - loss: 0.7259 - acc: 0.7422 - val_loss: 1.2988 - val_acc: 0.4276\n",
      "Epoch 30/100\n",
      "4000/4000 [==============================] - 12s - loss: 0.7081 - acc: 0.7508 - val_loss: 1.2992 - val_acc: 0.4317\n",
      "Epoch 31/100\n",
      "4000/4000 [==============================] - 12s - loss: 0.6760 - acc: 0.7615 - val_loss: 1.2911 - val_acc: 0.4529\n",
      "Epoch 32/100\n",
      "4000/4000 [==============================] - 12s - loss: 0.6724 - acc: 0.7712 - val_loss: 1.3036 - val_acc: 0.4502\n",
      "Epoch 33/100\n",
      "4000/4000 [==============================] - 12s - loss: 0.6101 - acc: 0.7967 - val_loss: 1.3087 - val_acc: 0.4552\n",
      "Epoch 34/100\n",
      "4000/4000 [==============================] - 12s - loss: 0.6401 - acc: 0.7832 - val_loss: 1.3336 - val_acc: 0.4448\n",
      "Epoch 35/100\n",
      "4000/4000 [==============================] - 12s - loss: 0.5767 - acc: 0.8072 - val_loss: 1.3224 - val_acc: 0.4543\n",
      "Epoch 36/100\n",
      "4000/4000 [==============================] - 12s - loss: 0.5974 - acc: 0.7937 - val_loss: 1.3427 - val_acc: 0.4452\n",
      "Epoch 37/100\n",
      "4000/4000 [==============================] - 12s - loss: 0.5399 - acc: 0.8222 - val_loss: 1.3440 - val_acc: 0.4412\n",
      "Epoch 38/100\n",
      "4000/4000 [==============================] - 12s - loss: 0.5535 - acc: 0.8147 - val_loss: 1.3367 - val_acc: 0.4398\n",
      "Epoch 39/100\n",
      "4000/4000 [==============================] - 12s - loss: 0.5050 - acc: 0.8435 - val_loss: 1.3436 - val_acc: 0.4484\n",
      "Epoch 40/100\n",
      "4000/4000 [==============================] - 12s - loss: 0.5017 - acc: 0.8392 - val_loss: 1.3569 - val_acc: 0.4489\n",
      "Epoch 41/100\n",
      "4000/4000 [==============================] - 12s - loss: 0.4776 - acc: 0.8490 - val_loss: 1.3645 - val_acc: 0.4466\n",
      "Epoch 42/100\n",
      "4000/4000 [==============================] - 12s - loss: 0.4660 - acc: 0.8452 - val_loss: 1.3802 - val_acc: 0.4362\n",
      "Epoch 43/100\n",
      "4000/4000 [==============================] - 12s - loss: 0.4519 - acc: 0.8585 - val_loss: 1.3940 - val_acc: 0.4430\n",
      "Epoch 44/100\n",
      "4000/4000 [==============================] - 12s - loss: 0.4293 - acc: 0.8677 - val_loss: 1.3954 - val_acc: 0.4380\n",
      "Epoch 45/100\n",
      "4000/4000 [==============================] - 12s - loss: 0.4297 - acc: 0.8665 - val_loss: 1.3875 - val_acc: 0.4502\n",
      "Epoch 46/100\n",
      "4000/4000 [==============================] - 12s - loss: 0.4090 - acc: 0.8772 - val_loss: 1.3907 - val_acc: 0.4507\n",
      "Epoch 47/100\n",
      "4000/4000 [==============================] - 12s - loss: 0.3977 - acc: 0.8757 - val_loss: 1.4333 - val_acc: 0.4376\n",
      "Epoch 48/100\n",
      "4000/4000 [==============================] - 12s - loss: 0.3799 - acc: 0.8810 - val_loss: 1.4180 - val_acc: 0.4412\n",
      "Epoch 49/100\n",
      "4000/4000 [==============================] - 12s - loss: 0.3712 - acc: 0.8887 - val_loss: 1.4598 - val_acc: 0.4466\n",
      "Epoch 50/100\n",
      "4000/4000 [==============================] - 12s - loss: 0.3439 - acc: 0.9062 - val_loss: 1.4600 - val_acc: 0.4357\n",
      "Epoch 51/100\n",
      "4000/4000 [==============================] - 12s - loss: 0.3591 - acc: 0.8907 - val_loss: 1.4775 - val_acc: 0.4312\n",
      "Epoch 52/100\n",
      "4000/4000 [==============================] - 12s - loss: 0.3179 - acc: 0.9147 - val_loss: 1.4684 - val_acc: 0.4448\n",
      "Epoch 53/100\n",
      "4000/4000 [==============================] - 12s - loss: 0.3213 - acc: 0.9100 - val_loss: 1.4632 - val_acc: 0.4466\n",
      "Epoch 54/100\n",
      "4000/4000 [==============================] - 12s - loss: 0.2984 - acc: 0.9167 - val_loss: 1.4892 - val_acc: 0.4407\n",
      "Epoch 55/100\n",
      "4000/4000 [==============================] - 12s - loss: 0.3078 - acc: 0.9140 - val_loss: 1.4897 - val_acc: 0.4357\n",
      "Epoch 56/100\n",
      "4000/4000 [==============================] - 12s - loss: 0.2869 - acc: 0.9210 - val_loss: 1.4771 - val_acc: 0.4303\n",
      "Epoch 57/100\n",
      "4000/4000 [==============================] - 12s - loss: 0.2921 - acc: 0.9232 - val_loss: 1.4843 - val_acc: 0.4376\n",
      "Epoch 58/100\n",
      "4000/4000 [==============================] - 12s - loss: 0.2701 - acc: 0.9275 - val_loss: 1.4969 - val_acc: 0.4317\n",
      "Epoch 59/100\n",
      "4000/4000 [==============================] - 12s - loss: 0.2696 - acc: 0.9285 - val_loss: 1.4753 - val_acc: 0.4493\n",
      "Epoch 60/100\n",
      "4000/4000 [==============================] - 12s - loss: 0.2643 - acc: 0.9277 - val_loss: 1.5006 - val_acc: 0.4407\n",
      "Epoch 61/100\n",
      "4000/4000 [==============================] - 12s - loss: 0.2486 - acc: 0.9332 - val_loss: 1.5280 - val_acc: 0.4385\n",
      "Epoch 62/100\n",
      "4000/4000 [==============================] - 12s - loss: 0.2583 - acc: 0.9345 - val_loss: 1.5101 - val_acc: 0.4290\n",
      "Epoch 63/100\n",
      "4000/4000 [==============================] - 12s - loss: 0.2483 - acc: 0.9362 - val_loss: 1.5085 - val_acc: 0.4371\n",
      "Epoch 64/100\n",
      "4000/4000 [==============================] - 12s - loss: 0.2370 - acc: 0.9457 - val_loss: 1.5203 - val_acc: 0.4416\n",
      "Epoch 65/100\n",
      "4000/4000 [==============================] - 12s - loss: 0.2294 - acc: 0.9445 - val_loss: 1.5082 - val_acc: 0.4335\n",
      "Epoch 66/100\n",
      "4000/4000 [==============================] - 12s - loss: 0.2184 - acc: 0.9438 - val_loss: 1.5604 - val_acc: 0.4321\n",
      "Epoch 67/100\n",
      "4000/4000 [==============================] - 12s - loss: 0.2134 - acc: 0.9475 - val_loss: 1.5416 - val_acc: 0.4303\n",
      "Epoch 68/100\n",
      "4000/4000 [==============================] - 12s - loss: 0.2218 - acc: 0.9460 - val_loss: 1.5458 - val_acc: 0.4380\n",
      "Epoch 69/100\n",
      "4000/4000 [==============================] - 12s - loss: 0.2060 - acc: 0.9525 - val_loss: 1.5602 - val_acc: 0.4394\n",
      "Epoch 70/100\n",
      "4000/4000 [==============================] - 12s - loss: 0.2058 - acc: 0.9525 - val_loss: 1.5379 - val_acc: 0.4303\n",
      "Epoch 71/100\n",
      "4000/4000 [==============================] - 12s - loss: 0.1895 - acc: 0.9557 - val_loss: 1.5682 - val_acc: 0.4367\n",
      "Epoch 72/100\n",
      "4000/4000 [==============================] - 12s - loss: 0.1968 - acc: 0.9595 - val_loss: 1.5613 - val_acc: 0.4416\n",
      "Epoch 73/100\n",
      "4000/4000 [==============================] - 12s - loss: 0.1847 - acc: 0.9590 - val_loss: 1.5900 - val_acc: 0.4348\n",
      "Epoch 74/100\n",
      "4000/4000 [==============================] - 12s - loss: 0.1893 - acc: 0.9532 - val_loss: 1.5870 - val_acc: 0.4348\n",
      "Epoch 75/100\n",
      "4000/4000 [==============================] - 12s - loss: 0.1789 - acc: 0.9620 - val_loss: 1.6026 - val_acc: 0.4380\n",
      "Epoch 76/100\n",
      "4000/4000 [==============================] - 12s - loss: 0.1794 - acc: 0.9633 - val_loss: 1.6306 - val_acc: 0.4367\n",
      "Epoch 77/100\n",
      "4000/4000 [==============================] - 12s - loss: 0.1770 - acc: 0.9575 - val_loss: 1.6004 - val_acc: 0.4317\n",
      "Epoch 78/100\n",
      "4000/4000 [==============================] - 12s - loss: 0.1699 - acc: 0.9657 - val_loss: 1.6060 - val_acc: 0.4353\n",
      "Epoch 79/100\n",
      "4000/4000 [==============================] - 12s - loss: 0.1674 - acc: 0.9627 - val_loss: 1.6131 - val_acc: 0.4416\n",
      "Epoch 80/100\n",
      "4000/4000 [==============================] - 12s - loss: 0.1582 - acc: 0.9662 - val_loss: 1.6045 - val_acc: 0.4385\n",
      "Epoch 81/100\n",
      "4000/4000 [==============================] - 12s - loss: 0.1648 - acc: 0.9630 - val_loss: 1.6517 - val_acc: 0.4317\n",
      "Epoch 82/100\n",
      "4000/4000 [==============================] - 12s - loss: 0.1535 - acc: 0.9637 - val_loss: 1.6282 - val_acc: 0.4285\n",
      "Epoch 83/100\n",
      "4000/4000 [==============================] - 12s - loss: 0.1587 - acc: 0.9678 - val_loss: 1.6479 - val_acc: 0.4353\n",
      "Epoch 84/100\n",
      "4000/4000 [==============================] - 12s - loss: 0.1511 - acc: 0.9730 - val_loss: 1.6556 - val_acc: 0.4294\n",
      "Epoch 85/100\n",
      "4000/4000 [==============================] - 12s - loss: 0.1488 - acc: 0.9670 - val_loss: 1.6398 - val_acc: 0.4398\n",
      "Epoch 86/100\n",
      "4000/4000 [==============================] - 12s - loss: 0.1319 - acc: 0.9748 - val_loss: 1.6526 - val_acc: 0.4380\n",
      "Epoch 87/100\n",
      "4000/4000 [==============================] - 12s - loss: 0.1479 - acc: 0.9688 - val_loss: 1.6499 - val_acc: 0.4498\n",
      "Epoch 88/100\n",
      "4000/4000 [==============================] - 12s - loss: 0.1352 - acc: 0.9703 - val_loss: 1.6836 - val_acc: 0.4371\n",
      "Epoch 89/100\n",
      "4000/4000 [==============================] - 12s - loss: 0.1383 - acc: 0.9725 - val_loss: 1.6792 - val_acc: 0.4299\n",
      "Epoch 90/100\n",
      "4000/4000 [==============================] - 12s - loss: 0.1341 - acc: 0.9742 - val_loss: 1.6493 - val_acc: 0.4376\n",
      "Epoch 91/100\n",
      "4000/4000 [==============================] - 12s - loss: 0.1266 - acc: 0.9780 - val_loss: 1.6526 - val_acc: 0.4385\n",
      "Epoch 92/100\n",
      "4000/4000 [==============================] - 12s - loss: 0.1333 - acc: 0.9738 - val_loss: 1.7001 - val_acc: 0.4344\n",
      "Epoch 93/100\n",
      "4000/4000 [==============================] - 12s - loss: 0.1236 - acc: 0.9760 - val_loss: 1.6631 - val_acc: 0.4290\n",
      "Epoch 94/100\n",
      "4000/4000 [==============================] - 12s - loss: 0.1181 - acc: 0.9765 - val_loss: 1.6798 - val_acc: 0.4389\n",
      "Epoch 95/100\n",
      "4000/4000 [==============================] - 12s - loss: 0.1132 - acc: 0.9808 - val_loss: 1.7000 - val_acc: 0.4317\n",
      "Epoch 96/100\n",
      "4000/4000 [==============================] - 12s - loss: 0.1116 - acc: 0.9795 - val_loss: 1.7289 - val_acc: 0.4339\n",
      "Epoch 97/100\n",
      "4000/4000 [==============================] - 12s - loss: 0.1149 - acc: 0.9805 - val_loss: 1.7234 - val_acc: 0.4290\n",
      "Epoch 98/100\n",
      "4000/4000 [==============================] - 12s - loss: 0.1065 - acc: 0.9818 - val_loss: 1.7210 - val_acc: 0.4321\n",
      "Epoch 99/100\n",
      "4000/4000 [==============================] - 12s - loss: 0.1090 - acc: 0.9803 - val_loss: 1.7525 - val_acc: 0.4344\n",
      "Epoch 100/100\n",
      "4000/4000 [==============================] - 12s - loss: 0.1065 - acc: 0.9813 - val_loss: 1.7080 - val_acc: 0.4357\n"
     ]
    }
   ],
   "source": [
    "#history_data = model.fit_generator(my_generator(train_X_model,train_y_model),samples_per_epoch = 20*100,nb_epoch=70,verbose=1,validation_data=(test_X_model,test_y_model),callbacks=[history])\n",
    "history_data = model.fit_generator(my_generator(train_X_model,train_y_model),samples_per_epoch = 40*100,nb_epoch=100,verbose=1,validation_data=(test_X_model,test_y_model))"
   ]
  },
  {
   "cell_type": "code",
   "execution_count": null,
   "metadata": {
    "collapsed": false
   },
   "outputs": [],
   "source": []
  },
  {
   "cell_type": "code",
   "execution_count": 30,
   "metadata": {
    "collapsed": false
   },
   "outputs": [
    {
     "name": "stdout",
     "output_type": "stream",
     "text": [
      "最佳测试成绩： 0.420361990573\n"
     ]
    },
    {
     "data": {
      "text/plain": [
       "<matplotlib.legend.Legend at 0x7f90c48f7c50>"
      ]
     },
     "execution_count": 30,
     "metadata": {},
     "output_type": "execute_result"
    },
    {
     "data": {
      "image/png": "[encoded data removed]",
      "text/plain": [
       "<matplotlib.figure.Figure at 0x7f90c9fb5390>"
      ]
     },
     "metadata": {},
     "output_type": "display_data"
    },
    {
     "data": {
      "image/png": "[encoded data removed]",
      "text/plain": [
       "<matplotlib.figure.Figure at 0x7f90c7798d68>"
      ]
     },
     "metadata": {},
     "output_type": "display_data"
    }
   ],
   "source": [
    "## non-sataic 动态测试\n",
    "#glove\n",
    "#Epoch 19/100 2000/2000 [==============================] - 8s - loss: 1.3439 - acc: 0.6145 - val_loss: 1.2428 - val_acc: 0.4629\n",
    "#Epoch 38/100 2000/2000 [==============================] - 9s - loss: 0.5664 - acc: 0.9005 - val_loss: 1.4114 - val_acc: 0.4511\n",
    "#Epoch 25/100 2000/2000 [==============================] - 9s - loss: 1.0709 - acc: 0.7110 - val_loss: 1.2304 - val_acc: 0.4661\n",
    "#Epoch 38/100 2000/2000 [==============================] - 9s - loss: 0.5341 - acc: 0.9125 - val_loss: 1.6058 - val_acc: 0.4566\n",
    "#Epoch 9/50 2000/2000 [==============================] - 9s - loss: 2.0732 - acc: 0.4635 - val_loss: 1.2695 - val_acc: 0.4597\n",
    "#google \n",
    "#Epoch 54 2000/2000 [==============================] - 9s - loss: 0.6900 - acc: 0.8260 - val_loss: 1.3817 - val_acc: 0.4566\n",
    "#Epoch 47/70 2000/2000 [==============================] - 9s - loss: 0.7923 - acc: 0.7745 - val_loss: 1.2870 - val_acc: 0.4620\n",
    "history = history_data.history\n",
    "print('最佳测试成绩：',max(history['val_acc']))\n",
    "fig = plt.figure()\n",
    "plt.plot(history['val_acc'],'r')\n",
    "plt.plot(history['acc'],'g',label='测试准确率')\n",
    "plt.title('model acc')\n",
    "plt.ylabel('acc')\n",
    "plt.xlabel('epoch')\n",
    "plt.legend(['test', 'train'], loc='upper left')\n",
    "\n",
    "fig = plt.figure()\n",
    "plt.plot(history['loss'],color='r')\n",
    "plt.plot(history['val_loss'])\n",
    "plt.title('model loss')\n",
    "plt.ylabel('loss')\n",
    "plt.xlabel('epoch')\n",
    "plt.legend(['train', 'test'], loc='upper left')"
   ]
  },
  {
   "cell_type": "code",
   "execution_count": null,
   "metadata": {
    "collapsed": true
   },
   "outputs": [],
   "source": [
    "\n"
   ]
  },
  {
   "cell_type": "code",
   "execution_count": 109,
   "metadata": {
    "collapsed": false
   },
   "outputs": [
    {
     "name": "stdout",
     "output_type": "stream",
     "text": [
      "最佳测试成绩： 0.461990950334\n"
     ]
    },
    {
     "data": {
      "text/plain": [
       "<matplotlib.legend.Legend at 0x7f125830f7f0>"
      ]
     },
     "execution_count": 109,
     "metadata": {},
     "output_type": "execute_result"
    },
    {
     "data": {
      "image/png": "[encoded data removed]",
      "text/plain": [
       "<matplotlib.figure.Figure at 0x7f12583a5ac8>"
      ]
     },
     "metadata": {},
     "output_type": "display_data"
    },
    {
     "data": {
      "image/png": "[encoded data removed]",
      "text/plain": [
       "<matplotlib.figure.Figure at 0x7f12585c5828>"
      ]
     },
     "metadata": {},
     "output_type": "display_data"
    }
   ],
   "source": [
    "#static:\n",
    "#最佳测试成绩： 0.453846151608\n",
    "#epoch 18 2000/2000 [==============================] - 10s - loss: 1.3526 - acc: 0.6155 - val_loss: 1.2579 - val_acc: 0.4643\n",
    "#epoch 23 2000/2000 [==============================] - 10s - loss: 1.0800 - acc: 0.6980 - val_loss: 1.2576 - val_acc: 0.4543\n",
    "#epoch 26 2000/2000 [==============================] - 10s - loss: 0.9911 - acc: 0.7440 - val_loss: 1.3089 - val_acc: 0.4575\n",
    "#Epoch 9/100 2000/2000 [==============================] - 10s - loss: 2.1036 - acc: 0.4565 - val_loss: 1.2884 - val_acc: 0.4552\n",
    "#Epoch 23/40 2000/2000 [==============================] - 10s - loss: 1.0703 - acc: 0.7220 - val_loss: 1.2691 - val_acc: 0.4557\n",
    "#Epoch 14/40 2000/2000 [==============================] - 5s - loss: 1.5780 - acc: 0.5405 - val_loss: 1.2548 - val_acc: 0.4570\n",
    "\n",
    "print('最佳测试成绩：',max(history.test_accuracy))\n",
    "fig = plt.figure()\n",
    "plt.plot(history.test_accuracy,'r')\n",
    "plt.plot(history.train_accuracy,'g',label='测试准确率')\n",
    "plt.title('model loss')\n",
    "plt.ylabel('acc')\n",
    "plt.xlabel('epoch')\n",
    "plt.legend(['test', 'train'], loc='upper left')\n",
    "\n",
    "fig = plt.figure()\n",
    "plt.plot(history.train_losses,color='r')\n",
    "plt.plot(history.test_losses)\n",
    "plt.title('model loss')\n",
    "plt.ylabel('loss')\n",
    "plt.xlabel('epoch')\n",
    "plt.legend(['train', 'test'], loc='upper left')"
   ]
  },
  {
   "cell_type": "markdown",
   "metadata": {},
   "source": [
    "# 实验结果"
   ]
  },
  {
   "cell_type": "markdown",
   "metadata": {},
   "source": [
    "cnn-static:0.4489 ()\n",
    "glove 300维度：0.4520\n",
    "loss: 0.2594 - acc: 0.9935 - val_loss: 1.4543 - val_acc: 0.4575\n",
    "\n",
    "cnn_non_static:\n",
    "0.4498(loss=0.7727,acc=0.7438)\n",
    "0.4643(loss=0.3920,acc = 0.9205)\n",
    "\n",
    " 16s - loss: 0.5418 - acc: 0.9185 - val_loss: 1.3282 - val_acc: 0.4674\n",
    " loss: 0.7181 - acc: 0.8215 - val_loss: 1.2562 - val_acc: 0.4624"
   ]
  }
 ],
 "metadata": {
  "kernelspec": {
   "display_name": "Python [Root]",
   "language": "python",
   "name": "Python [Root]"
  },
  "language_info": {
   "codemirror_mode": {
    "name": "ipython",
    "version": 3
   },
   "file_extension": ".py",
   "mimetype": "text/x-python",
   "name": "python",
   "nbconvert_exporter": "python",
   "pygments_lexer": "ipython3",
   "version": "3.5.2"
  }
 },
 "nbformat": 4,
 "nbformat_minor": 0
}
