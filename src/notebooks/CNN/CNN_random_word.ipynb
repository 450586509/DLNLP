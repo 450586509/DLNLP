{
 "cells": [
  {
   "cell_type": "markdown",
   "metadata": {},
   "source": [
    "## 模型介绍"
   ]
  },
  {
   "cell_type": "markdown",
   "metadata": {},
   "source": [
    "1. 基于**卷积神经网络**的情感分析\n",
    "2. 输入为**随机**初始化词向量\n",
    "3. CNN的结构：filter_length = 3,4,5的卷积核各100 个。\n",
    "4. SST-5数据集"
   ]
  },
  {
   "cell_type": "code",
   "execution_count": 1,
   "metadata": {
    "collapsed": false
   },
   "outputs": [
    {
     "name": "stderr",
     "output_type": "stream",
     "text": [
      "Using Theano backend.\n",
      "Using gpu device 0: GeForce GT 630 (CNMeM is disabled, cuDNN not available)\n"
     ]
    }
   ],
   "source": [
    "import keras \n",
    "from  os.path import join\n",
    "from keras.preprocessing import sequence\n",
    "from keras.models import Sequential\n",
    "from keras.layers import Dense, Dropout,Activation, Lambda,Input\n",
    "from keras.layers import Embedding\n",
    "from keras.layers import Convolution1D\n",
    "from keras.datasets import imdb\n",
    "from keras import backend as K\n",
    "from keras.layers import Convolution1D, GlobalMaxPooling1D,Convolution2D,merge\n",
    "from keras.utils import np_utils\n",
    "from keras.models import Model\n",
    "from keras.regularizers import l2"
   ]
  },
  {
   "cell_type": "markdown",
   "metadata": {},
   "source": [
    "## 数据预处理"
   ]
  },
  {
   "cell_type": "code",
   "execution_count": 2,
   "metadata": {
    "collapsed": false
   },
   "outputs": [
    {
     "name": "stdout",
     "output_type": "stream",
     "text": [
      "8544\n",
      "2210\n",
      "1101\n",
      "[['a', 'stirring', ',', 'funny', 'and', 'finally', 'transporting', 're-imagining', 'of', 'beauty', 'and', 'the', 'beast', 'and', '1930s', 'horror', 'films'], ['apparently', 'reassembled', 'from', 'the', 'cutting-room', 'floor', 'of', 'any', 'given', 'daytime', 'soap', '.']]\n",
      "[4, 1]\n"
     ]
    }
   ],
   "source": [
    "file_names = ['stsa.fine.test','stsa.fine.train','stsa.fine.dev']\n",
    "file_path = '/home/bruce/data/sentiment/'\n",
    "def read_file(fname=''):\n",
    "    with open(join(file_path,fname)) as fr:\n",
    "        lines = fr.readlines()\n",
    "    lines = [line.strip().lower() for line in lines]\n",
    "    lables = [int(line[0:1]) for line in lines]\n",
    "    words = [line[2:].split() for line in lines]\n",
    "    return words,lables       \n",
    "train_X,train_y = read_file(fname='stsa.fine.train')\n",
    "test_X,test_y = read_file(fname='stsa.fine.test')\n",
    "dev_X,dev_y = read_file(fname='stsa.fine.dev')\n",
    "print(len(train_X))\n",
    "print(len(test_X))\n",
    "print(len(dev_X))\n",
    "print(train_X[0:2])\n",
    "print(train_y[0:2])"
   ]
  },
  {
   "cell_type": "markdown",
   "metadata": {},
   "source": [
    "### 句子长度统计信息"
   ]
  },
  {
   "cell_type": "code",
   "execution_count": 3,
   "metadata": {
    "collapsed": false
   },
   "outputs": [
    {
     "name": "stdout",
     "output_type": "stream",
     "text": [
      "length =  8544\n",
      "max =  52\n",
      "min = 2\n",
      "average =  19.143960674157302\n",
      "top 50% =  18\n",
      "top 80% =  27\n",
      "top 90% =  32\n",
      "top 95% =  35\n"
     ]
    }
   ],
   "source": [
    "def statics_list2(arrays=[]):\n",
    "    lengths = [len(i) for i in arrays]\n",
    "    lengths = sorted(lengths)\n",
    "    length = len(lengths)\n",
    "    print('length = ',len(lengths))\n",
    "    print('max = ',lengths[-1])\n",
    "    print('min =',lengths[0])\n",
    "    print('average = ',sum(lengths)/length)\n",
    "    print('top 50% = ',lengths[int(0.5*length)])\n",
    "    print('top 80% = ',lengths[int(0.8*length)])\n",
    "    print('top 90% = ',lengths[int(0.9*length)])\n",
    "    print('top 95% = ',lengths[int(0.95*length)])\n",
    "    \n",
    "statics_list2(arrays=train_X)"
   ]
  },
  {
   "cell_type": "code",
   "execution_count": 4,
   "metadata": {
    "collapsed": true
   },
   "outputs": [],
   "source": [
    "def token_to_index(datas=[]):\n",
    "    word_index={}\n",
    "    count=1\n",
    "    for data in datas:\n",
    "        for list_ in data:\n",
    "            for w in list_:\n",
    "                if w not in word_index:\n",
    "                    word_index[w] = count\n",
    "                    count = count + 1\n",
    "    print('leng of word_index =',len(word_index))\n",
    "    for i in range(len(datas)):\n",
    "        datas[i] = [[ word_index[w] for w in line ] for line in datas[i]] \n",
    "    return datas,word_index"
   ]
  },
  {
   "cell_type": "code",
   "execution_count": 5,
   "metadata": {
    "collapsed": false
   },
   "outputs": [
    {
     "name": "stdout",
     "output_type": "stream",
     "text": [
      "leng of word_index = 17611\n",
      "17611\n"
     ]
    }
   ],
   "source": [
    "X,word_index = token_to_index(datas=[train_X,dev_X])\n",
    "train_X,dev_X = X\n",
    "print(len(word_index))"
   ]
  },
  {
   "cell_type": "markdown",
   "metadata": {},
   "source": [
    "## 构建模型"
   ]
  },
  {
   "cell_type": "code",
   "execution_count": 29,
   "metadata": {
    "collapsed": true
   },
   "outputs": [],
   "source": [
    "max_len = 52\n",
    "batch_size=32\n",
    "\n",
    "max_features = 17612\n",
    "embedding_dim = 100\n",
    "\n",
    "nb_filter = 100\n",
    "dense1_hindden = 300\n",
    "nb_classes = 5"
   ]
  },
  {
   "cell_type": "code",
   "execution_count": 37,
   "metadata": {
    "collapsed": false
   },
   "outputs": [
    {
     "name": "stdout",
     "output_type": "stream",
     "text": [
      "Build model...\n",
      "dense_layer input_shape should == (300,)\n",
      "finish build model\n"
     ]
    }
   ],
   "source": [
    "print('Build model...')\n",
    "input_random = Input(shape=(max_len,), dtype='int32', name='main_input1')\n",
    "embedding = Embedding(output_dim=embedding_dim, input_dim=max_features)(input_random)\n",
    "# 卷积层\n",
    "conv1 = Convolution1D(nb_filter = nb_filter,\n",
    "                        filter_length = 2,\n",
    "                        border_mode = 'valid',\n",
    "                        activation='relu'\n",
    "                       )(embedding)\n",
    "conv2 = Convolution1D(nb_filter = nb_filter,\n",
    "                        filter_length = 3,\n",
    "                        border_mode = 'valid',\n",
    "                        activation='relu'\n",
    "                       )(embedding)\n",
    "\n",
    "conv3 = Convolution1D(nb_filter = nb_filter,\n",
    "                        filter_length = 4,\n",
    "                        border_mode = 'valid',\n",
    "                        activation='relu'\n",
    "                       )(embedding)\n",
    "conv1 =GlobalMaxPooling1D()(conv1)\n",
    "conv2 =GlobalMaxPooling1D()(conv2)\n",
    "conv3 =GlobalMaxPooling1D()(conv3)\n",
    "merged_vector = merge([conv1,conv2,conv3], mode='concat')\n",
    "# 全连接层\n",
    "#dense_layer = Dense(dense1_hindden)\n",
    "#dens1 = dense_layer(merged_vector)\n",
    "print('dense_layer input_shape should == (300,)')\n",
    "#print(dense_layer.input_shape)\n",
    "#dens1 = Activation('relu')(dens1)\n",
    "\n",
    "# softmax层\n",
    "dens2 = Dense(nb_classes)(merged_vector)\n",
    "output_random = Activation('softmax')(dens2)\n",
    "\n",
    "model = Model(input=input_random,output=output_random)\n",
    "print('finish build model')\n",
    "model.compile(optimizer='adadelta',\n",
    "              loss='categorical_crossentropy',\n",
    "              metrics=['accuracy'])\n"
   ]
  },
  {
   "cell_type": "markdown",
   "metadata": {},
   "source": [
    "## 模型图"
   ]
  },
  {
   "cell_type": "code",
   "execution_count": 38,
   "metadata": {
    "collapsed": false
   },
   "outputs": [
    {
     "data": {
      "image/svg+xml": [
       "<svg height=\"483pt\" viewBox=\"0.00 0.00 1097.00 483.00\" width=\"1097pt\" xmlns=\"http://www.w3.org/2000/svg\" xmlns:xlink=\"http://www.w3.org/1999/xlink\">\n",
       "<g class=\"graph\" id=\"graph0\" transform=\"scale(1 1) rotate(0) translate(4 479)\">\n",
       "<title>G</title>\n",
       "<polygon fill=\"white\" points=\"-4,4 -4,-479 1093,-479 1093,4 -4,4\" stroke=\"none\"/>\n",
       "<!-- 140639711883672 -->\n",
       "<g class=\"node\" id=\"node1\"><title>140639711883672</title>\n",
       "<polygon fill=\"none\" points=\"444,-438.5 444,-474.5 645,-474.5 645,-438.5 444,-438.5\" stroke=\"black\"/>\n",
       "<text font-family=\"Times,serif\" font-size=\"14.00\" text-anchor=\"middle\" x=\"544.5\" y=\"-452.8\">main_input1 (InputLayer)</text>\n",
       "</g>\n",
       "<!-- 140639711883616 -->\n",
       "<g class=\"node\" id=\"node2\"><title>140639711883616</title>\n",
       "<polygon fill=\"none\" points=\"440,-365.5 440,-401.5 649,-401.5 649,-365.5 440,-365.5\" stroke=\"black\"/>\n",
       "<text font-family=\"Times,serif\" font-size=\"14.00\" text-anchor=\"middle\" x=\"544.5\" y=\"-379.8\">embedding_5 (Embedding)</text>\n",
       "</g>\n",
       "<!-- 140639711883672&#45;&gt;140639711883616 -->\n",
       "<g class=\"edge\" id=\"edge1\"><title>140639711883672-&gt;140639711883616</title>\n",
       "<path d=\"M544.5,-438.313C544.5,-430.289 544.5,-420.547 544.5,-411.569\" fill=\"none\" stroke=\"black\"/>\n",
       "<polygon fill=\"black\" points=\"548,-411.529 544.5,-401.529 541,-411.529 548,-411.529\" stroke=\"black\"/>\n",
       "</g>\n",
       "<!-- 140639711886192 -->\n",
       "<g class=\"node\" id=\"node3\"><title>140639711886192</title>\n",
       "<polygon fill=\"none\" points=\"86,-292.5 86,-328.5 351,-328.5 351,-292.5 86,-292.5\" stroke=\"black\"/>\n",
       "<text font-family=\"Times,serif\" font-size=\"14.00\" text-anchor=\"middle\" x=\"218.5\" y=\"-306.8\">convolution1d_13 (Convolution1D)</text>\n",
       "</g>\n",
       "<!-- 140639711883616&#45;&gt;140639711886192 -->\n",
       "<g class=\"edge\" id=\"edge2\"><title>140639711883616-&gt;140639711886192</title>\n",
       "<path d=\"M466.415,-365.494C418.293,-355.013 356.471,-341.549 306.602,-330.688\" fill=\"none\" stroke=\"black\"/>\n",
       "<polygon fill=\"black\" points=\"307.311,-327.26 296.795,-328.552 305.821,-334.1 307.311,-327.26\" stroke=\"black\"/>\n",
       "</g>\n",
       "<!-- 140639643025360 -->\n",
       "<g class=\"node\" id=\"node4\"><title>140639643025360</title>\n",
       "<polygon fill=\"none\" points=\"412,-292.5 412,-328.5 677,-328.5 677,-292.5 412,-292.5\" stroke=\"black\"/>\n",
       "<text font-family=\"Times,serif\" font-size=\"14.00\" text-anchor=\"middle\" x=\"544.5\" y=\"-306.8\">convolution1d_14 (Convolution1D)</text>\n",
       "</g>\n",
       "<!-- 140639711883616&#45;&gt;140639643025360 -->\n",
       "<g class=\"edge\" id=\"edge3\"><title>140639711883616-&gt;140639643025360</title>\n",
       "<path d=\"M544.5,-365.313C544.5,-357.289 544.5,-347.547 544.5,-338.569\" fill=\"none\" stroke=\"black\"/>\n",
       "<polygon fill=\"black\" points=\"548,-338.529 544.5,-328.529 541,-338.529 548,-338.529\" stroke=\"black\"/>\n",
       "</g>\n",
       "<!-- 140639712369800 -->\n",
       "<g class=\"node\" id=\"node5\"><title>140639712369800</title>\n",
       "<polygon fill=\"none\" points=\"738,-292.5 738,-328.5 1003,-328.5 1003,-292.5 738,-292.5\" stroke=\"black\"/>\n",
       "<text font-family=\"Times,serif\" font-size=\"14.00\" text-anchor=\"middle\" x=\"870.5\" y=\"-306.8\">convolution1d_15 (Convolution1D)</text>\n",
       "</g>\n",
       "<!-- 140639711883616&#45;&gt;140639712369800 -->\n",
       "<g class=\"edge\" id=\"edge4\"><title>140639711883616-&gt;140639712369800</title>\n",
       "<path d=\"M622.585,-365.494C670.707,-355.013 732.529,-341.549 782.398,-330.688\" fill=\"none\" stroke=\"black\"/>\n",
       "<polygon fill=\"black\" points=\"783.179,-334.1 792.205,-328.552 781.689,-327.26 783.179,-334.1\" stroke=\"black\"/>\n",
       "</g>\n",
       "<!-- 140639642479080 -->\n",
       "<g class=\"node\" id=\"node6\"><title>140639642479080</title>\n",
       "<polygon fill=\"none\" points=\"0,-219.5 0,-255.5 351,-255.5 351,-219.5 0,-219.5\" stroke=\"black\"/>\n",
       "<text font-family=\"Times,serif\" font-size=\"14.00\" text-anchor=\"middle\" x=\"175.5\" y=\"-233.8\">globalmaxpooling1d_13 (GlobalMaxPooling1D)</text>\n",
       "</g>\n",
       "<!-- 140639711886192&#45;&gt;140639642479080 -->\n",
       "<g class=\"edge\" id=\"edge5\"><title>140639711886192-&gt;140639642479080</title>\n",
       "<path d=\"M208.091,-292.313C202.968,-283.853 196.687,-273.484 191.012,-264.112\" fill=\"none\" stroke=\"black\"/>\n",
       "<polygon fill=\"black\" points=\"193.987,-262.269 185.813,-255.529 188,-265.896 193.987,-262.269\" stroke=\"black\"/>\n",
       "</g>\n",
       "<!-- 140639712303480 -->\n",
       "<g class=\"node\" id=\"node7\"><title>140639712303480</title>\n",
       "<polygon fill=\"none\" points=\"369,-219.5 369,-255.5 720,-255.5 720,-219.5 369,-219.5\" stroke=\"black\"/>\n",
       "<text font-family=\"Times,serif\" font-size=\"14.00\" text-anchor=\"middle\" x=\"544.5\" y=\"-233.8\">globalmaxpooling1d_14 (GlobalMaxPooling1D)</text>\n",
       "</g>\n",
       "<!-- 140639643025360&#45;&gt;140639712303480 -->\n",
       "<g class=\"edge\" id=\"edge6\"><title>140639643025360-&gt;140639712303480</title>\n",
       "<path d=\"M544.5,-292.313C544.5,-284.289 544.5,-274.547 544.5,-265.569\" fill=\"none\" stroke=\"black\"/>\n",
       "<polygon fill=\"black\" points=\"548,-265.529 544.5,-255.529 541,-265.529 548,-265.529\" stroke=\"black\"/>\n",
       "</g>\n",
       "<!-- 140639712468552 -->\n",
       "<g class=\"node\" id=\"node8\"><title>140639712468552</title>\n",
       "<polygon fill=\"none\" points=\"738,-219.5 738,-255.5 1089,-255.5 1089,-219.5 738,-219.5\" stroke=\"black\"/>\n",
       "<text font-family=\"Times,serif\" font-size=\"14.00\" text-anchor=\"middle\" x=\"913.5\" y=\"-233.8\">globalmaxpooling1d_15 (GlobalMaxPooling1D)</text>\n",
       "</g>\n",
       "<!-- 140639712369800&#45;&gt;140639712468552 -->\n",
       "<g class=\"edge\" id=\"edge7\"><title>140639712369800-&gt;140639712468552</title>\n",
       "<path d=\"M880.909,-292.313C886.032,-283.853 892.313,-273.484 897.988,-264.112\" fill=\"none\" stroke=\"black\"/>\n",
       "<polygon fill=\"black\" points=\"901,-265.896 903.187,-255.529 895.013,-262.269 901,-265.896\" stroke=\"black\"/>\n",
       "</g>\n",
       "<!-- 140639712466984 -->\n",
       "<g class=\"node\" id=\"node9\"><title>140639712466984</title>\n",
       "<polygon fill=\"none\" points=\"474,-146.5 474,-182.5 615,-182.5 615,-146.5 474,-146.5\" stroke=\"black\"/>\n",
       "<text font-family=\"Times,serif\" font-size=\"14.00\" text-anchor=\"middle\" x=\"544.5\" y=\"-160.8\">merge_5 (Merge)</text>\n",
       "</g>\n",
       "<!-- 140639642479080&#45;&gt;140639712466984 -->\n",
       "<g class=\"edge\" id=\"edge8\"><title>140639642479080-&gt;140639712466984</title>\n",
       "<path d=\"M263.885,-219.494C324.653,-207.801 404.722,-192.395 463.773,-181.033\" fill=\"none\" stroke=\"black\"/>\n",
       "<polygon fill=\"black\" points=\"464.644,-184.43 473.802,-179.103 463.321,-177.556 464.644,-184.43\" stroke=\"black\"/>\n",
       "</g>\n",
       "<!-- 140639712303480&#45;&gt;140639712466984 -->\n",
       "<g class=\"edge\" id=\"edge9\"><title>140639712303480-&gt;140639712466984</title>\n",
       "<path d=\"M544.5,-219.313C544.5,-211.289 544.5,-201.547 544.5,-192.569\" fill=\"none\" stroke=\"black\"/>\n",
       "<polygon fill=\"black\" points=\"548,-192.529 544.5,-182.529 541,-192.529 548,-192.529\" stroke=\"black\"/>\n",
       "</g>\n",
       "<!-- 140639712468552&#45;&gt;140639712466984 -->\n",
       "<g class=\"edge\" id=\"edge10\"><title>140639712468552-&gt;140639712466984</title>\n",
       "<path d=\"M825.115,-219.494C764.347,-207.801 684.278,-192.395 625.227,-181.033\" fill=\"none\" stroke=\"black\"/>\n",
       "<polygon fill=\"black\" points=\"625.679,-177.556 615.198,-179.103 624.356,-184.43 625.679,-177.556\" stroke=\"black\"/>\n",
       "</g>\n",
       "<!-- 140639712465192 -->\n",
       "<g class=\"node\" id=\"node10\"><title>140639712465192</title>\n",
       "<polygon fill=\"none\" points=\"477.5,-73.5 477.5,-109.5 611.5,-109.5 611.5,-73.5 477.5,-73.5\" stroke=\"black\"/>\n",
       "<text font-family=\"Times,serif\" font-size=\"14.00\" text-anchor=\"middle\" x=\"544.5\" y=\"-87.8\">dense_8 (Dense)</text>\n",
       "</g>\n",
       "<!-- 140639712466984&#45;&gt;140639712465192 -->\n",
       "<g class=\"edge\" id=\"edge11\"><title>140639712466984-&gt;140639712465192</title>\n",
       "<path d=\"M544.5,-146.313C544.5,-138.289 544.5,-128.547 544.5,-119.569\" fill=\"none\" stroke=\"black\"/>\n",
       "<polygon fill=\"black\" points=\"548,-119.529 544.5,-109.529 541,-119.529 548,-119.529\" stroke=\"black\"/>\n",
       "</g>\n",
       "<!-- 140639711077544 -->\n",
       "<g class=\"node\" id=\"node11\"><title>140639711077544</title>\n",
       "<polygon fill=\"none\" points=\"448,-0.5 448,-36.5 641,-36.5 641,-0.5 448,-0.5\" stroke=\"black\"/>\n",
       "<text font-family=\"Times,serif\" font-size=\"14.00\" text-anchor=\"middle\" x=\"544.5\" y=\"-14.8\">activation_8 (Activation)</text>\n",
       "</g>\n",
       "<!-- 140639712465192&#45;&gt;140639711077544 -->\n",
       "<g class=\"edge\" id=\"edge12\"><title>140639712465192-&gt;140639711077544</title>\n",
       "<path d=\"M544.5,-73.3129C544.5,-65.2895 544.5,-55.5475 544.5,-46.5691\" fill=\"none\" stroke=\"black\"/>\n",
       "<polygon fill=\"black\" points=\"548,-46.5288 544.5,-36.5288 541,-46.5289 548,-46.5288\" stroke=\"black\"/>\n",
       "</g>\n",
       "</g>\n",
       "</svg>"
      ],
      "text/plain": [
       "<IPython.core.display.SVG object>"
      ]
     },
     "execution_count": 38,
     "metadata": {},
     "output_type": "execute_result"
    }
   ],
   "source": [
    "from IPython.display import SVG\n",
    "from keras.utils.visualize_util import model_to_dot\n",
    "SVG(model_to_dot(model).create(prog='dot', format='svg'))"
   ]
  },
  {
   "cell_type": "markdown",
   "metadata": {},
   "source": [
    "## 模型输入"
   ]
  },
  {
   "cell_type": "code",
   "execution_count": 39,
   "metadata": {
    "collapsed": false
   },
   "outputs": [
    {
     "name": "stdout",
     "output_type": "stream",
     "text": [
      "<class 'int'>\n"
     ]
    }
   ],
   "source": [
    "print(type(train_y[0]))\n",
    "train_y_model = np_utils.to_categorical(train_y, nb_classes)\n",
    "dev_y_model = np_utils.to_categorical(dev_y, nb_classes)\n",
    "train_X_model = sequence.pad_sequences(train_X, maxlen=max_len)\n",
    "dev_X_model = sequence.pad_sequences(dev_X, maxlen=max_len)"
   ]
  },
  {
   "cell_type": "code",
   "execution_count": 40,
   "metadata": {
    "collapsed": true
   },
   "outputs": [],
   "source": [
    "#test 数据\n",
    "test_index_X= [[word_index[w] if w in word_index else 0 for w in line] for line in test_X]\n",
    "test_X_model = sequence.pad_sequences(test_index_X,maxlen=max_len)\n",
    "test_y_model = np_utils.to_categorical(test_y,nb_classes)"
   ]
  },
  {
   "cell_type": "code",
   "execution_count": 41,
   "metadata": {
    "collapsed": false
   },
   "outputs": [
    {
     "name": "stdout",
     "output_type": "stream",
     "text": [
      "[[ 0.  1.  0.  0.  0.]\n",
      " [ 1.  0.  0.  0.  0.]\n",
      " [ 0.  0.  1.  0.  0.]\n",
      " [ 0.  0.  1.  0.  0.]\n",
      " [ 1.  0.  0.  0.  0.]\n",
      " [ 1.  0.  0.  0.  0.]\n",
      " [ 0.  0.  0.  0.  1.]\n",
      " [ 0.  0.  0.  1.  0.]\n",
      " [ 0.  1.  0.  0.  0.]\n",
      " [ 0.  0.  0.  1.  0.]]\n"
     ]
    }
   ],
   "source": [
    "print(test_y_model[0:10])"
   ]
  },
  {
   "cell_type": "code",
   "execution_count": 42,
   "metadata": {
    "collapsed": true
   },
   "outputs": [],
   "source": [
    "def my_generator(X=None,y=None):\n",
    "    i = 0\n",
    "    max_i = int(len(X)/batch_size)\n",
    "    while True:\n",
    "        i = i % max_i\n",
    "        x_batch = X[i*batch_size:(i+1)*batch_size]\n",
    "        y_batch = y[i*batch_size:(i+1)*batch_size]\n",
    "        yield (x_batch,y_batch)\n",
    "        i = i + 1\n",
    "    "
   ]
  },
  {
   "cell_type": "code",
   "execution_count": 43,
   "metadata": {
    "collapsed": false
   },
   "outputs": [
    {
     "name": "stdout",
     "output_type": "stream",
     "text": [
      "Epoch 1/100\n",
      "3200/3200 [==============================] - 12s - loss: 1.5772 - acc: 0.2684 - val_loss: 1.5833 - val_acc: 0.2312\n",
      "Epoch 2/100\n",
      "3200/3200 [==============================] - 12s - loss: 1.5574 - acc: 0.2881 - val_loss: 1.5716 - val_acc: 0.2462\n",
      "Epoch 3/100\n",
      "3200/3200 [==============================] - 12s - loss: 1.5560 - acc: 0.2969 - val_loss: 1.5553 - val_acc: 0.2982\n",
      "Epoch 4/100\n",
      "3200/3200 [==============================] - 12s - loss: 1.5340 - acc: 0.3156 - val_loss: 1.5520 - val_acc: 0.2923\n",
      "Epoch 5/100\n",
      "3200/3200 [==============================] - 12s - loss: 1.5285 - acc: 0.3225 - val_loss: 1.5315 - val_acc: 0.3186\n",
      "Epoch 6/100\n",
      "3200/3200 [==============================] - 12s - loss: 1.5048 - acc: 0.3297 - val_loss: 1.5244 - val_acc: 0.3172\n",
      "Epoch 7/100\n",
      "3200/3200 [==============================] - 12s - loss: 1.4893 - acc: 0.3431 - val_loss: 1.5135 - val_acc: 0.3244\n",
      "Epoch 8/100\n",
      "3200/3200 [==============================] - 12s - loss: 1.4810 - acc: 0.3569 - val_loss: 1.4956 - val_acc: 0.3303\n",
      "Epoch 9/100\n",
      "3200/3200 [==============================] - 12s - loss: 1.4493 - acc: 0.3694 - val_loss: 1.4830 - val_acc: 0.3330\n",
      "Epoch 10/100\n",
      "3200/3200 [==============================] - 12s - loss: 1.4366 - acc: 0.3784 - val_loss: 1.4719 - val_acc: 0.3321\n",
      "Epoch 11/100\n",
      "3200/3200 [==============================] - 12s - loss: 1.4133 - acc: 0.3900 - val_loss: 1.4518 - val_acc: 0.3434\n",
      "Epoch 12/100\n",
      "3200/3200 [==============================] - 12s - loss: 1.3852 - acc: 0.4069 - val_loss: 1.4457 - val_acc: 0.3457\n",
      "Epoch 13/100\n",
      "3200/3200 [==============================] - 12s - loss: 1.3583 - acc: 0.4312 - val_loss: 1.4174 - val_acc: 0.3765\n",
      "Epoch 14/100\n",
      "3200/3200 [==============================] - 12s - loss: 1.3312 - acc: 0.4397 - val_loss: 1.4120 - val_acc: 0.3692\n",
      "Epoch 15/100\n",
      "3200/3200 [==============================] - 12s - loss: 1.3116 - acc: 0.4528 - val_loss: 1.4046 - val_acc: 0.3729\n",
      "Epoch 16/100\n",
      "3200/3200 [==============================] - 12s - loss: 1.2774 - acc: 0.4700 - val_loss: 1.3802 - val_acc: 0.3968\n",
      "Epoch 17/100\n",
      "3200/3200 [==============================] - 12s - loss: 1.2406 - acc: 0.4859 - val_loss: 1.3638 - val_acc: 0.3995\n",
      "Epoch 18/100\n",
      "3200/3200 [==============================] - 12s - loss: 1.2316 - acc: 0.5069 - val_loss: 1.3629 - val_acc: 0.3932\n",
      "Epoch 19/100\n",
      "3200/3200 [==============================] - 12s - loss: 1.1879 - acc: 0.5150 - val_loss: 1.3441 - val_acc: 0.4109\n",
      "Epoch 20/100\n",
      "3200/3200 [==============================] - 12s - loss: 1.1677 - acc: 0.5250 - val_loss: 1.3452 - val_acc: 0.4000\n",
      "Epoch 21/100\n",
      "3200/3200 [==============================] - 12s - loss: 1.1338 - acc: 0.5466 - val_loss: 1.3215 - val_acc: 0.4195\n",
      "Epoch 22/100\n",
      "3200/3200 [==============================] - 12s - loss: 1.1118 - acc: 0.5484 - val_loss: 1.3249 - val_acc: 0.4127\n",
      "Epoch 23/100\n",
      "3200/3200 [==============================] - 12s - loss: 1.0988 - acc: 0.5687 - val_loss: 1.3323 - val_acc: 0.4081\n",
      "Epoch 24/100\n",
      "3200/3200 [==============================] - 12s - loss: 1.0660 - acc: 0.5750 - val_loss: 1.3159 - val_acc: 0.4163\n",
      "Epoch 25/100\n",
      "3200/3200 [==============================] - 12s - loss: 1.0249 - acc: 0.6125 - val_loss: 1.3092 - val_acc: 0.4195\n",
      "Epoch 26/100\n",
      "3200/3200 [==============================] - 12s - loss: 1.0272 - acc: 0.5969 - val_loss: 1.3124 - val_acc: 0.4195\n",
      "Epoch 27/100\n",
      "3200/3200 [==============================] - 12s - loss: 0.9871 - acc: 0.6256 - val_loss: 1.3129 - val_acc: 0.4253\n",
      "Epoch 28/100\n",
      "3200/3200 [==============================] - 12s - loss: 0.9670 - acc: 0.6497 - val_loss: 1.3188 - val_acc: 0.4262\n",
      "Epoch 29/100\n",
      "3200/3200 [==============================] - 12s - loss: 0.9327 - acc: 0.6534 - val_loss: 1.3017 - val_acc: 0.4204\n",
      "Epoch 30/100\n",
      "3200/3200 [==============================] - 12s - loss: 0.9147 - acc: 0.6675 - val_loss: 1.3154 - val_acc: 0.4199\n",
      "Epoch 31/100\n",
      "3200/3200 [==============================] - 12s - loss: 0.9018 - acc: 0.6809 - val_loss: 1.3224 - val_acc: 0.4204\n",
      "Epoch 32/100\n",
      "3200/3200 [==============================] - 12s - loss: 0.8725 - acc: 0.6844 - val_loss: 1.3212 - val_acc: 0.4131\n",
      "Epoch 33/100\n",
      "3200/3200 [==============================] - 12s - loss: 0.8283 - acc: 0.7197 - val_loss: 1.3230 - val_acc: 0.4158\n",
      "Epoch 34/100\n",
      "3200/3200 [==============================] - 12s - loss: 0.8314 - acc: 0.7153 - val_loss: 1.3233 - val_acc: 0.4131\n",
      "Epoch 35/100\n",
      "3200/3200 [==============================] - 12s - loss: 0.7987 - acc: 0.7225 - val_loss: 1.3242 - val_acc: 0.4195\n",
      "Epoch 36/100\n",
      "3200/3200 [==============================] - 12s - loss: 0.7708 - acc: 0.7537 - val_loss: 1.3540 - val_acc: 0.4204\n",
      "Epoch 37/100\n",
      "3200/3200 [==============================] - 12s - loss: 0.7404 - acc: 0.7606 - val_loss: 1.3335 - val_acc: 0.4149\n",
      "Epoch 38/100\n",
      "3200/3200 [==============================] - 12s - loss: 0.7225 - acc: 0.7656 - val_loss: 1.3518 - val_acc: 0.4195\n",
      "Epoch 39/100\n",
      "3200/3200 [==============================] - 12s - loss: 0.7063 - acc: 0.7844 - val_loss: 1.3700 - val_acc: 0.4127\n",
      "Epoch 40/100\n",
      "3200/3200 [==============================] - 12s - loss: 0.6781 - acc: 0.7916 - val_loss: 1.3709 - val_acc: 0.4181\n",
      "Epoch 41/100\n",
      "3200/3200 [==============================] - 12s - loss: 0.6389 - acc: 0.8075 - val_loss: 1.3776 - val_acc: 0.4154\n",
      "Epoch 42/100\n",
      "3200/3200 [==============================] - 12s - loss: 0.6347 - acc: 0.8147 - val_loss: 1.3896 - val_acc: 0.4158\n",
      "Epoch 43/100\n",
      "3200/3200 [==============================] - 12s - loss: 0.6111 - acc: 0.8184 - val_loss: 1.3847 - val_acc: 0.4154\n",
      "Epoch 44/100\n",
      "3200/3200 [==============================] - 12s - loss: 0.5786 - acc: 0.8350 - val_loss: 1.4063 - val_acc: 0.4036\n",
      "Epoch 45/100\n",
      "3200/3200 [==============================] - 12s - loss: 0.5528 - acc: 0.8506 - val_loss: 1.4021 - val_acc: 0.4104\n",
      "Epoch 46/100\n",
      "3200/3200 [==============================] - 12s - loss: 0.5360 - acc: 0.8538 - val_loss: 1.4370 - val_acc: 0.4086\n",
      "Epoch 47/100\n",
      "3200/3200 [==============================] - 12s - loss: 0.5193 - acc: 0.8563 - val_loss: 1.4451 - val_acc: 0.4131\n",
      "Epoch 48/100\n",
      "3200/3200 [==============================] - 12s - loss: 0.4965 - acc: 0.8728 - val_loss: 1.4550 - val_acc: 0.4032\n",
      "Epoch 49/100\n",
      "3200/3200 [==============================] - 12s - loss: 0.4580 - acc: 0.8806 - val_loss: 1.4652 - val_acc: 0.4122\n",
      "Epoch 50/100\n",
      "3200/3200 [==============================] - 12s - loss: 0.4525 - acc: 0.8831 - val_loss: 1.4822 - val_acc: 0.4127\n",
      "Epoch 51/100\n",
      "3200/3200 [==============================] - 12s - loss: 0.4386 - acc: 0.8897 - val_loss: 1.4740 - val_acc: 0.4109\n",
      "Epoch 52/100\n",
      "3200/3200 [==============================] - 12s - loss: 0.4064 - acc: 0.9012 - val_loss: 1.5020 - val_acc: 0.4050\n",
      "Epoch 53/100\n",
      "3200/3200 [==============================] - 12s - loss: 0.3852 - acc: 0.9084 - val_loss: 1.5019 - val_acc: 0.4045\n",
      "Epoch 54/100\n",
      "3200/3200 [==============================] - 12s - loss: 0.3718 - acc: 0.9119 - val_loss: 1.5530 - val_acc: 0.4018\n",
      "Epoch 55/100\n",
      "3200/3200 [==============================] - 12s - loss: 0.3569 - acc: 0.9159 - val_loss: 1.5511 - val_acc: 0.4068\n",
      "Epoch 56/100\n",
      "3200/3200 [==============================] - 12s - loss: 0.3404 - acc: 0.9256 - val_loss: 1.5705 - val_acc: 0.4009\n",
      "Epoch 57/100\n",
      "3200/3200 [==============================] - 12s - loss: 0.3079 - acc: 0.9294 - val_loss: 1.5692 - val_acc: 0.4081\n",
      "Epoch 58/100\n",
      "3200/3200 [==============================] - 12s - loss: 0.3038 - acc: 0.9394 - val_loss: 1.6020 - val_acc: 0.4063\n",
      "Epoch 59/100\n",
      "3200/3200 [==============================] - 12s - loss: 0.2943 - acc: 0.9325 - val_loss: 1.5965 - val_acc: 0.4059\n",
      "Epoch 60/100\n",
      "3200/3200 [==============================] - 12s - loss: 0.2662 - acc: 0.9475 - val_loss: 1.6128 - val_acc: 0.3910\n",
      "Epoch 61/100\n",
      "3200/3200 [==============================] - 14s - loss: 0.2552 - acc: 0.9472 - val_loss: 1.6349 - val_acc: 0.3855\n",
      "Epoch 62/100\n",
      "1568/3200 [=============>................] - ETA: 9s - loss: 0.2635 - acc: 0.9375"
     ]
    },
    {
     "ename": "KeyboardInterrupt",
     "evalue": "",
     "output_type": "error",
     "traceback": [
      "\u001b[1;31m---------------------------------------------------------------------------\u001b[0m",
      "\u001b[1;31mKeyboardInterrupt\u001b[0m                         Traceback (most recent call last)",
      "\u001b[1;32m<ipython-input-43-35a1beb29423>\u001b[0m in \u001b[0;36m<module>\u001b[1;34m()\u001b[0m\n\u001b[1;32m----> 1\u001b[1;33m \u001b[0mmodel\u001b[0m\u001b[1;33m.\u001b[0m\u001b[0mfit_generator\u001b[0m\u001b[1;33m(\u001b[0m\u001b[0mmy_generator\u001b[0m\u001b[1;33m(\u001b[0m\u001b[0mtrain_X_model\u001b[0m\u001b[1;33m,\u001b[0m\u001b[0mtrain_y_model\u001b[0m\u001b[1;33m)\u001b[0m\u001b[1;33m,\u001b[0m\u001b[0msamples_per_epoch\u001b[0m \u001b[1;33m=\u001b[0m \u001b[1;36m32\u001b[0m\u001b[1;33m*\u001b[0m\u001b[1;36m100\u001b[0m\u001b[1;33m,\u001b[0m\u001b[0mnb_epoch\u001b[0m\u001b[1;33m=\u001b[0m\u001b[1;36m100\u001b[0m\u001b[1;33m,\u001b[0m\u001b[0mverbose\u001b[0m\u001b[1;33m=\u001b[0m\u001b[1;36m1\u001b[0m\u001b[1;33m,\u001b[0m\u001b[0mvalidation_data\u001b[0m\u001b[1;33m=\u001b[0m\u001b[1;33m(\u001b[0m\u001b[0mtest_X_model\u001b[0m\u001b[1;33m,\u001b[0m\u001b[0mtest_y_model\u001b[0m\u001b[1;33m)\u001b[0m\u001b[1;33m)\u001b[0m\u001b[1;33m\u001b[0m\u001b[0m\n\u001b[0m",
      "\u001b[1;32m/home/bruce/anaconda3/lib/python3.5/site-packages/keras/engine/training.py\u001b[0m in \u001b[0;36mfit_generator\u001b[1;34m(self, generator, samples_per_epoch, nb_epoch, verbose, callbacks, validation_data, nb_val_samples, class_weight, max_q_size, nb_worker, pickle_safe)\u001b[0m\n\u001b[0;32m   1441\u001b[0m                     outs = self.train_on_batch(x, y,\n\u001b[0;32m   1442\u001b[0m                                                \u001b[0msample_weight\u001b[0m\u001b[1;33m=\u001b[0m\u001b[0msample_weight\u001b[0m\u001b[1;33m,\u001b[0m\u001b[1;33m\u001b[0m\u001b[0m\n\u001b[1;32m-> 1443\u001b[1;33m                                                class_weight=class_weight)\n\u001b[0m\u001b[0;32m   1444\u001b[0m                 \u001b[1;32mexcept\u001b[0m\u001b[1;33m:\u001b[0m\u001b[1;33m\u001b[0m\u001b[0m\n\u001b[0;32m   1445\u001b[0m                     \u001b[0m_stop\u001b[0m\u001b[1;33m.\u001b[0m\u001b[0mset\u001b[0m\u001b[1;33m(\u001b[0m\u001b[1;33m)\u001b[0m\u001b[1;33m\u001b[0m\u001b[0m\n",
      "\u001b[1;32m/home/bruce/anaconda3/lib/python3.5/site-packages/keras/engine/training.py\u001b[0m in \u001b[0;36mtrain_on_batch\u001b[1;34m(self, x, y, sample_weight, class_weight)\u001b[0m\n\u001b[0;32m   1219\u001b[0m             \u001b[0mins\u001b[0m \u001b[1;33m=\u001b[0m \u001b[0mx\u001b[0m \u001b[1;33m+\u001b[0m \u001b[0my\u001b[0m \u001b[1;33m+\u001b[0m \u001b[0msample_weights\u001b[0m\u001b[1;33m\u001b[0m\u001b[0m\n\u001b[0;32m   1220\u001b[0m         \u001b[0mself\u001b[0m\u001b[1;33m.\u001b[0m\u001b[0m_make_train_function\u001b[0m\u001b[1;33m(\u001b[0m\u001b[1;33m)\u001b[0m\u001b[1;33m\u001b[0m\u001b[0m\n\u001b[1;32m-> 1221\u001b[1;33m         \u001b[0moutputs\u001b[0m \u001b[1;33m=\u001b[0m \u001b[0mself\u001b[0m\u001b[1;33m.\u001b[0m\u001b[0mtrain_function\u001b[0m\u001b[1;33m(\u001b[0m\u001b[0mins\u001b[0m\u001b[1;33m)\u001b[0m\u001b[1;33m\u001b[0m\u001b[0m\n\u001b[0m\u001b[0;32m   1222\u001b[0m         \u001b[1;32mif\u001b[0m \u001b[0mlen\u001b[0m\u001b[1;33m(\u001b[0m\u001b[0moutputs\u001b[0m\u001b[1;33m)\u001b[0m \u001b[1;33m==\u001b[0m \u001b[1;36m1\u001b[0m\u001b[1;33m:\u001b[0m\u001b[1;33m\u001b[0m\u001b[0m\n\u001b[0;32m   1223\u001b[0m             \u001b[1;32mreturn\u001b[0m \u001b[0moutputs\u001b[0m\u001b[1;33m[\u001b[0m\u001b[1;36m0\u001b[0m\u001b[1;33m]\u001b[0m\u001b[1;33m\u001b[0m\u001b[0m\n",
      "\u001b[1;32m/home/bruce/anaconda3/lib/python3.5/site-packages/keras/backend/theano_backend.py\u001b[0m in \u001b[0;36m__call__\u001b[1;34m(self, inputs)\u001b[0m\n\u001b[0;32m    715\u001b[0m     \u001b[1;32mdef\u001b[0m \u001b[0m__call__\u001b[0m\u001b[1;33m(\u001b[0m\u001b[0mself\u001b[0m\u001b[1;33m,\u001b[0m \u001b[0minputs\u001b[0m\u001b[1;33m)\u001b[0m\u001b[1;33m:\u001b[0m\u001b[1;33m\u001b[0m\u001b[0m\n\u001b[0;32m    716\u001b[0m         \u001b[1;32massert\u001b[0m \u001b[0mtype\u001b[0m\u001b[1;33m(\u001b[0m\u001b[0minputs\u001b[0m\u001b[1;33m)\u001b[0m \u001b[1;32min\u001b[0m \u001b[1;33m{\u001b[0m\u001b[0mlist\u001b[0m\u001b[1;33m,\u001b[0m \u001b[0mtuple\u001b[0m\u001b[1;33m}\u001b[0m\u001b[1;33m\u001b[0m\u001b[0m\n\u001b[1;32m--> 717\u001b[1;33m         \u001b[1;32mreturn\u001b[0m \u001b[0mself\u001b[0m\u001b[1;33m.\u001b[0m\u001b[0mfunction\u001b[0m\u001b[1;33m(\u001b[0m\u001b[1;33m*\u001b[0m\u001b[0minputs\u001b[0m\u001b[1;33m)\u001b[0m\u001b[1;33m\u001b[0m\u001b[0m\n\u001b[0m\u001b[0;32m    718\u001b[0m \u001b[1;33m\u001b[0m\u001b[0m\n\u001b[0;32m    719\u001b[0m \u001b[1;33m\u001b[0m\u001b[0m\n",
      "\u001b[1;32m/home/bruce/anaconda3/lib/python3.5/site-packages/theano/compile/function_module.py\u001b[0m in \u001b[0;36m__call__\u001b[1;34m(self, *args, **kwargs)\u001b[0m\n\u001b[0;32m    857\u001b[0m         \u001b[0mt0_fn\u001b[0m \u001b[1;33m=\u001b[0m \u001b[0mtime\u001b[0m\u001b[1;33m.\u001b[0m\u001b[0mtime\u001b[0m\u001b[1;33m(\u001b[0m\u001b[1;33m)\u001b[0m\u001b[1;33m\u001b[0m\u001b[0m\n\u001b[0;32m    858\u001b[0m         \u001b[1;32mtry\u001b[0m\u001b[1;33m:\u001b[0m\u001b[1;33m\u001b[0m\u001b[0m\n\u001b[1;32m--> 859\u001b[1;33m             \u001b[0moutputs\u001b[0m \u001b[1;33m=\u001b[0m \u001b[0mself\u001b[0m\u001b[1;33m.\u001b[0m\u001b[0mfn\u001b[0m\u001b[1;33m(\u001b[0m\u001b[1;33m)\u001b[0m\u001b[1;33m\u001b[0m\u001b[0m\n\u001b[0m\u001b[0;32m    860\u001b[0m         \u001b[1;32mexcept\u001b[0m \u001b[0mException\u001b[0m\u001b[1;33m:\u001b[0m\u001b[1;33m\u001b[0m\u001b[0m\n\u001b[0;32m    861\u001b[0m             \u001b[1;32mif\u001b[0m \u001b[0mhasattr\u001b[0m\u001b[1;33m(\u001b[0m\u001b[0mself\u001b[0m\u001b[1;33m.\u001b[0m\u001b[0mfn\u001b[0m\u001b[1;33m,\u001b[0m \u001b[1;34m'position_of_error'\u001b[0m\u001b[1;33m)\u001b[0m\u001b[1;33m:\u001b[0m\u001b[1;33m\u001b[0m\u001b[0m\n",
      "\u001b[1;32m/home/bruce/anaconda3/lib/python3.5/site-packages/theano/gof/op.py\u001b[0m in \u001b[0;36mrval\u001b[1;34m(p, i, o, n)\u001b[0m\n\u001b[0;32m    909\u001b[0m         \u001b[1;32mif\u001b[0m \u001b[0mparams\u001b[0m \u001b[1;32mis\u001b[0m \u001b[0mgraph\u001b[0m\u001b[1;33m.\u001b[0m\u001b[0mNoParams\u001b[0m\u001b[1;33m:\u001b[0m\u001b[1;33m\u001b[0m\u001b[0m\n\u001b[0;32m    910\u001b[0m             \u001b[1;31m# default arguments are stored in the closure of `rval`\u001b[0m\u001b[1;33m\u001b[0m\u001b[1;33m\u001b[0m\u001b[0m\n\u001b[1;32m--> 911\u001b[1;33m             \u001b[1;32mdef\u001b[0m \u001b[0mrval\u001b[0m\u001b[1;33m(\u001b[0m\u001b[0mp\u001b[0m\u001b[1;33m=\u001b[0m\u001b[0mp\u001b[0m\u001b[1;33m,\u001b[0m \u001b[0mi\u001b[0m\u001b[1;33m=\u001b[0m\u001b[0mnode_input_storage\u001b[0m\u001b[1;33m,\u001b[0m \u001b[0mo\u001b[0m\u001b[1;33m=\u001b[0m\u001b[0mnode_output_storage\u001b[0m\u001b[1;33m,\u001b[0m \u001b[0mn\u001b[0m\u001b[1;33m=\u001b[0m\u001b[0mnode\u001b[0m\u001b[1;33m)\u001b[0m\u001b[1;33m:\u001b[0m\u001b[1;33m\u001b[0m\u001b[0m\n\u001b[0m\u001b[0;32m    912\u001b[0m                 \u001b[0mr\u001b[0m \u001b[1;33m=\u001b[0m \u001b[0mp\u001b[0m\u001b[1;33m(\u001b[0m\u001b[0mn\u001b[0m\u001b[1;33m,\u001b[0m \u001b[1;33m[\u001b[0m\u001b[0mx\u001b[0m\u001b[1;33m[\u001b[0m\u001b[1;36m0\u001b[0m\u001b[1;33m]\u001b[0m \u001b[1;32mfor\u001b[0m \u001b[0mx\u001b[0m \u001b[1;32min\u001b[0m \u001b[0mi\u001b[0m\u001b[1;33m]\u001b[0m\u001b[1;33m,\u001b[0m \u001b[0mo\u001b[0m\u001b[1;33m)\u001b[0m\u001b[1;33m\u001b[0m\u001b[0m\n\u001b[0;32m    913\u001b[0m                 \u001b[1;32mfor\u001b[0m \u001b[0mo\u001b[0m \u001b[1;32min\u001b[0m \u001b[0mnode\u001b[0m\u001b[1;33m.\u001b[0m\u001b[0moutputs\u001b[0m\u001b[1;33m:\u001b[0m\u001b[1;33m\u001b[0m\u001b[0m\n",
      "\u001b[1;31mKeyboardInterrupt\u001b[0m: "
     ]
    }
   ],
   "source": [
    "model.fit_generator(my_generator(train_X_model,train_y_model),samples_per_epoch = 32*100,nb_epoch=100,verbose=1,validation_data=(test_X_model,test_y_model))"
   ]
  },
  {
   "cell_type": "markdown",
   "metadata": {},
   "source": [
    "## 试验记录"
   ]
  },
  {
   "cell_type": "markdown",
   "metadata": {},
   "source": [
    "#### 2016年11月12日 10：16  最佳 0.4015"
   ]
  },
  {
   "cell_type": "markdown",
   "metadata": {},
   "source": [
    "\n",
    "\n",
    "\n",
    "参数\n",
    "\n",
    "max_len = 36 batch_size=32\n",
    "\n",
    "max_features = 14714 embedding_dims = 100\n",
    "\n",
    "nb_filter = 150  filter_length = 2  dense1_hindden = 100  nb_classes = 5"
   ]
  },
  {
   "cell_type": "markdown",
   "metadata": {},
   "source": [
    "####  2016年11月12日 10：22 最佳成绩 0.4069 "
   ]
  },
  {
   "cell_type": "markdown",
   "metadata": {},
   "source": [
    "\n",
    "参数\n",
    "\n",
    "max_len = 36 batch_size=32\n",
    "\n",
    "max_features = 14714 embedding_dims = 50\n",
    "\n",
    "nb_filter = 150  filter_length = 2  dense1_hindden = 100  nb_classes = 5"
   ]
  },
  {
   "cell_type": "markdown",
   "metadata": {},
   "source": [
    "####  2016年11月12日 10：22 最佳成绩  0.4151"
   ]
  },
  {
   "cell_type": "markdown",
   "metadata": {},
   "source": [
    "参数\n",
    "\n",
    "max_len = 36 batch_size=32\n",
    "\n",
    "max_features = 14714 embedding_dims = 150\n",
    "\n",
    "nb_filter = 150 filter_length = 2 dense1_hindden = 100 nb_classes = 5"
   ]
  },
  {
   "cell_type": "markdown",
   "metadata": {},
   "source": [
    "#### 2016年11月12日 10：22 最佳成绩  0.4242 [ 0.4214, 0.4033,0.4024 ,0.4151,0.4242]"
   ]
  },
  {
   "cell_type": "markdown",
   "metadata": {},
   "source": [
    "参数\n",
    "\n",
    "max_len = 36 batch_size=32\n",
    "\n",
    "max_features = 14714 embedding_dims = 200\n",
    "\n",
    "nb_filter = 150 filter_length = 2 dense1_hindden = 100 nb_classes = 5"
   ]
  },
  {
   "cell_type": "code",
   "execution_count": 5,
   "metadata": {
    "collapsed": true
   },
   "outputs": [],
   "source": [
    "from keras.models import Sequential\n",
    "from keras.layers import LSTM, Dense\n",
    "import numpy as np\n",
    "\n",
    "data_dim = 16\n",
    "timesteps = 8\n",
    "nb_classes = 10\n",
    "\n",
    "# expected input data shape: (batch_size, timesteps, data_dim)\n",
    "model = Sequential()\n",
    "model.add(LSTM(32, return_sequences=True,\n",
    "               input_shape=(timesteps, data_dim)))  # returns a sequence of vectors of dimension 32\n",
    "model.add(LSTM(32, return_sequences=True))  # returns a sequence of vectors of dimension 32\n",
    "model.add(LSTM(32))  # return a single vector of dimension 32\n",
    "model.add(Dense(10, activation='softmax'))\n",
    "\n",
    "model.compile(loss='categorical_crossentropy',\n",
    "              optimizer='rmsprop',\n",
    "              metrics=['accuracy'])\n"
   ]
  },
  {
   "cell_type": "code",
   "execution_count": null,
   "metadata": {
    "collapsed": false
   },
   "outputs": [],
   "source": []
  },
  {
   "cell_type": "code",
   "execution_count": null,
   "metadata": {
    "collapsed": true
   },
   "outputs": [],
   "source": []
  }
 ],
 "metadata": {
  "anaconda-cloud": {},
  "kernelspec": {
   "display_name": "Python [Root]",
   "language": "python",
   "name": "Python [Root]"
  },
  "language_info": {
   "codemirror_mode": {
    "name": "ipython",
    "version": 3
   },
   "file_extension": ".py",
   "mimetype": "text/x-python",
   "name": "python",
   "nbconvert_exporter": "python",
   "pygments_lexer": "ipython3",
   "version": "3.5.2"
  }
 },
 "nbformat": 4,
 "nbformat_minor": 0
}
