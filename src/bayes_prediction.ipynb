{
 "cells": [
  {
   "cell_type": "code",
   "execution_count": 9,
   "metadata": {
    "collapsed": false
   },
   "outputs": [],
   "source": [
    "from os.path import join\n",
    "import jieba\n",
    "import pickle\n",
    "from sklearn.feature_extraction.text import CountVectorizer\n",
    "from sklearn.naive_bayes import MultinomialNB,BernoulliNB,GaussianNB\n",
    "import numpy as np\n",
    "def get_train_data(path=''):\n",
    "    X=[]\n",
    "    y=[]\n",
    "    with open(join(path,'pos.txt'),'r') as fr:\n",
    "        for line in fr.readlines():\n",
    "            X.append(' '.join(jieba.cut(line,cut_all=False)))\n",
    "            y.append(1)\n",
    "    with open(join(path,'neg.txt'),'r') as fr:\n",
    "        for line in fr.readlines():\n",
    "            X.append(' '.join(jieba.cut(line,cut_all=False)))\n",
    "            y.append(0)\n",
    "    return X,y\n",
    "\n",
    "def bagOfWord(X):\n",
    "    vectorizer = CountVectorizer(min_df=8, token_pattern=r\"(?u)\\b\\w+\\b\")\n",
    "    X = vectorizer.fit_transform(X)\n",
    "    with open('./model/vectorizer.pkl','wb') as fr:\n",
    "        print('save text vectorizer to ./model/')\n",
    "        pickle.dump(vectorizer,fr)\n",
    "    return X\n",
    "\n",
    "def train_model(X=[],y=[],model=''):\n",
    "    if model == 'GaussianNB':\n",
    "        bayes = GaussianNB()\n",
    "    elif model == 'Bernoulli':\n",
    "        bayes = BernoulliNB()\n",
    "    else:\n",
    "        bayes = MultinomialNB()\n",
    "    bayes.fit(X, y)\n",
    "    print('saving bayes model to ./model')\n",
    "    with open('./model/bayes.pkl','wb') as fr:\n",
    "        pickle.dump(bayes,fr)\n",
    "\n",
    "def train(train_path='',):\n",
    "    X,y = get_train_data(path=train_path)\n",
    "    X = bagOfWord(X)\n",
    "    train_model(X,y)\n",
    "def predict_sentence(s=''):\n",
    "    with open('/home/bruce/model/vectorizer.pkl','rb') as f:\n",
    "        vectorizer = pickle.load(f,encoding='latin1')\n",
    "    with open('/home/bruce/model/bayes.pkl','rb') as f:\n",
    "        bayes = pickle.load(f,encoding='latin1')\n",
    "    s =[' '.join(jieba.cut(s, cut_all=False))]\n",
    "    x = vectorizer.transform(s)\n",
    "    predict = bayes.predict(x)\n",
    "    print(predict)\n",
    "    if predict ==1:\n",
    "        print('positive')\n",
    "    else:\n",
    "        print('negtive')\n",
    "#train(train_path = 'G:\\\\code\\\\DLNLP\\\\src\\\\data')\n"
   ]
  },
  {
   "cell_type": "code",
   "execution_count": 11,
   "metadata": {
    "collapsed": false
   },
   "outputs": [
    {
     "name": "stdout",
     "output_type": "stream",
     "text": [
      "[0]\n",
      "negtive\n"
     ]
    }
   ],
   "source": [
    "predict_sentence('这个东西感觉太贵了，我很不满意')"
   ]
  },
  {
   "cell_type": "code",
   "execution_count": null,
   "metadata": {
    "collapsed": true
   },
   "outputs": [],
   "source": []
  }
 ],
 "metadata": {
  "kernelspec": {
   "display_name": "Python [Root]",
   "language": "python",
   "name": "Python [Root]"
  },
  "language_info": {
   "codemirror_mode": {
    "name": "ipython",
    "version": 3
   },
   "file_extension": ".py",
   "mimetype": "text/x-python",
   "name": "python",
   "nbconvert_exporter": "python",
   "pygments_lexer": "ipython3",
   "version": "3.5.2"
  }
 },
 "nbformat": 4,
 "nbformat_minor": 0
}
