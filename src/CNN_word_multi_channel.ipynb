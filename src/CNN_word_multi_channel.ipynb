{
 "cells": [
  {
   "cell_type": "markdown",
   "metadata": {},
   "source": [
    "<center><h1>CNN 多通道情感分析</h1></center>"
   ]
  },
  {
   "cell_type": "markdown",
   "metadata": {},
   "source": [
    "一个有三个通道，分别是word embedding，POS 标签 embedding, 词的情感极性强度embedding"
   ]
  },
  {
   "cell_type": "code",
   "execution_count": 28,
   "metadata": {
    "collapsed": false
   },
   "outputs": [],
   "source": [
    "import keras \n",
    "from  os.path import join\n",
    "from keras.preprocessing import sequence\n",
    "from keras.models import Sequential\n",
    "from keras.layers import Dense, Dropout,Activation, Lambda,Input\n",
    "from keras.layers import Embedding\n",
    "from keras.layers import Convolution1D\n",
    "from keras.datasets import imdb\n",
    "from keras import backend as K\n",
    "from keras.layers import Convolution1D, GlobalMaxPooling1D,Convolution2D,Merge,merge\n",
    "from keras.utils import np_utils\n",
    "from keras.models import Model\n",
    "import nltk\n",
    "from nltk.tag import pos_tag"
   ]
  },
  {
   "cell_type": "markdown",
   "metadata": {},
   "source": [
    "## POS当作一个通道。\n"
   ]
  },
  {
   "cell_type": "markdown",
   "metadata": {},
   "source": [
    "Tag word 的方法： http://www.nltk.org/book/ch05.html"
   ]
  },
  {
   "cell_type": "code",
   "execution_count": 13,
   "metadata": {
    "collapsed": false
   },
   "outputs": [
    {
     "name": "stdout",
     "output_type": "stream",
     "text": [
      "8544\n",
      "2210\n",
      "1101\n",
      "[['a', 'stirring', ',', 'funny', 'and', 'finally', 'transport', 're-imagining', 'of', 'beauty', 'and', 'the', 'beast', 'and', '1930s', 'horror', 'film'], ['apparently', 'reassemble', 'from', 'the', 'cutting-room', 'floor', 'of', 'any', 'give', 'daytime', 'soap', '.']]\n",
      "[4, 1]\n"
     ]
    }
   ],
   "source": [
    "file_names = ['stsa.fine.test','stsa.fine.train','stsa.fine.dev']\n",
    "file_path = '/home/bruce/data/sentiment/citai_process'\n",
    "def read_file(fname=''):\n",
    "    with open(join(file_path,fname)) as fr:\n",
    "        lines = fr.readlines()\n",
    "    lines = [line.strip().lower() for line in lines]\n",
    "    lables = [int(line[0:1]) for line in lines]\n",
    "    words = [line[2:].split() for line in lines]\n",
    "    return words,lables       \n",
    "train_X,train_y = read_file(fname='stsa.fine.train')\n",
    "test_X,test_y = read_file(fname='stsa.fine.test')\n",
    "dev_X,dev_y = read_file(fname='stsa.fine.dev')\n",
    "print(len(train_X))\n",
    "print(len(test_X))\n",
    "print(len(dev_X))\n",
    "print(train_X[0:2])\n",
    "print(train_y[0:2])\n"
   ]
  },
  {
   "cell_type": "code",
   "execution_count": 14,
   "metadata": {
    "collapsed": false
   },
   "outputs": [],
   "source": [
    "def tag_sentence(X=[]):\n",
    "    tag_X=[]\n",
    "    for line in X:\n",
    "        word_tag = pos_tag(line,tagset='universal')\n",
    "        tag = [i[1] for i in word_tag]\n",
    "        tag_X.append(tag)\n",
    "    return tag_X\n",
    "train_tag_X = tag_sentence(X=train_X)\n",
    "dev_tag_X = tag_sentence(X=dev_X)\n",
    "print(train_X[0])\n",
    "print(train_tag_X[0])"
   ]
  },
  {
   "cell_type": "markdown",
   "metadata": {},
   "source": [
    "## 情感极性当作一个通道。\n"
   ]
  },
  {
   "cell_type": "markdown",
   "metadata": {
    "collapsed": true
   },
   "source": [
    "#### 读取情感强度文件，构建字典"
   ]
  },
  {
   "cell_type": "code",
   "execution_count": 16,
   "metadata": {
    "collapsed": false
   },
   "outputs": [
    {
     "name": "stdout",
     "output_type": "stream",
     "text": [
      "sentiment number = 18540\n"
     ]
    }
   ],
   "source": [
    "senti_file = '/home/bruce/data/sentiment/sentiment_diction/wordwithStrength.txt'\n",
    "def construct_senti_dict(senti_file=''):\n",
    "    with open(senti_file) as fr:\n",
    "        lines = fr.readlines()\n",
    "    lines = [line.strip().split() for line in lines]\n",
    "    lines = [(i[0],float(i[1])) for i in lines]\n",
    "    return dict(lines)\n",
    "sentiment_dict=construct_senti_dict(senti_file)\n",
    "print('sentiment number =',len(sentiment_dict))"
   ]
  },
  {
   "cell_type": "markdown",
   "metadata": {},
   "source": [
    "#### 构建情感极性强度通道"
   ]
  },
  {
   "cell_type": "code",
   "execution_count": 17,
   "metadata": {
    "collapsed": false
   },
   "outputs": [
    {
     "name": "stdout",
     "output_type": "stream",
     "text": [
      "[['0', '+4', '0', '0', '0', '0', '0', '0', '0', '+2', '0', '0', '-5', '0', '0', '-2', '0'], ['+5', '0', '0', '0', '0', '0', '0', '0', '0', '0', '0', '0'], ['0', '-5', '0', '0', '0', '0', '0', '0', '0', '0', '0', '0', '0', '0', '+6', '-2', '0', '+2', '0', '0', '-3', '0', '0', '0', '-5', '0', '0', '0', '0', '0', '0', '0', '-2', '0', '0'], ['0', '0', '0', '0', '0', '0', '0', '0', '0', '0'], ['0', '0', '0', '+5', '-2', '0', '+2', '+3', '0', '0', '0', '0', '0', '0', '-3', '0', '+2', '0', '0', '0']]\n",
      "[['a', 'stirring', ',', 'funny', 'and', 'finally', 'transport', 're-imagining', 'of', 'beauty', 'and', 'the', 'beast', 'and', '1930s', 'horror', 'film'], ['apparently', 'reassemble', 'from', 'the', 'cutting-room', 'floor', 'of', 'any', 'give', 'daytime', 'soap', '.'], ['they', 'presume', 'their', 'audience', 'wo', \"n't\", 'sit', 'still', 'for', 'a', 'sociology', 'lesson', ',', 'however', 'entertainingly', 'present', ',', 'so', 'they', 'trot', 'out', 'the', 'conventional', 'science-fiction', 'element', 'of', 'bug-eyed', 'monster', 'and', 'futuristic', 'woman', 'in', 'skimpy', 'clothes', '.'], ['the', 'entire', 'movie', 'be', 'fill', 'with', 'deja', 'vu', 'moment', '.'], ['this', 'be', 'a', 'visually', 'stunning', 'rumination', 'on', 'love', ',', 'memory', ',', 'history', 'and', 'the', 'war', 'between', 'art', 'and', 'commerce', '.']]\n",
      "[4, 1, 1, 2, 3]\n"
     ]
    }
   ],
   "source": [
    "def sentiment_strength(X=[],sentiment_dict=sentiment_dict):\n",
    "    sentiment_X = [[sentiment_dict[w] if w in sentiment_dict else 0 for w in line ]for line in X]\n",
    "    sentiment_X = [[ str(int(val*10)) if val <=0 else  '+'+str(int(val*10)) for val in line] for line in sentiment_X]\n",
    "    return sentiment_X\n",
    "train_sentiment_X = sentiment_strength(X=train_X,sentiment_dict=sentiment_dict)\n",
    "dev_sentiment_X = sentiment_strength(X=dev_X,sentiment_dict=sentiment_dict)\n",
    "\n",
    "assert len(train_sentiment_X) == len(train_X) \n",
    "print(train_sentiment_X[0:5])\n",
    "print(train_X[0:5])    \n",
    "print(train_y[0:5])\n"
   ]
  },
  {
   "cell_type": "markdown",
   "metadata": {},
   "source": [
    "## 否定词。"
   ]
  },
  {
   "cell_type": "markdown",
   "metadata": {},
   "source": [
    "1.资料：http://web.stanford.edu/~cgpotts/papers/potts-salt20-negation.pdf\n",
    "\n",
    "2.Negation handing in NLP  http://stackoverflow.com/questions/28720174/negation-handling-in-nlp"
   ]
  },
  {
   "cell_type": "code",
   "execution_count": null,
   "metadata": {
    "collapsed": true
   },
   "outputs": [],
   "source": []
  },
  {
   "cell_type": "markdown",
   "metadata": {},
   "source": [
    "#### 数据预处理"
   ]
  },
  {
   "cell_type": "code",
   "execution_count": 18,
   "metadata": {
    "collapsed": false
   },
   "outputs": [
    {
     "name": "stdout",
     "output_type": "stream",
     "text": [
      "leng of word_index = 14525\n",
      "length of dict_index =  14525\n"
     ]
    }
   ],
   "source": [
    "def token_to_index(datas=[]):\n",
    "    word_index={}\n",
    "    count=1\n",
    "    for data in datas:\n",
    "        for list_ in data:\n",
    "            for w in list_:\n",
    "                if w not in word_index:\n",
    "                    word_index[w] = count\n",
    "                    count = count + 1\n",
    "    print('leng of word_index =',len(word_index))\n",
    "    for i in range(len(datas)):\n",
    "        datas[i] = [[ word_index[w] for w in line ] for line in datas[i]] \n",
    "    return datas,word_index\n",
    "X,word_index = token_to_index(datas=[train_X,dev_X,train_sentiment_X,train_tag_X,dev_sentiment_X,dev_tag_X])\n",
    "train_X,dev_X,train_sentiment_X,train_tag_X,dev_sentiment_X,dev_tag_X = X\n",
    "\n",
    "print('length of dict_index = ',len(word_index))\n"
   ]
  },
  {
   "cell_type": "code",
   "execution_count": 19,
   "metadata": {
    "collapsed": false
   },
   "outputs": [
    {
     "name": "stdout",
     "output_type": "stream",
     "text": [
      "[[14498, 14499, 14498, 14498, 14498, 14498, 14498, 14498, 14498, 14500, 14498, 14498, 14501, 14498, 14498, 14502, 14498], [14503, 14498, 14498, 14498, 14498, 14498, 14498, 14498, 14498, 14498, 14498, 14498]]\n",
      "[[1, 2, 3, 4, 5, 6, 7, 8, 9, 10, 5, 11, 12, 5, 13, 14, 15], [16, 17, 18, 11, 19, 20, 9, 21, 22, 23, 24, 25]]\n",
      "[4, 1]\n"
     ]
    }
   ],
   "source": [
    "print(train_sentiment_X[0:2])\n",
    "print(train_X[0:2])    \n",
    "print(train_y[0:2])"
   ]
  },
  {
   "cell_type": "markdown",
   "metadata": {},
   "source": [
    "## 构建模型"
   ]
  },
  {
   "cell_type": "markdown",
   "metadata": {},
   "source": [
    "#### 模型参数"
   ]
  },
  {
   "cell_type": "code",
   "execution_count": 56,
   "metadata": {
    "collapsed": true
   },
   "outputs": [],
   "source": [
    "max_len = 36\n",
    "batch_size=32\n",
    "\n",
    "max_features= 14526\n",
    "embedding_dims=200\n",
    "\n",
    "nb_filter = 150\n",
    "filter_length = 2\n",
    "dense1_hindden = 150*2\n",
    "nb_classes = 5"
   ]
  },
  {
   "cell_type": "markdown",
   "metadata": {},
   "source": [
    "## 错误记录"
   ]
  },
  {
   "cell_type": "markdown",
   "metadata": {},
   "source": [
    "1.输入的变量和后面同名"
   ]
  },
  {
   "cell_type": "code",
   "execution_count": 57,
   "metadata": {
    "collapsed": false
   },
   "outputs": [
    {
     "name": "stdout",
     "output_type": "stream",
     "text": [
      "Build model...\n",
      "Join.0\n",
      "finish build model\n"
     ]
    }
   ],
   "source": [
    "print('Build model...')\n",
    "input1 = Input(shape=(max_len,), dtype='int32', name='main_input1')\n",
    "input2 = Input(shape=(max_len,), dtype='int32', name='main_input2')\n",
    "input3 = Input(shape=(max_len,), dtype='int32', name='main_input3')\n",
    "\n",
    "embedding = Embedding(output_dim=embedding_dims, input_dim=max_features)\n",
    "embedding1 = embedding(input1)\n",
    "embedding2 = embedding(input2)\n",
    "embedding3 = embedding(input3)\n",
    "\n",
    "conv1 = Convolution1D(nb_filter = nb_filter,\n",
    "                        filter_length = filter_length,\n",
    "                        border_mode = 'valid',\n",
    "                        activation='relu',\n",
    "                        subsample_length = 1\n",
    "                       )(embedding1)\n",
    "conv2 = Convolution1D(nb_filter = nb_filter,\n",
    "                        filter_length = filter_length,\n",
    "                        border_mode = 'valid',\n",
    "                        activation='relu',\n",
    "                        subsample_length = 1\n",
    "                       )(embedding2)\n",
    "conv3 = Convolution1D(nb_filter = nb_filter,\n",
    "                        filter_length = filter_length,\n",
    "                        border_mode = 'valid',\n",
    "                        activation='relu',\n",
    "                        subsample_length = 1\n",
    "                       )(embedding3)\n",
    "\n",
    "conv11 = GlobalMaxPooling1D()(conv1)\n",
    "conv12 = GlobalMaxPooling1D()(conv2)\n",
    "conv13 = GlobalMaxPooling1D()(conv3)\n",
    "merged_vector = merge([conv11,conv12,conv13], mode='concat')\n",
    "\n",
    "\n",
    "dens1 = Dense(dense1_hindden)(merged_vector)\n",
    "dens1 = Dropout(0.2)(dens1)\n",
    "dens1 = Activation('relu')(dens1)\n",
    "\n",
    "dens2 = Dense(nb_classes)(dens1)\n",
    "output = Activation('softmax')(dens2)\n",
    "model = Model(input=[input1,input2,input3],output=output)\n",
    "\n",
    "print('finish build model')\n",
    "model.compile(optimizer='adadelta',\n",
    "              loss='categorical_crossentropy',\n",
    "              metrics=['accuracy'])"
   ]
  },
  {
   "cell_type": "markdown",
   "metadata": {},
   "source": [
    "## 模型图"
   ]
  },
  {
   "cell_type": "code",
   "execution_count": 58,
   "metadata": {
    "collapsed": false
   },
   "outputs": [
    {
     "data": {
      "image/svg+xml": [
       "<svg height=\"702pt\" viewBox=\"0.00 0.00 1097.00 702.00\" width=\"1097pt\" xmlns=\"http://www.w3.org/2000/svg\" xmlns:xlink=\"http://www.w3.org/1999/xlink\">\n",
       "<g class=\"graph\" id=\"graph0\" transform=\"scale(1 1) rotate(0) translate(4 698)\">\n",
       "<title>G</title>\n",
       "<polygon fill=\"white\" points=\"-4,4 -4,-698 1093,-698 1093,4 -4,4\" stroke=\"none\"/>\n",
       "<!-- 140047262492544 -->\n",
       "<g class=\"node\" id=\"node1\"><title>140047262492544</title>\n",
       "<polygon fill=\"none\" points=\"225,-657.5 225,-693.5 426,-693.5 426,-657.5 225,-657.5\" stroke=\"black\"/>\n",
       "<text font-family=\"Times,serif\" font-size=\"14.00\" text-anchor=\"middle\" x=\"325.5\" y=\"-671.8\">main_input1 (InputLayer)</text>\n",
       "</g>\n",
       "<!-- 140047262493720 -->\n",
       "<g class=\"node\" id=\"node4\"><title>140047262493720</title>\n",
       "<polygon fill=\"none\" points=\"435.5,-584.5 435.5,-620.5 653.5,-620.5 653.5,-584.5 435.5,-584.5\" stroke=\"black\"/>\n",
       "<text font-family=\"Times,serif\" font-size=\"14.00\" text-anchor=\"middle\" x=\"544.5\" y=\"-598.8\">embedding_10 (Embedding)</text>\n",
       "</g>\n",
       "<!-- 140047262492544&#45;&gt;140047262493720 -->\n",
       "<g class=\"edge\" id=\"edge1\"><title>140047262492544-&gt;140047262493720</title>\n",
       "<path d=\"M377.956,-657.494C409.283,-647.338 449.252,-634.379 482.182,-623.704\" fill=\"none\" stroke=\"black\"/>\n",
       "<polygon fill=\"black\" points=\"483.28,-627.027 491.713,-620.614 481.121,-620.368 483.28,-627.027\" stroke=\"black\"/>\n",
       "</g>\n",
       "<!-- 140047262492656 -->\n",
       "<g class=\"node\" id=\"node2\"><title>140047262492656</title>\n",
       "<polygon fill=\"none\" points=\"444,-657.5 444,-693.5 645,-693.5 645,-657.5 444,-657.5\" stroke=\"black\"/>\n",
       "<text font-family=\"Times,serif\" font-size=\"14.00\" text-anchor=\"middle\" x=\"544.5\" y=\"-671.8\">main_input2 (InputLayer)</text>\n",
       "</g>\n",
       "<!-- 140047262492656&#45;&gt;140047262493720 -->\n",
       "<g class=\"edge\" id=\"edge2\"><title>140047262492656-&gt;140047262493720</title>\n",
       "<path d=\"M544.5,-657.313C544.5,-649.289 544.5,-639.547 544.5,-630.569\" fill=\"none\" stroke=\"black\"/>\n",
       "<polygon fill=\"black\" points=\"548,-630.529 544.5,-620.529 541,-630.529 548,-630.529\" stroke=\"black\"/>\n",
       "</g>\n",
       "<!-- 140047262492600 -->\n",
       "<g class=\"node\" id=\"node3\"><title>140047262492600</title>\n",
       "<polygon fill=\"none\" points=\"663,-657.5 663,-693.5 864,-693.5 864,-657.5 663,-657.5\" stroke=\"black\"/>\n",
       "<text font-family=\"Times,serif\" font-size=\"14.00\" text-anchor=\"middle\" x=\"763.5\" y=\"-671.8\">main_input3 (InputLayer)</text>\n",
       "</g>\n",
       "<!-- 140047262492600&#45;&gt;140047262493720 -->\n",
       "<g class=\"edge\" id=\"edge3\"><title>140047262492600-&gt;140047262493720</title>\n",
       "<path d=\"M711.044,-657.494C679.717,-647.338 639.748,-634.379 606.818,-623.704\" fill=\"none\" stroke=\"black\"/>\n",
       "<polygon fill=\"black\" points=\"607.879,-620.368 597.287,-620.614 605.72,-627.027 607.879,-620.368\" stroke=\"black\"/>\n",
       "</g>\n",
       "<!-- 140047258560496 -->\n",
       "<g class=\"node\" id=\"node5\"><title>140047258560496</title>\n",
       "<polygon fill=\"none\" points=\"86,-511.5 86,-547.5 351,-547.5 351,-511.5 86,-511.5\" stroke=\"black\"/>\n",
       "<text font-family=\"Times,serif\" font-size=\"14.00\" text-anchor=\"middle\" x=\"218.5\" y=\"-525.8\">convolution1d_22 (Convolution1D)</text>\n",
       "</g>\n",
       "<!-- 140047262493720&#45;&gt;140047258560496 -->\n",
       "<g class=\"edge\" id=\"edge4\"><title>140047262493720-&gt;140047258560496</title>\n",
       "<path d=\"M466.415,-584.494C418.293,-574.013 356.471,-560.549 306.602,-549.688\" fill=\"none\" stroke=\"black\"/>\n",
       "<polygon fill=\"black\" points=\"307.311,-546.26 296.795,-547.552 305.821,-553.1 307.311,-546.26\" stroke=\"black\"/>\n",
       "</g>\n",
       "<!-- 140047258560608 -->\n",
       "<g class=\"node\" id=\"node6\"><title>140047258560608</title>\n",
       "<polygon fill=\"none\" points=\"412,-511.5 412,-547.5 677,-547.5 677,-511.5 412,-511.5\" stroke=\"black\"/>\n",
       "<text font-family=\"Times,serif\" font-size=\"14.00\" text-anchor=\"middle\" x=\"544.5\" y=\"-525.8\">convolution1d_23 (Convolution1D)</text>\n",
       "</g>\n",
       "<!-- 140047262493720&#45;&gt;140047258560608 -->\n",
       "<g class=\"edge\" id=\"edge5\"><title>140047262493720-&gt;140047258560608</title>\n",
       "<path d=\"M544.5,-584.313C544.5,-576.289 544.5,-566.547 544.5,-557.569\" fill=\"none\" stroke=\"black\"/>\n",
       "<polygon fill=\"black\" points=\"548,-557.529 544.5,-547.529 541,-557.529 548,-557.529\" stroke=\"black\"/>\n",
       "</g>\n",
       "<!-- 140047262129792 -->\n",
       "<g class=\"node\" id=\"node7\"><title>140047262129792</title>\n",
       "<polygon fill=\"none\" points=\"738,-511.5 738,-547.5 1003,-547.5 1003,-511.5 738,-511.5\" stroke=\"black\"/>\n",
       "<text font-family=\"Times,serif\" font-size=\"14.00\" text-anchor=\"middle\" x=\"870.5\" y=\"-525.8\">convolution1d_24 (Convolution1D)</text>\n",
       "</g>\n",
       "<!-- 140047262493720&#45;&gt;140047262129792 -->\n",
       "<g class=\"edge\" id=\"edge6\"><title>140047262493720-&gt;140047262129792</title>\n",
       "<path d=\"M622.585,-584.494C670.707,-574.013 732.529,-560.549 782.398,-549.688\" fill=\"none\" stroke=\"black\"/>\n",
       "<polygon fill=\"black\" points=\"783.179,-553.1 792.205,-547.552 781.689,-546.26 783.179,-553.1\" stroke=\"black\"/>\n",
       "</g>\n",
       "<!-- 140047259848264 -->\n",
       "<g class=\"node\" id=\"node8\"><title>140047259848264</title>\n",
       "<polygon fill=\"none\" points=\"0,-438.5 0,-474.5 351,-474.5 351,-438.5 0,-438.5\" stroke=\"black\"/>\n",
       "<text font-family=\"Times,serif\" font-size=\"14.00\" text-anchor=\"middle\" x=\"175.5\" y=\"-452.8\">globalmaxpooling1d_26 (GlobalMaxPooling1D)</text>\n",
       "</g>\n",
       "<!-- 140047258560496&#45;&gt;140047259848264 -->\n",
       "<g class=\"edge\" id=\"edge7\"><title>140047258560496-&gt;140047259848264</title>\n",
       "<path d=\"M208.091,-511.313C202.968,-502.853 196.687,-492.484 191.012,-483.112\" fill=\"none\" stroke=\"black\"/>\n",
       "<polygon fill=\"black\" points=\"193.987,-481.269 185.813,-474.529 188,-484.896 193.987,-481.269\" stroke=\"black\"/>\n",
       "</g>\n",
       "<!-- 140047251270680 -->\n",
       "<g class=\"node\" id=\"node9\"><title>140047251270680</title>\n",
       "<polygon fill=\"none\" points=\"369,-438.5 369,-474.5 720,-474.5 720,-438.5 369,-438.5\" stroke=\"black\"/>\n",
       "<text font-family=\"Times,serif\" font-size=\"14.00\" text-anchor=\"middle\" x=\"544.5\" y=\"-452.8\">globalmaxpooling1d_27 (GlobalMaxPooling1D)</text>\n",
       "</g>\n",
       "<!-- 140047258560608&#45;&gt;140047251270680 -->\n",
       "<g class=\"edge\" id=\"edge8\"><title>140047258560608-&gt;140047251270680</title>\n",
       "<path d=\"M544.5,-511.313C544.5,-503.289 544.5,-493.547 544.5,-484.569\" fill=\"none\" stroke=\"black\"/>\n",
       "<polygon fill=\"black\" points=\"548,-484.529 544.5,-474.529 541,-484.529 548,-484.529\" stroke=\"black\"/>\n",
       "</g>\n",
       "<!-- 140047251271352 -->\n",
       "<g class=\"node\" id=\"node10\"><title>140047251271352</title>\n",
       "<polygon fill=\"none\" points=\"738,-438.5 738,-474.5 1089,-474.5 1089,-438.5 738,-438.5\" stroke=\"black\"/>\n",
       "<text font-family=\"Times,serif\" font-size=\"14.00\" text-anchor=\"middle\" x=\"913.5\" y=\"-452.8\">globalmaxpooling1d_28 (GlobalMaxPooling1D)</text>\n",
       "</g>\n",
       "<!-- 140047262129792&#45;&gt;140047251271352 -->\n",
       "<g class=\"edge\" id=\"edge9\"><title>140047262129792-&gt;140047251271352</title>\n",
       "<path d=\"M880.909,-511.313C886.032,-502.853 892.313,-492.484 897.988,-483.112\" fill=\"none\" stroke=\"black\"/>\n",
       "<polygon fill=\"black\" points=\"901,-484.896 903.187,-474.529 895.013,-481.269 901,-484.896\" stroke=\"black\"/>\n",
       "</g>\n",
       "<!-- 140047257258248 -->\n",
       "<g class=\"node\" id=\"node11\"><title>140047257258248</title>\n",
       "<polygon fill=\"none\" points=\"474,-365.5 474,-401.5 615,-401.5 615,-365.5 474,-365.5\" stroke=\"black\"/>\n",
       "<text font-family=\"Times,serif\" font-size=\"14.00\" text-anchor=\"middle\" x=\"544.5\" y=\"-379.8\">merge_9 (Merge)</text>\n",
       "</g>\n",
       "<!-- 140047259848264&#45;&gt;140047257258248 -->\n",
       "<g class=\"edge\" id=\"edge10\"><title>140047259848264-&gt;140047257258248</title>\n",
       "<path d=\"M263.885,-438.494C324.653,-426.801 404.722,-411.395 463.773,-400.033\" fill=\"none\" stroke=\"black\"/>\n",
       "<polygon fill=\"black\" points=\"464.644,-403.43 473.802,-398.103 463.321,-396.556 464.644,-403.43\" stroke=\"black\"/>\n",
       "</g>\n",
       "<!-- 140047251270680&#45;&gt;140047257258248 -->\n",
       "<g class=\"edge\" id=\"edge11\"><title>140047251270680-&gt;140047257258248</title>\n",
       "<path d=\"M544.5,-438.313C544.5,-430.289 544.5,-420.547 544.5,-411.569\" fill=\"none\" stroke=\"black\"/>\n",
       "<polygon fill=\"black\" points=\"548,-411.529 544.5,-401.529 541,-411.529 548,-411.529\" stroke=\"black\"/>\n",
       "</g>\n",
       "<!-- 140047251271352&#45;&gt;140047257258248 -->\n",
       "<g class=\"edge\" id=\"edge12\"><title>140047251271352-&gt;140047257258248</title>\n",
       "<path d=\"M825.115,-438.494C764.347,-426.801 684.278,-411.395 625.227,-400.033\" fill=\"none\" stroke=\"black\"/>\n",
       "<polygon fill=\"black\" points=\"625.679,-396.556 615.198,-398.103 624.356,-403.43 625.679,-396.556\" stroke=\"black\"/>\n",
       "</g>\n",
       "<!-- 140047257256904 -->\n",
       "<g class=\"node\" id=\"node12\"><title>140047257256904</title>\n",
       "<polygon fill=\"none\" points=\"473,-292.5 473,-328.5 616,-328.5 616,-292.5 473,-292.5\" stroke=\"black\"/>\n",
       "<text font-family=\"Times,serif\" font-size=\"14.00\" text-anchor=\"middle\" x=\"544.5\" y=\"-306.8\">dense_13 (Dense)</text>\n",
       "</g>\n",
       "<!-- 140047257258248&#45;&gt;140047257256904 -->\n",
       "<g class=\"edge\" id=\"edge13\"><title>140047257258248-&gt;140047257256904</title>\n",
       "<path d=\"M544.5,-365.313C544.5,-357.289 544.5,-347.547 544.5,-338.569\" fill=\"none\" stroke=\"black\"/>\n",
       "<polygon fill=\"black\" points=\"548,-338.529 544.5,-328.529 541,-338.529 548,-338.529\" stroke=\"black\"/>\n",
       "</g>\n",
       "<!-- 140047257256176 -->\n",
       "<g class=\"node\" id=\"node13\"><title>140047257256176</title>\n",
       "<polygon fill=\"none\" points=\"463,-219.5 463,-255.5 626,-255.5 626,-219.5 463,-219.5\" stroke=\"black\"/>\n",
       "<text font-family=\"Times,serif\" font-size=\"14.00\" text-anchor=\"middle\" x=\"544.5\" y=\"-233.8\">dropout_7 (Dropout)</text>\n",
       "</g>\n",
       "<!-- 140047257256904&#45;&gt;140047257256176 -->\n",
       "<g class=\"edge\" id=\"edge14\"><title>140047257256904-&gt;140047257256176</title>\n",
       "<path d=\"M544.5,-292.313C544.5,-284.289 544.5,-274.547 544.5,-265.569\" fill=\"none\" stroke=\"black\"/>\n",
       "<polygon fill=\"black\" points=\"548,-265.529 544.5,-255.529 541,-265.529 548,-265.529\" stroke=\"black\"/>\n",
       "</g>\n",
       "<!-- 140047253964952 -->\n",
       "<g class=\"node\" id=\"node14\"><title>140047253964952</title>\n",
       "<polygon fill=\"none\" points=\"443.5,-146.5 443.5,-182.5 645.5,-182.5 645.5,-146.5 443.5,-146.5\" stroke=\"black\"/>\n",
       "<text font-family=\"Times,serif\" font-size=\"14.00\" text-anchor=\"middle\" x=\"544.5\" y=\"-160.8\">activation_13 (Activation)</text>\n",
       "</g>\n",
       "<!-- 140047257256176&#45;&gt;140047253964952 -->\n",
       "<g class=\"edge\" id=\"edge15\"><title>140047257256176-&gt;140047253964952</title>\n",
       "<path d=\"M544.5,-219.313C544.5,-211.289 544.5,-201.547 544.5,-192.569\" fill=\"none\" stroke=\"black\"/>\n",
       "<polygon fill=\"black\" points=\"548,-192.529 544.5,-182.529 541,-192.529 548,-192.529\" stroke=\"black\"/>\n",
       "</g>\n",
       "<!-- 140047261051088 -->\n",
       "<g class=\"node\" id=\"node15\"><title>140047261051088</title>\n",
       "<polygon fill=\"none\" points=\"473,-73.5 473,-109.5 616,-109.5 616,-73.5 473,-73.5\" stroke=\"black\"/>\n",
       "<text font-family=\"Times,serif\" font-size=\"14.00\" text-anchor=\"middle\" x=\"544.5\" y=\"-87.8\">dense_14 (Dense)</text>\n",
       "</g>\n",
       "<!-- 140047253964952&#45;&gt;140047261051088 -->\n",
       "<g class=\"edge\" id=\"edge16\"><title>140047253964952-&gt;140047261051088</title>\n",
       "<path d=\"M544.5,-146.313C544.5,-138.289 544.5,-128.547 544.5,-119.569\" fill=\"none\" stroke=\"black\"/>\n",
       "<polygon fill=\"black\" points=\"548,-119.529 544.5,-109.529 541,-119.529 548,-119.529\" stroke=\"black\"/>\n",
       "</g>\n",
       "<!-- 140047261051368 -->\n",
       "<g class=\"node\" id=\"node16\"><title>140047261051368</title>\n",
       "<polygon fill=\"none\" points=\"443.5,-0.5 443.5,-36.5 645.5,-36.5 645.5,-0.5 443.5,-0.5\" stroke=\"black\"/>\n",
       "<text font-family=\"Times,serif\" font-size=\"14.00\" text-anchor=\"middle\" x=\"544.5\" y=\"-14.8\">activation_14 (Activation)</text>\n",
       "</g>\n",
       "<!-- 140047261051088&#45;&gt;140047261051368 -->\n",
       "<g class=\"edge\" id=\"edge17\"><title>140047261051088-&gt;140047261051368</title>\n",
       "<path d=\"M544.5,-73.3129C544.5,-65.2895 544.5,-55.5475 544.5,-46.5691\" fill=\"none\" stroke=\"black\"/>\n",
       "<polygon fill=\"black\" points=\"548,-46.5288 544.5,-36.5288 541,-46.5289 548,-46.5288\" stroke=\"black\"/>\n",
       "</g>\n",
       "</g>\n",
       "</svg>"
      ],
      "text/plain": [
       "<IPython.core.display.SVG object>"
      ]
     },
     "execution_count": 58,
     "metadata": {},
     "output_type": "execute_result"
    }
   ],
   "source": [
    "from IPython.display import SVG\n",
    "from keras.utils.visualize_util import model_to_dot\n",
    "SVG(model_to_dot(model).create(prog='dot', format='svg'))"
   ]
  },
  {
   "cell_type": "markdown",
   "metadata": {},
   "source": [
    "## 模型输入"
   ]
  },
  {
   "cell_type": "code",
   "execution_count": 59,
   "metadata": {
    "collapsed": false
   },
   "outputs": [
    {
     "name": "stdout",
     "output_type": "stream",
     "text": [
      "<class 'int'>\n"
     ]
    }
   ],
   "source": [
    "print(type(train_y[0]))\n",
    "train_y_model = np_utils.to_categorical(train_y, nb_classes)\n",
    "dev_y_model = np_utils.to_categorical(dev_y, nb_classes)\n",
    "train_X_model = sequence.pad_sequences(train_X, maxlen=max_len)\n",
    "dev_X_model = sequence.pad_sequences(dev_X, maxlen=max_len)\n",
    "train_sentiment_X_model = sequence.pad_sequences(train_sentiment_X,maxlen=max_len)\n",
    "train_tag_X_model= sequence.pad_sequences(train_tag_X,maxlen=max_len)\n",
    "dev_sentiment_X_model = sequence.pad_sequences(dev_sentiment_X,maxlen=max_len)\n",
    "dev_tag_X_model = sequence.pad_sequences(dev_tag_X,maxlen=max_len)\n"
   ]
  },
  {
   "cell_type": "code",
   "execution_count": 60,
   "metadata": {
    "collapsed": true
   },
   "outputs": [],
   "source": [
    "def my_generator(X1=None,X2=None,X3=None,y=None):\n",
    "    i = 0\n",
    "    max_i = int(len(X1)/batch_size)\n",
    "    while True:\n",
    "        i = i % max_i\n",
    "        x1_batch = X1[i*batch_size:(i+1)*batch_size]\n",
    "        x2_batch = X2[i*batch_size:(i+1)*batch_size]\n",
    "        x3_batch = X3[i*batch_size:(i+1)*batch_size]\n",
    "        y_batch = y[i*batch_size:(i+1)*batch_size]\n",
    "        yield ([x1_batch,x2_batch,x3_batch],y_batch)\n",
    "        i = i + 1\n",
    "        "
   ]
  },
  {
   "cell_type": "markdown",
   "metadata": {},
   "source": [
    "## 训练模型"
   ]
  },
  {
   "cell_type": "code",
   "execution_count": null,
   "metadata": {
    "collapsed": false
   },
   "outputs": [
    {
     "name": "stdout",
     "output_type": "stream",
     "text": [
      "Epoch 1/100\n",
      "3200/3200 [==============================] - 334s - loss: 1.5742 - acc: 0.2650 - val_loss: 1.5627 - val_acc: 0.2598\n",
      "Epoch 2/100\n",
      "3200/3200 [==============================] - 334s - loss: 1.5498 - acc: 0.2972 - val_loss: 1.5499 - val_acc: 0.3124\n",
      "Epoch 3/100\n",
      "3200/3200 [==============================] - 334s - loss: 1.5352 - acc: 0.3137 - val_loss: 1.5339 - val_acc: 0.3152\n",
      "Epoch 4/100\n",
      "3200/3200 [==============================] - 334s - loss: 1.5132 - acc: 0.3184 - val_loss: 1.5171 - val_acc: 0.3233\n",
      "Epoch 5/100\n",
      "3200/3200 [==============================] - 334s - loss: 1.4971 - acc: 0.3325 - val_loss: 1.5003 - val_acc: 0.3261\n",
      "Epoch 6/100\n",
      "3200/3200 [==============================] - 334s - loss: 1.4634 - acc: 0.3466 - val_loss: 1.4700 - val_acc: 0.3397\n",
      "Epoch 7/100\n",
      "3200/3200 [==============================] - 333s - loss: 1.4384 - acc: 0.3625 - val_loss: 1.4501 - val_acc: 0.3433\n",
      "Epoch 8/100\n",
      "3200/3200 [==============================] - 334s - loss: 1.4194 - acc: 0.3750 - val_loss: 1.4297 - val_acc: 0.3724\n",
      "Epoch 9/100\n",
      "3200/3200 [==============================] - 334s - loss: 1.3717 - acc: 0.4003 - val_loss: 1.4161 - val_acc: 0.3824\n",
      "Epoch 10/100\n",
      "3200/3200 [==============================] - 334s - loss: 1.3493 - acc: 0.4156 - val_loss: 1.4090 - val_acc: 0.3778\n",
      "Epoch 11/100\n",
      "3200/3200 [==============================] - 334s - loss: 1.3084 - acc: 0.4322 - val_loss: 1.3852 - val_acc: 0.3933\n",
      "Epoch 12/100\n",
      " 768/3200 [======>.......................] - ETA: 229s - loss: 1.2506 - acc: 0.4961"
     ]
    }
   ],
   "source": [
    "model.fit_generator(my_generator(train_X_model,train_sentiment_X_model,train_tag_X_model,train_y_model),samples_per_epoch = 32*100,nb_epoch=100,verbose=1,validation_data=([dev_X_model,dev_sentiment_X_model,dev_tag_X_model],dev_y_model))"
   ]
  },
  {
   "cell_type": "markdown",
   "metadata": {
    "collapsed": true
   },
   "source": [
    "## 实验结果 "
   ]
  },
  {
   "cell_type": "markdown",
   "metadata": {},
   "source": [
    "|time            |max_len      | batch_size   |  max_features | embedding_dims | nb_filter | filter_length | dense1_hindden |val_acc |\n",
    "| -             |-          |-          |-          |-           |-       |-         | -          |-     | \n",
    "| 2016-11-23 14：20  |36          |32         | 14526       |   200       |  150    |     2    |       300   | 0.4015|\n"
   ]
  },
  {
   "cell_type": "code",
   "execution_count": null,
   "metadata": {
    "collapsed": true
   },
   "outputs": [],
   "source": []
  }
 ],
 "metadata": {
  "anaconda-cloud": {},
  "kernelspec": {
   "display_name": "Python [Root]",
   "language": "python",
   "name": "Python [Root]"
  },
  "language_info": {
   "codemirror_mode": {
    "name": "ipython",
    "version": 3
   },
   "file_extension": ".py",
   "mimetype": "text/x-python",
   "name": "python",
   "nbconvert_exporter": "python",
   "pygments_lexer": "ipython3",
   "version": "3.5.2"
  }
 },
 "nbformat": 4,
 "nbformat_minor": 0
}
